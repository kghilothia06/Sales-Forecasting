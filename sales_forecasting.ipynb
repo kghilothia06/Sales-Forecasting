{
  "nbformat": 4,
  "nbformat_minor": 0,
  "metadata": {
    "colab": {
      "name": "sales-forecasting.ipynb",
      "provenance": [],
      "toc_visible": true
    },
    "kernelspec": {
      "name": "python3",
      "display_name": "Python 3"
    }
  },
  "cells": [
    {
      "cell_type": "code",
      "metadata": {
        "id": "w9-Na7aNP_aa"
      },
      "source": [
        "import pandas as pd\r\n",
        "import numpy as np\r\n",
        "import matplotlib.pyplot as plt"
      ],
      "execution_count": 1,
      "outputs": []
    },
    {
      "cell_type": "markdown",
      "metadata": {
        "id": "QD_QN1uuP69-"
      },
      "source": [
        "# EDA"
      ]
    },
    {
      "cell_type": "code",
      "metadata": {
        "id": "DfEvYkoFO_Tb"
      },
      "source": [
        "df = pd.read_excel('/content/drive/MyDrive/sales.xlsx')"
      ],
      "execution_count": 2,
      "outputs": []
    },
    {
      "cell_type": "code",
      "metadata": {
        "colab": {
          "base_uri": "https://localhost:8080/",
          "height": 785
        },
        "id": "YRhrGD4KQQNF",
        "outputId": "a645e3ee-3048-4e69-9067-a32142efb639"
      },
      "source": [
        "df"
      ],
      "execution_count": 3,
      "outputs": [
        {
          "output_type": "execute_result",
          "data": {
            "text/html": [
              "<div>\n",
              "<style scoped>\n",
              "    .dataframe tbody tr th:only-of-type {\n",
              "        vertical-align: middle;\n",
              "    }\n",
              "\n",
              "    .dataframe tbody tr th {\n",
              "        vertical-align: top;\n",
              "    }\n",
              "\n",
              "    .dataframe thead th {\n",
              "        text-align: right;\n",
              "    }\n",
              "</style>\n",
              "<table border=\"1\" class=\"dataframe\">\n",
              "  <thead>\n",
              "    <tr style=\"text-align: right;\">\n",
              "      <th></th>\n",
              "      <th>year</th>\n",
              "      <th>quarter</th>\n",
              "      <th>sales</th>\n",
              "    </tr>\n",
              "  </thead>\n",
              "  <tbody>\n",
              "    <tr>\n",
              "      <th>0</th>\n",
              "      <td>2015</td>\n",
              "      <td>1</td>\n",
              "      <td>244.450000</td>\n",
              "    </tr>\n",
              "    <tr>\n",
              "      <th>1</th>\n",
              "      <td>2015</td>\n",
              "      <td>2</td>\n",
              "      <td>1318.610000</td>\n",
              "    </tr>\n",
              "    <tr>\n",
              "      <th>2</th>\n",
              "      <td>2015</td>\n",
              "      <td>3</td>\n",
              "      <td>69.010000</td>\n",
              "    </tr>\n",
              "    <tr>\n",
              "      <th>3</th>\n",
              "      <td>2015</td>\n",
              "      <td>4</td>\n",
              "      <td>109.590000</td>\n",
              "    </tr>\n",
              "    <tr>\n",
              "      <th>4</th>\n",
              "      <td>2016</td>\n",
              "      <td>1</td>\n",
              "      <td>519.840000</td>\n",
              "    </tr>\n",
              "    <tr>\n",
              "      <th>5</th>\n",
              "      <td>2016</td>\n",
              "      <td>2</td>\n",
              "      <td>10648.280000</td>\n",
              "    </tr>\n",
              "    <tr>\n",
              "      <th>6</th>\n",
              "      <td>2016</td>\n",
              "      <td>3</td>\n",
              "      <td>390.820000</td>\n",
              "    </tr>\n",
              "    <tr>\n",
              "      <th>7</th>\n",
              "      <td>2016</td>\n",
              "      <td>4</td>\n",
              "      <td>10970.100000</td>\n",
              "    </tr>\n",
              "    <tr>\n",
              "      <th>8</th>\n",
              "      <td>2017</td>\n",
              "      <td>1</td>\n",
              "      <td>111721.278000</td>\n",
              "    </tr>\n",
              "    <tr>\n",
              "      <th>9</th>\n",
              "      <td>2017</td>\n",
              "      <td>2</td>\n",
              "      <td>185751.577000</td>\n",
              "    </tr>\n",
              "    <tr>\n",
              "      <th>10</th>\n",
              "      <td>2017</td>\n",
              "      <td>3</td>\n",
              "      <td>187791.443000</td>\n",
              "    </tr>\n",
              "    <tr>\n",
              "      <th>11</th>\n",
              "      <td>2017</td>\n",
              "      <td>4</td>\n",
              "      <td>458570.924000</td>\n",
              "    </tr>\n",
              "    <tr>\n",
              "      <th>12</th>\n",
              "      <td>2018</td>\n",
              "      <td>1</td>\n",
              "      <td>134335.873230</td>\n",
              "    </tr>\n",
              "    <tr>\n",
              "      <th>13</th>\n",
              "      <td>2018</td>\n",
              "      <td>2</td>\n",
              "      <td>214062.475160</td>\n",
              "    </tr>\n",
              "    <tr>\n",
              "      <th>14</th>\n",
              "      <td>2018</td>\n",
              "      <td>3</td>\n",
              "      <td>180409.238320</td>\n",
              "    </tr>\n",
              "    <tr>\n",
              "      <th>15</th>\n",
              "      <td>2018</td>\n",
              "      <td>4</td>\n",
              "      <td>431796.553960</td>\n",
              "    </tr>\n",
              "    <tr>\n",
              "      <th>16</th>\n",
              "      <td>2019</td>\n",
              "      <td>1</td>\n",
              "      <td>170508.078274</td>\n",
              "    </tr>\n",
              "    <tr>\n",
              "      <th>17</th>\n",
              "      <td>2019</td>\n",
              "      <td>2</td>\n",
              "      <td>385837.940800</td>\n",
              "    </tr>\n",
              "    <tr>\n",
              "      <th>18</th>\n",
              "      <td>2019</td>\n",
              "      <td>3</td>\n",
              "      <td>340634.529941</td>\n",
              "    </tr>\n",
              "    <tr>\n",
              "      <th>19</th>\n",
              "      <td>2019</td>\n",
              "      <td>4</td>\n",
              "      <td>885613.857366</td>\n",
              "    </tr>\n",
              "    <tr>\n",
              "      <th>20</th>\n",
              "      <td>2020</td>\n",
              "      <td>1</td>\n",
              "      <td>167752.671917</td>\n",
              "    </tr>\n",
              "    <tr>\n",
              "      <th>21</th>\n",
              "      <td>2020</td>\n",
              "      <td>2</td>\n",
              "      <td>282725.671215</td>\n",
              "    </tr>\n",
              "    <tr>\n",
              "      <th>22</th>\n",
              "      <td>2020</td>\n",
              "      <td>3</td>\n",
              "      <td>226828.323095</td>\n",
              "    </tr>\n",
              "    <tr>\n",
              "      <th>23</th>\n",
              "      <td>2020</td>\n",
              "      <td>4</td>\n",
              "      <td>647780.018182</td>\n",
              "    </tr>\n",
              "  </tbody>\n",
              "</table>\n",
              "</div>"
            ],
            "text/plain": [
              "    year  quarter          sales\n",
              "0   2015        1     244.450000\n",
              "1   2015        2    1318.610000\n",
              "2   2015        3      69.010000\n",
              "3   2015        4     109.590000\n",
              "4   2016        1     519.840000\n",
              "5   2016        2   10648.280000\n",
              "6   2016        3     390.820000\n",
              "7   2016        4   10970.100000\n",
              "8   2017        1  111721.278000\n",
              "9   2017        2  185751.577000\n",
              "10  2017        3  187791.443000\n",
              "11  2017        4  458570.924000\n",
              "12  2018        1  134335.873230\n",
              "13  2018        2  214062.475160\n",
              "14  2018        3  180409.238320\n",
              "15  2018        4  431796.553960\n",
              "16  2019        1  170508.078274\n",
              "17  2019        2  385837.940800\n",
              "18  2019        3  340634.529941\n",
              "19  2019        4  885613.857366\n",
              "20  2020        1  167752.671917\n",
              "21  2020        2  282725.671215\n",
              "22  2020        3  226828.323095\n",
              "23  2020        4  647780.018182"
            ]
          },
          "metadata": {
            "tags": []
          },
          "execution_count": 3
        }
      ]
    },
    {
      "cell_type": "code",
      "metadata": {
        "colab": {
          "base_uri": "https://localhost:8080/",
          "height": 294
        },
        "id": "NHS00HhtQRwl",
        "outputId": "83ce3f54-7346-427c-a004-d2ae9fa3f3b4"
      },
      "source": [
        "df.describe()"
      ],
      "execution_count": 4,
      "outputs": [
        {
          "output_type": "execute_result",
          "data": {
            "text/html": [
              "<div>\n",
              "<style scoped>\n",
              "    .dataframe tbody tr th:only-of-type {\n",
              "        vertical-align: middle;\n",
              "    }\n",
              "\n",
              "    .dataframe tbody tr th {\n",
              "        vertical-align: top;\n",
              "    }\n",
              "\n",
              "    .dataframe thead th {\n",
              "        text-align: right;\n",
              "    }\n",
              "</style>\n",
              "<table border=\"1\" class=\"dataframe\">\n",
              "  <thead>\n",
              "    <tr style=\"text-align: right;\">\n",
              "      <th></th>\n",
              "      <th>year</th>\n",
              "      <th>quarter</th>\n",
              "      <th>sales</th>\n",
              "    </tr>\n",
              "  </thead>\n",
              "  <tbody>\n",
              "    <tr>\n",
              "      <th>count</th>\n",
              "      <td>24.000000</td>\n",
              "      <td>24.00000</td>\n",
              "      <td>24.000000</td>\n",
              "    </tr>\n",
              "    <tr>\n",
              "      <th>mean</th>\n",
              "      <td>2017.500000</td>\n",
              "      <td>2.50000</td>\n",
              "      <td>209849.631394</td>\n",
              "    </tr>\n",
              "    <tr>\n",
              "      <th>std</th>\n",
              "      <td>1.744557</td>\n",
              "      <td>1.14208</td>\n",
              "      <td>226138.327335</td>\n",
              "    </tr>\n",
              "    <tr>\n",
              "      <th>min</th>\n",
              "      <td>2015.000000</td>\n",
              "      <td>1.00000</td>\n",
              "      <td>69.010000</td>\n",
              "    </tr>\n",
              "    <tr>\n",
              "      <th>25%</th>\n",
              "      <td>2016.000000</td>\n",
              "      <td>1.75000</td>\n",
              "      <td>8315.862500</td>\n",
              "    </tr>\n",
              "    <tr>\n",
              "      <th>50%</th>\n",
              "      <td>2017.500000</td>\n",
              "      <td>2.50000</td>\n",
              "      <td>175458.658297</td>\n",
              "    </tr>\n",
              "    <tr>\n",
              "      <th>75%</th>\n",
              "      <td>2019.000000</td>\n",
              "      <td>3.25000</td>\n",
              "      <td>297202.885896</td>\n",
              "    </tr>\n",
              "    <tr>\n",
              "      <th>max</th>\n",
              "      <td>2020.000000</td>\n",
              "      <td>4.00000</td>\n",
              "      <td>885613.857366</td>\n",
              "    </tr>\n",
              "  </tbody>\n",
              "</table>\n",
              "</div>"
            ],
            "text/plain": [
              "              year   quarter          sales\n",
              "count    24.000000  24.00000      24.000000\n",
              "mean   2017.500000   2.50000  209849.631394\n",
              "std       1.744557   1.14208  226138.327335\n",
              "min    2015.000000   1.00000      69.010000\n",
              "25%    2016.000000   1.75000    8315.862500\n",
              "50%    2017.500000   2.50000  175458.658297\n",
              "75%    2019.000000   3.25000  297202.885896\n",
              "max    2020.000000   4.00000  885613.857366"
            ]
          },
          "metadata": {
            "tags": []
          },
          "execution_count": 4
        }
      ]
    },
    {
      "cell_type": "markdown",
      "metadata": {
        "id": "eyJeJTp1RlXN"
      },
      "source": [
        "line plot of sales v/s year"
      ]
    },
    {
      "cell_type": "code",
      "metadata": {
        "colab": {
          "base_uri": "https://localhost:8080/",
          "height": 295
        },
        "id": "HlS-qvltQYr8",
        "outputId": "4b0f28fb-a144-40c2-8353-074dcd9f6e7d"
      },
      "source": [
        "plt.plot(df['year'],df['sales'])\r\n",
        "plt.xlabel('sales in $')\r\n",
        "plt.ylabel('year')\r\n",
        "plt.title('sales v/s year plot')\r\n",
        "plt.show()"
      ],
      "execution_count": 5,
      "outputs": [
        {
          "output_type": "display_data",
          "data": {
            "image/png": "[encoded data removed]",
            "text/plain": [
              "<Figure size 432x288 with 1 Axes>"
            ]
          },
          "metadata": {
            "tags": [],
            "needs_background": "light"
          }
        }
      ]
    },
    {
      "cell_type": "code",
      "metadata": {
        "colab": {
          "base_uri": "https://localhost:8080/"
        },
        "id": "DwMPyu9ItOlp",
        "outputId": "d279f272-fec7-42b5-8f37-dde718aed408"
      },
      "source": [
        "#filter out 'sales' column\r\n",
        "series = df['sales']\r\n",
        "series"
      ],
      "execution_count": 6,
      "outputs": [
        {
          "output_type": "execute_result",
          "data": {
            "text/plain": [
              "0        244.450000\n",
              "1       1318.610000\n",
              "2         69.010000\n",
              "3        109.590000\n",
              "4        519.840000\n",
              "5      10648.280000\n",
              "6        390.820000\n",
              "7      10970.100000\n",
              "8     111721.278000\n",
              "9     185751.577000\n",
              "10    187791.443000\n",
              "11    458570.924000\n",
              "12    134335.873230\n",
              "13    214062.475160\n",
              "14    180409.238320\n",
              "15    431796.553960\n",
              "16    170508.078274\n",
              "17    385837.940800\n",
              "18    340634.529941\n",
              "19    885613.857366\n",
              "20    167752.671917\n",
              "21    282725.671215\n",
              "22    226828.323095\n",
              "23    647780.018182\n",
              "Name: sales, dtype: float64"
            ]
          },
          "metadata": {
            "tags": []
          },
          "execution_count": 6
        }
      ]
    },
    {
      "cell_type": "markdown",
      "metadata": {
        "id": "DP75zU9tUtQ2"
      },
      "source": [
        "# LSTM Data Preparation"
      ]
    },
    {
      "cell_type": "markdown",
      "metadata": {
        "id": "LRntcjvqbkc9"
      },
      "source": [
        "# Step-1 : Transform the time series data so that it is stationary\r\n",
        "\r\n",
        "> Stationary data is easier to model and will very likely result in more skillful forecasts.\r\n",
        "\r\n",
        "> A standard way to remove a trend is by differencing the data. That is the observation from the previous time step (t-1) is subtracted from the current observation (t). This removes the trend and we are left with a difference series, or the changes to the observations from one time step to the next.\r\n",
        "\r\n",
        "> Then we invert this process in order to take forecasts made on the differenced series back into their original scale."
      ]
    },
    {
      "cell_type": "code",
      "metadata": {
        "id": "-iBrmAtNbt2l"
      },
      "source": [
        "# functionality to create a differenced data\r\n",
        "def difference(df, interval=1):\r\n",
        "\tdiff = list()\r\n",
        "\tfor i in range(interval, len(df)):\r\n",
        "\t\tvalue = df[i] - df[i - interval]\r\n",
        "\t\tdiff.append(value)\r\n",
        "\treturn pd.Series(diff)"
      ],
      "execution_count": 7,
      "outputs": []
    },
    {
      "cell_type": "code",
      "metadata": {
        "id": "ZLr0YyqSbtyd"
      },
      "source": [
        "# invert differenced value\r\n",
        "def inverse_difference(history, yhat, interval=1):\r\n",
        "\treturn yhat + history[-interval]\r\n"
      ],
      "execution_count": 8,
      "outputs": []
    },
    {
      "cell_type": "code",
      "metadata": {
        "id": "YUhrxVLNt9wH"
      },
      "source": [
        "#calling the above functionality\r\n",
        "raw_values = series.values\r\n",
        "diff_values = difference(raw_values, 1)"
      ],
      "execution_count": 9,
      "outputs": []
    },
    {
      "cell_type": "code",
      "metadata": {
        "colab": {
          "base_uri": "https://localhost:8080/"
        },
        "id": "NtF3-3fWuXCC",
        "outputId": "66cda4b1-fda8-40ac-873b-e3a3261252f6"
      },
      "source": [
        "diff_values"
      ],
      "execution_count": 10,
      "outputs": [
        {
          "output_type": "execute_result",
          "data": {
            "text/plain": [
              "0       1074.160000\n",
              "1      -1249.600000\n",
              "2         40.580000\n",
              "3        410.250000\n",
              "4      10128.440000\n",
              "5     -10257.460000\n",
              "6      10579.280000\n",
              "7     100751.178000\n",
              "8      74030.299000\n",
              "9       2039.866000\n",
              "10    270779.481000\n",
              "11   -324235.050770\n",
              "12     79726.601930\n",
              "13    -33653.236840\n",
              "14    251387.315640\n",
              "15   -261288.475686\n",
              "16    215329.862526\n",
              "17    -45203.410859\n",
              "18    544979.327425\n",
              "19   -717861.185449\n",
              "20    114972.999298\n",
              "21    -55897.348120\n",
              "22    420951.695087\n",
              "dtype: float64"
            ]
          },
          "metadata": {
            "tags": []
          },
          "execution_count": 10
        }
      ]
    },
    {
      "cell_type": "markdown",
      "metadata": {
        "id": "t8QnRkmRUzqn"
      },
      "source": [
        "# Step - 2: Transform the time series into a supervised learning problem\r\n",
        "\r\n",
        "> For a time series problem, we use observation at time step 't-1' as current input and observation at time step 't' as current output. The same is implemented using below functionality"
      ]
    },
    {
      "cell_type": "code",
      "metadata": {
        "id": "pPnHiXUeQ_ob"
      },
      "source": [
        "# functionality to frame a sequence as a supervised learning problem\r\n",
        "def timeseries_to_supervised(data, lag=1):\r\n",
        "  \r\n",
        "  df=pd.DataFrame(data)\r\n",
        "  #shifting column values by a lag=1\r\n",
        "  columns = [df.shift(i) for i in range(1, lag+1)]\r\n",
        "  #append shifted values to df\r\n",
        "  columns.append(df)\r\n",
        "  \r\n",
        "  #concatenate both of them\r\n",
        "  df = pd.concat(columns, axis=1)\r\n",
        "\r\n",
        "  #fill the NaN at the first entry with zero  \r\n",
        "  df.fillna(0, inplace=True)\r\n",
        "\r\n",
        "  return df\r\n"
      ],
      "execution_count": 11,
      "outputs": []
    },
    {
      "cell_type": "code",
      "metadata": {
        "id": "HHBNr8NXWd93"
      },
      "source": [
        "#calling the above functionality\r\n",
        "supervised = timeseries_to_supervised(diff_values, 1)\r\n",
        "supervised_values = supervised.values"
      ],
      "execution_count": 12,
      "outputs": []
    },
    {
      "cell_type": "code",
      "metadata": {
        "colab": {
          "base_uri": "https://localhost:8080/"
        },
        "id": "k8eDXeicaNO3",
        "outputId": "971532ea-25d5-4301-d6d8-8dad1e501fc7"
      },
      "source": [
        "supervised_values"
      ],
      "execution_count": 13,
      "outputs": [
        {
          "output_type": "execute_result",
          "data": {
            "text/plain": [
              "array([[ 0.00000000e+00,  1.07416000e+03],\n",
              "       [ 1.07416000e+03, -1.24960000e+03],\n",
              "       [-1.24960000e+03,  4.05800000e+01],\n",
              "       [ 4.05800000e+01,  4.10250000e+02],\n",
              "       [ 4.10250000e+02,  1.01284400e+04],\n",
              "       [ 1.01284400e+04, -1.02574600e+04],\n",
              "       [-1.02574600e+04,  1.05792800e+04],\n",
              "       [ 1.05792800e+04,  1.00751178e+05],\n",
              "       [ 1.00751178e+05,  7.40302990e+04],\n",
              "       [ 7.40302990e+04,  2.03986600e+03],\n",
              "       [ 2.03986600e+03,  2.70779481e+05],\n",
              "       [ 2.70779481e+05, -3.24235051e+05],\n",
              "       [-3.24235051e+05,  7.97266019e+04],\n",
              "       [ 7.97266019e+04, -3.36532368e+04],\n",
              "       [-3.36532368e+04,  2.51387316e+05],\n",
              "       [ 2.51387316e+05, -2.61288476e+05],\n",
              "       [-2.61288476e+05,  2.15329863e+05],\n",
              "       [ 2.15329863e+05, -4.52034109e+04],\n",
              "       [-4.52034109e+04,  5.44979327e+05],\n",
              "       [ 5.44979327e+05, -7.17861185e+05],\n",
              "       [-7.17861185e+05,  1.14972999e+05],\n",
              "       [ 1.14972999e+05, -5.58973481e+04],\n",
              "       [-5.58973481e+04,  4.20951695e+05]])"
            ]
          },
          "metadata": {
            "tags": []
          },
          "execution_count": 13
        }
      ]
    },
    {
      "cell_type": "markdown",
      "metadata": {
        "id": "tJV_yJJcvKL6"
      },
      "source": [
        "###  Split data into training and testing sets\r\n",
        "\r\n",
        "qaurters of year 2020 are taken as test set and before that are taken as training sets"
      ]
    },
    {
      "cell_type": "code",
      "metadata": {
        "id": "mlsWRlPtbtu1"
      },
      "source": [
        "train, test = supervised_values[0:20], supervised_values[20:]"
      ],
      "execution_count": 14,
      "outputs": []
    },
    {
      "cell_type": "code",
      "metadata": {
        "colab": {
          "base_uri": "https://localhost:8080/"
        },
        "id": "aNYQameIbtra",
        "outputId": "4d315c48-56fa-41fb-b8ca-d456c37d9e35"
      },
      "source": [
        "train"
      ],
      "execution_count": 15,
      "outputs": [
        {
          "output_type": "execute_result",
          "data": {
            "text/plain": [
              "array([[ 0.00000000e+00,  1.07416000e+03],\n",
              "       [ 1.07416000e+03, -1.24960000e+03],\n",
              "       [-1.24960000e+03,  4.05800000e+01],\n",
              "       [ 4.05800000e+01,  4.10250000e+02],\n",
              "       [ 4.10250000e+02,  1.01284400e+04],\n",
              "       [ 1.01284400e+04, -1.02574600e+04],\n",
              "       [-1.02574600e+04,  1.05792800e+04],\n",
              "       [ 1.05792800e+04,  1.00751178e+05],\n",
              "       [ 1.00751178e+05,  7.40302990e+04],\n",
              "       [ 7.40302990e+04,  2.03986600e+03],\n",
              "       [ 2.03986600e+03,  2.70779481e+05],\n",
              "       [ 2.70779481e+05, -3.24235051e+05],\n",
              "       [-3.24235051e+05,  7.97266019e+04],\n",
              "       [ 7.97266019e+04, -3.36532368e+04],\n",
              "       [-3.36532368e+04,  2.51387316e+05],\n",
              "       [ 2.51387316e+05, -2.61288476e+05],\n",
              "       [-2.61288476e+05,  2.15329863e+05],\n",
              "       [ 2.15329863e+05, -4.52034109e+04],\n",
              "       [-4.52034109e+04,  5.44979327e+05],\n",
              "       [ 5.44979327e+05, -7.17861185e+05]])"
            ]
          },
          "metadata": {
            "tags": []
          },
          "execution_count": 15
        }
      ]
    },
    {
      "cell_type": "code",
      "metadata": {
        "colab": {
          "base_uri": "https://localhost:8080/"
        },
        "id": "yU4nhZgObtng",
        "outputId": "6b486df9-9218-4e87-9a78-c36d0ebb2d16"
      },
      "source": [
        "test"
      ],
      "execution_count": 16,
      "outputs": [
        {
          "output_type": "execute_result",
          "data": {
            "text/plain": [
              "array([[-717861.185449,  114972.999298],\n",
              "       [ 114972.999298,  -55897.34812 ],\n",
              "       [ -55897.34812 ,  420951.695087]])"
            ]
          },
          "metadata": {
            "tags": []
          },
          "execution_count": 16
        }
      ]
    },
    {
      "cell_type": "markdown",
      "metadata": {
        "id": "4zKHZ_3tburw"
      },
      "source": [
        "# Step-3 : Transform the observations to have a specific scale\r\n",
        "\r\n",
        "> We can transform the dataset to the range [-1, 1] using the MinMaxScaler class.\r\n",
        "\r\n",
        "> Then, we must invert the scale on forecasts to return the values back to the original scale so that the results can be interpreted and a comparable error score can be calculated."
      ]
    },
    {
      "cell_type": "code",
      "metadata": {
        "id": "ntfeK_q8qxz3"
      },
      "source": [
        "from sklearn.preprocessing import MinMaxScaler"
      ],
      "execution_count": 17,
      "outputs": []
    },
    {
      "cell_type": "code",
      "metadata": {
        "id": "26IKQU-Xa9YN"
      },
      "source": [
        "# scale train and test data to [-1, 1]\r\n",
        "def scale(train, test):\r\n",
        "\t# fit scaler\r\n",
        "\tscaler = MinMaxScaler(feature_range=(-1, 1))\r\n",
        "\tscaler = scaler.fit(train)\r\n",
        "\t# transform train\r\n",
        "\ttrain = train.reshape(train.shape[0], train.shape[1])\r\n",
        "\ttrain_scaled = scaler.transform(train)\r\n",
        "\t# transform test\r\n",
        "\ttest = test.reshape(test.shape[0], test.shape[1])\r\n",
        "\ttest_scaled = scaler.transform(test)\r\n",
        "\treturn scaler, train_scaled, test_scaled"
      ],
      "execution_count": 18,
      "outputs": []
    },
    {
      "cell_type": "code",
      "metadata": {
        "id": "5Ry1q-Fhq_wx"
      },
      "source": [
        "# inverse scaling for a forecasted value\r\n",
        "def invert_scale(scaler, X, value):\r\n",
        "\tnew_row = [x for x in X] + [value]\r\n",
        "\tarray = np.array(new_row)\r\n",
        "\tarray = array.reshape(1, len(array))\r\n",
        "\tinverted = scaler.inverse_transform(array)\r\n",
        "\treturn inverted[0, -1]\r\n",
        " "
      ],
      "execution_count": 19,
      "outputs": []
    },
    {
      "cell_type": "code",
      "metadata": {
        "id": "RZ-QOlCkq_t0"
      },
      "source": [
        "#calling above functionality\r\n",
        "scaler, train_scaled, test_scaled = scale(train, test)"
      ],
      "execution_count": 20,
      "outputs": []
    },
    {
      "cell_type": "code",
      "metadata": {
        "colab": {
          "base_uri": "https://localhost:8080/"
        },
        "id": "KxL7-WyPq_r9",
        "outputId": "8b90733b-9eee-4b92-e9c1-387694b08344"
      },
      "source": [
        "train_scaled"
      ],
      "execution_count": 21,
      "outputs": [
        {
          "output_type": "execute_result",
          "data": {
            "text/plain": [
              "array([[-0.25395838,  0.13860038],\n",
              "       [-0.25148682,  0.13492017],\n",
              "       [-0.25683362,  0.13696347],\n",
              "       [-0.25386501,  0.13754893],\n",
              "       [-0.25301443,  0.15293993],\n",
              "       [-0.23065357,  0.12065414],\n",
              "       [-0.27756006,  0.15365394],\n",
              "       [-0.22961622,  0.29646199],\n",
              "       [-0.02213714,  0.2541433 ],\n",
              "       [-0.08361997,  0.1401298 ],\n",
              "       [-0.2492648 ,  0.56574113],\n",
              "       [ 0.3690858 , -0.37660198],\n",
              "       [-1.        ,  0.26316471],\n",
              "       [-0.07051318,  0.08360152],\n",
              "       [-0.33139207,  0.53502915],\n",
              "       [ 0.32446582, -0.27691153],\n",
              "       [-0.85516444,  0.47792384],\n",
              "       [ 0.2415002 ,  0.06530915],\n",
              "       [-0.35796819,  1.        ],\n",
              "       [ 1.        , -1.        ]])"
            ]
          },
          "metadata": {
            "tags": []
          },
          "execution_count": 21
        }
      ]
    },
    {
      "cell_type": "code",
      "metadata": {
        "colab": {
          "base_uri": "https://localhost:8080/"
        },
        "id": "0JHDA0ieq_qH",
        "outputId": "9f0b4027-15c6-48a9-9eda-8d4ef518086f"
      },
      "source": [
        "test_scaled"
      ],
      "execution_count": 22,
      "outputs": [
        {
          "output_type": "execute_result",
          "data": {
            "text/plain": [
              "array([[-1.90570553,  0.31898554],\n",
              "       [ 0.01058625,  0.04837282],\n",
              "       [-0.38257417,  0.80357356]])"
            ]
          },
          "metadata": {
            "tags": []
          },
          "execution_count": 22
        }
      ]
    },
    {
      "cell_type": "markdown",
      "metadata": {
        "id": "UPYBsIspxE7Q"
      },
      "source": [
        "# Building LSTM model"
      ]
    },
    {
      "cell_type": "code",
      "metadata": {
        "id": "bs9YELLuw-o9"
      },
      "source": [
        "from keras.models import Sequential\r\n",
        "from keras.layers import *"
      ],
      "execution_count": 23,
      "outputs": []
    },
    {
      "cell_type": "code",
      "metadata": {
        "id": "T53nhyVlzaGs"
      },
      "source": [
        "X, y = train_scaled[:,0:-1], train_scaled[:,-1]"
      ],
      "execution_count": 24,
      "outputs": []
    },
    {
      "cell_type": "code",
      "metadata": {
        "colab": {
          "base_uri": "https://localhost:8080/"
        },
        "id": "8A7UW2j7z8P_",
        "outputId": "62c2277d-c860-4b7e-d038-94ccd83c4138"
      },
      "source": [
        "X.shape"
      ],
      "execution_count": 25,
      "outputs": [
        {
          "output_type": "execute_result",
          "data": {
            "text/plain": [
              "(20, 1)"
            ]
          },
          "metadata": {
            "tags": []
          },
          "execution_count": 25
        }
      ]
    },
    {
      "cell_type": "code",
      "metadata": {
        "id": "-myAc-Nu0m2l"
      },
      "source": [
        "X = X.reshape(X.shape[0], 1, X.shape[1])"
      ],
      "execution_count": 26,
      "outputs": []
    },
    {
      "cell_type": "code",
      "metadata": {
        "colab": {
          "base_uri": "https://localhost:8080/"
        },
        "id": "SYgksCQR0wfa",
        "outputId": "15585c11-b315-4f40-9e6b-9518e4829ba4"
      },
      "source": [
        "X.shape"
      ],
      "execution_count": 27,
      "outputs": [
        {
          "output_type": "execute_result",
          "data": {
            "text/plain": [
              "(20, 1, 1)"
            ]
          },
          "metadata": {
            "tags": []
          },
          "execution_count": 27
        }
      ]
    },
    {
      "cell_type": "code",
      "metadata": {
        "colab": {
          "base_uri": "https://localhost:8080/"
        },
        "id": "J734mLg1yho8",
        "outputId": "89204469-28d3-45ad-a747-eb03899c9d03"
      },
      "source": [
        "model = Sequential()\r\n",
        "model.add(LSTM(units=4, batch_input_shape = (1, X.shape[1], X.shape[2]), stateful=True))\r\n",
        "model.add(Dense(1))\r\n",
        "model.compile(loss='mean_squared_error', optimizer='adam', metrics=['mse'])\r\n",
        "model.summary()"
      ],
      "execution_count": 28,
      "outputs": [
        {
          "output_type": "stream",
          "text": [
            "Model: \"sequential\"\n",
            "_________________________________________________________________\n",
            "Layer (type)                 Output Shape              Param #   \n",
            "=================================================================\n",
            "lstm (LSTM)                  (1, 4)                    96        \n",
            "_________________________________________________________________\n",
            "dense (Dense)                (1, 1)                    5         \n",
            "=================================================================\n",
            "Total params: 101\n",
            "Trainable params: 101\n",
            "Non-trainable params: 0\n",
            "_________________________________________________________________\n"
          ],
          "name": "stdout"
        }
      ]
    },
    {
      "cell_type": "code",
      "metadata": {
        "id": "ikdiLjMz1GuN"
      },
      "source": [
        "hist = model.fit(X, y, epochs=100, batch_size=1, verbose=0, shuffle=False)"
      ],
      "execution_count": 29,
      "outputs": []
    },
    {
      "cell_type": "code",
      "metadata": {
        "colab": {
          "base_uri": "https://localhost:8080/",
          "height": 295
        },
        "id": "_LgV9Dbg54XJ",
        "outputId": "7fefb6b9-b889-4a21-fd36-165d7854bda2"
      },
      "source": [
        "# plot metrics\r\n",
        "plt.plot(hist.history['mse'])\r\n",
        "plt.xlabel('number of epochs')\r\n",
        "plt.ylabel('mean squared error')\r\n",
        "plt.title('MSE v/s number of epochs')\r\n",
        "plt.show()"
      ],
      "execution_count": 30,
      "outputs": [
        {
          "output_type": "display_data",
          "data": {
            "image/png": "[encoded data removed]",
            "text/plain": [
              "<Figure size 432x288 with 1 Axes>"
            ]
          },
          "metadata": {
            "tags": [],
            "needs_background": "light"
          }
        }
      ]
    },
    {
      "cell_type": "code",
      "metadata": {
        "id": "ADwKrmS316De",
        "colab": {
          "base_uri": "https://localhost:8080/"
        },
        "outputId": "c63ba2cf-4327-49e9-830d-a8e661a825a9"
      },
      "source": [
        "# forecast the entire training dataset to build up state for forecasting\r\n",
        "train_reshaped = train_scaled[:, 0].reshape(len(train_scaled), 1, 1)\r\n",
        "model.predict(train_reshaped, batch_size=1)"
      ],
      "execution_count": 31,
      "outputs": [
        {
          "output_type": "execute_result",
          "data": {
            "text/plain": [
              "array([[ 0.22225425],\n",
              "       [ 0.32297093],\n",
              "       [ 0.31302395],\n",
              "       [ 0.29202455],\n",
              "       [ 0.28057078],\n",
              "       [ 0.25514668],\n",
              "       [ 0.29372552],\n",
              "       [ 0.24673809],\n",
              "       [ 0.05873302],\n",
              "       [ 0.15278158],\n",
              "       [ 0.28671324],\n",
              "       [-0.31953102],\n",
              "       [ 0.50769186],\n",
              "       [ 0.17711775],\n",
              "       [ 0.36266547],\n",
              "       [-0.2916252 ],\n",
              "       [ 0.51903373],\n",
              "       [-0.16445337],\n",
              "       [ 0.38978344],\n",
              "       [-0.8230306 ]], dtype=float32)"
            ]
          },
          "metadata": {
            "tags": []
          },
          "execution_count": 31
        }
      ]
    },
    {
      "cell_type": "code",
      "metadata": {
        "id": "Ws1cp5xk3Pxs"
      },
      "source": [
        "# functionality to make a one-step forecast\r\n",
        "def forecast_lstm(model, batch_size, X):\r\n",
        "\tX = X.reshape(1, 1, len(X))\r\n",
        "\tyhat = model.predict(X, batch_size=batch_size)\r\n",
        "\treturn yhat[0,0]"
      ],
      "execution_count": 32,
      "outputs": []
    },
    {
      "cell_type": "code",
      "metadata": {
        "colab": {
          "base_uri": "https://localhost:8080/"
        },
        "id": "jIUqi2cB26oF",
        "outputId": "19a288d5-f799-49c0-9649-83d7f58d16d4"
      },
      "source": [
        "# walk-forward validation on the test data\r\n",
        "predictions = list()\r\n",
        "for i in range(len(test_scaled)):\r\n",
        "\t# make one-step forecast\r\n",
        "\tX, y = test_scaled[i, 0:-1], test_scaled[i, -1]\r\n",
        "\tyhat = forecast_lstm(model, 1, X)\r\n",
        "\t# invert scaling\r\n",
        "\tyhat = invert_scale(scaler, X, yhat)\r\n",
        "\t# invert differencing\r\n",
        "\tyhat = inverse_difference(raw_values, yhat, len(test_scaled)+1-i)\r\n",
        "\t# store forecast\r\n",
        "\tpredictions.append(yhat)\r\n",
        "\texpected = raw_values[len(train) + i + 1]\r\n",
        "\tprint('Month=%d, Predicted=%f, Expected=%f' % (i+1, yhat, expected))"
      ],
      "execution_count": 33,
      "outputs": [
        {
          "output_type": "stream",
          "text": [
            "Month=1, Predicted=305312.185821, Expected=282725.671215\n",
            "Month=2, Predicted=272477.381333, Expected=226828.323095\n",
            "Month=3, Predicted=408735.929793, Expected=647780.018182\n"
          ],
          "name": "stdout"
        }
      ]
    },
    {
      "cell_type": "markdown",
      "metadata": {
        "id": "1Mtvk2B83vXN"
      },
      "source": [
        "# Model Evaluation"
      ]
    },
    {
      "cell_type": "code",
      "metadata": {
        "colab": {
          "base_uri": "https://localhost:8080/",
          "height": 283
        },
        "id": "VCORDudJ3U59",
        "outputId": "d77ed11a-04bd-4cfc-ce16-3fa9ba2fc24d"
      },
      "source": [
        "from math import sqrt\r\n",
        "from sklearn.metrics import mean_squared_error\r\n",
        "rmse = sqrt(mean_squared_error(raw_values[-3:], predictions))\r\n",
        "print('Test RMSE: %.3f' % rmse)\r\n",
        "# line plot of observed vs predicted\r\n",
        "#blue line is raw_values\r\n",
        "plt.plot(raw_values[-3:])\r\n",
        "#red one is predictions\r\n",
        "plt.plot(predictions)\r\n",
        "plt.show()"
      ],
      "execution_count": 34,
      "outputs": [
        {
          "output_type": "stream",
          "text": [
            "Test RMSE: 141109.961\n"
          ],
          "name": "stdout"
        },
        {
          "output_type": "display_data",
          "data": {
            "image/png": "[encoded data removed]",
            "text/plain": [
              "<Figure size 432x288 with 1 Axes>"
            ]
          },
          "metadata": {
            "tags": [],
            "needs_background": "light"
          }
        }
      ]
    },
    {
      "cell_type": "code",
      "metadata": {
        "id": "YJJZ94cJ3z5j"
      },
      "source": [
        ""
      ],
      "execution_count": 34,
      "outputs": []
    },
    {
      "cell_type": "code",
      "metadata": {
        "id": "X0gLwD4y4KL5"
      },
      "source": [
        ""
      ],
      "execution_count": 34,
      "outputs": []
    }
  ]
}