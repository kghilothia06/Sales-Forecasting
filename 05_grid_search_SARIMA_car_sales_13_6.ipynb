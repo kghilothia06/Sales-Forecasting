{
  "nbformat": 4,
  "nbformat_minor": 0,
  "metadata": {
    "colab": {
      "name": "05_grid_search_SARIMA_car_sales_13_6.ipynb",
      "provenance": [],
      "toc_visible": true,
      "authorship_tag": "ABX9TyP52oNwuQLyIWi+RquKvKQB",
      "include_colab_link": true
    },
    "kernelspec": {
      "name": "python3",
      "display_name": "Python 3"
    }
  },
  "cells": [
    {
      "cell_type": "markdown",
      "metadata": {
        "id": "view-in-github",
        "colab_type": "text"
      },
      "source": [
        "<a href=\"https://colab.research.google.com/github/kghilothia06/Time-Series-Forecasting/blob/main/05_grid_search_SARIMA_car_sales_13_6.ipynb\" target=\"_parent\"><img src=\"https://colab.research.google.com/assets/colab-badge.svg\" alt=\"Open In Colab\"/></a>"
      ]
    },
    {
      "cell_type": "markdown",
      "metadata": {
        "id": "q4E9fySXjbwV"
      },
      "source": [
        "Import Libraries"
      ]
    },
    {
      "cell_type": "code",
      "metadata": {
        "id": "2E1zzOF2jFxI",
        "colab": {
          "base_uri": "https://localhost:8080/"
        },
        "outputId": "c8338eec-267d-4e49-8a77-9ecd7ee42f39"
      },
      "source": [
        "from math import sqrt\r\n",
        "from multiprocessing import cpu_count\r\n",
        "from joblib import Parallel\r\n",
        "from joblib import delayed\r\n",
        "from warnings import catch_warnings\r\n",
        "from warnings import filterwarnings\r\n",
        "from statsmodels.tsa.statespace.sarimax import SARIMAX\r\n",
        "from sklearn.metrics import mean_squared_error\r\n",
        "from pandas import read_excel"
      ],
      "execution_count": 1,
      "outputs": [
        {
          "output_type": "stream",
          "text": [
            "/usr/local/lib/python3.7/dist-packages/statsmodels/tools/_testing.py:19: FutureWarning: pandas.util.testing is deprecated. Use the functions in the public API at pandas.testing instead.\n",
            "  import pandas.util.testing as tm\n"
          ],
          "name": "stderr"
        }
      ]
    },
    {
      "cell_type": "markdown",
      "metadata": {
        "id": "FsEzWiFqjjKo"
      },
      "source": [
        "Function for one-step sarima forecast"
      ]
    },
    {
      "cell_type": "code",
      "metadata": {
        "id": "ad-7npxbjclp"
      },
      "source": [
        "def sarima_forecast(history, config):\r\n",
        "\torder, sorder, trend = config\r\n",
        "\t# define model\r\n",
        "\tmodel = SARIMAX(history, order=order, seasonal_order=sorder, trend=trend, enforce_stationarity=False, enforce_invertibility=False)\r\n",
        "\t# fit model\r\n",
        "\tmodel_fit = model.fit(disp=False)\r\n",
        "\t# make one step forecast\r\n",
        "\tyhat = model_fit.predict(len(history), len(history))\r\n",
        "\treturn yhat[0]"
      ],
      "execution_count": 2,
      "outputs": []
    },
    {
      "cell_type": "markdown",
      "metadata": {
        "id": "rZaIa-Frm6W3"
      },
      "source": [
        "Function for walk-forward validation for univariate data"
      ]
    },
    {
      "cell_type": "code",
      "metadata": {
        "id": "fR52QAcIsXTo"
      },
      "source": [
        "def walk_forward_validation(data,n_test,cfg):\r\n",
        "  predictions = list()\r\n",
        "  # split dataset\r\n",
        "  train = data[:-n_test]\r\n",
        "  test = data[-n_test:] \r\n",
        "  # seed history with training dataset\r\n",
        "  history = [x for x in train]\r\n",
        "  # step over each time-step in the test set\r\n",
        "  for i in range(len(test)):\r\n",
        "    # fit model and make forecast for history\r\n",
        "    yhat = sarima_forecast(history, cfg)\r\n",
        "    # store forecast in list of predictions\r\n",
        "    predictions.append(yhat)\r\n",
        "    # add actual observation to history for the next loop\r\n",
        "    history.append(test[i])\r\n",
        "  # estimate prediction error\r\n",
        "  error = sqrt(mean_squared_error(test, predictions))\r\n",
        "  print('RMSE : ' + str(error))"
      ],
      "execution_count": 3,
      "outputs": []
    },
    {
      "cell_type": "markdown",
      "metadata": {
        "id": "LGyqoYjJnAq3"
      },
      "source": [
        "load dataset for monthly sales prediction\r\n",
        "\r\n"
      ]
    },
    {
      "cell_type": "code",
      "metadata": {
        "id": "ZeQ9-Okxk21-"
      },
      "source": [
        "series = read_excel('/content/Sales-monthly.xlsx', header=0, index_col=0)\r\n",
        "data = series.values\r\n",
        "# data split\r\n",
        "n_test = 12"
      ],
      "execution_count": 4,
      "outputs": []
    },
    {
      "cell_type": "markdown",
      "metadata": {
        "id": "dEgeRt0hm9eH"
      },
      "source": [
        "specify model configs"
      ]
    },
    {
      "cell_type": "code",
      "metadata": {
        "id": "tsTmd1yTk2yr"
      },
      "source": [
        "p = 2\r\n",
        "d = 1\r\n",
        "q = 0 \r\n",
        "P = 2\r\n",
        "D = 0\r\n",
        "Q = 0\r\n",
        "m = 12\r\n",
        "t = 'n'\r\n",
        "\r\n",
        "cfg = [(p,d,q), (P,D,Q,m), t]"
      ],
      "execution_count": 5,
      "outputs": []
    },
    {
      "cell_type": "code",
      "metadata": {
        "colab": {
          "base_uri": "https://localhost:8080/"
        },
        "id": "8xyaJcGBtdE7",
        "outputId": "a24e7efc-f2cd-4fa1-b983-ecaf365c34e0"
      },
      "source": [
        "walk_forward_validation(data,n_test,cfg)"
      ],
      "execution_count": 6,
      "outputs": [
        {
          "output_type": "stream",
          "text": [
            "RMSE : 29052.927267558578\n"
          ],
          "name": "stdout"
        }
      ]
    },
    {
      "cell_type": "markdown",
      "metadata": {
        "id": "Mfrl3bFgs9W9"
      },
      "source": [
        "load dataset for weekly sales prediction\r\n",
        "\r\n"
      ]
    },
    {
      "cell_type": "code",
      "metadata": {
        "id": "u3m05vUWk2qm"
      },
      "source": [
        "series = read_excel('/content/Sales-weekly.xlsx', header=0, index_col=0)\r\n",
        "data = series.values\r\n",
        "# data split\r\n",
        "n_test = 12"
      ],
      "execution_count": 7,
      "outputs": []
    },
    {
      "cell_type": "markdown",
      "metadata": {
        "id": "VTSzPVSpt_R4"
      },
      "source": [
        "specify model configs"
      ]
    },
    {
      "cell_type": "code",
      "metadata": {
        "id": "E4gOGRJBt5kC"
      },
      "source": [
        "p = 2\r\n",
        "d = 1\r\n",
        "q = 0\r\n",
        "P = 2\r\n",
        "D = 0\r\n",
        "Q = 0\r\n",
        "m = 12\r\n",
        "t = 'n'\r\n",
        "\r\n",
        "cfg = [(p,d,q), (P,D,Q,m), t]"
      ],
      "execution_count": 8,
      "outputs": []
    },
    {
      "cell_type": "code",
      "metadata": {
        "colab": {
          "base_uri": "https://localhost:8080/"
        },
        "id": "4jc3y7HVt5GI",
        "outputId": "7b7cfc7b-23a8-4bc8-f774-460045ba7448"
      },
      "source": [
        "walk_forward_validation(data,n_test,cfg)"
      ],
      "execution_count": 9,
      "outputs": [
        {
          "output_type": "stream",
          "text": [
            "RMSE : 47878.55481780116\n"
          ],
          "name": "stdout"
        }
      ]
    },
    {
      "cell_type": "code",
      "metadata": {
        "id": "nxnYR-oI4gq8"
      },
      "source": [
        ""
      ],
      "execution_count": 9,
      "outputs": []
    }
  ]
}