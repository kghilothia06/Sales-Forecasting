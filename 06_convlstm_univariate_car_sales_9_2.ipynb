{
  "nbformat": 4,
  "nbformat_minor": 0,
  "metadata": {
    "colab": {
      "name": "06_convlstm_univariate_car_sales_9_2.ipynb",
      "provenance": [],
      "toc_visible": true
    },
    "kernelspec": {
      "name": "python3",
      "display_name": "Python 3"
    }
  },
  "cells": [
    {
      "cell_type": "markdown",
      "metadata": {
        "id": "gVqmPs4BHJp4"
      },
      "source": [
        "# univariate convlstm example for Sales Prediction"
      ]
    },
    {
      "cell_type": "markdown",
      "metadata": {
        "id": "OqUujf4cHPVa"
      },
      "source": [
        "Import Libraries"
      ]
    },
    {
      "cell_type": "code",
      "metadata": {
        "id": "eHnVithuHCf_"
      },
      "source": [
        "import pandas as pd\r\n",
        "from numpy import array\r\n",
        "from keras.models import Sequential\r\n",
        "from keras.layers import Dense\r\n",
        "from keras.layers import Flatten\r\n",
        "from keras.layers import ConvLSTM2D\r\n"
      ],
      "execution_count": 1,
      "outputs": []
    },
    {
      "cell_type": "markdown",
      "metadata": {
        "id": "1ww29gelHfhY"
      },
      "source": [
        "Function to split a univariate sequence into samples"
      ]
    },
    {
      "cell_type": "code",
      "metadata": {
        "id": "KJIQ0ZRhHT11"
      },
      "source": [
        "def split_sequence(sequence, n_steps):\r\n",
        "\tX, y = list(), list()\r\n",
        "\tfor i in range(len(sequence)):\r\n",
        "\t\t# find the end of this pattern\r\n",
        "\t\tend_ix = i + n_steps\r\n",
        "\t\t# check if we are beyond the sequence\r\n",
        "\t\tif end_ix > len(sequence)-1:\r\n",
        "\t\t\tbreak\r\n",
        "\t\t# gather input and output parts of the pattern\r\n",
        "\t\tseq_x, seq_y = sequence[i:end_ix], sequence[end_ix]\r\n",
        "\t\tX.append(seq_x)\r\n",
        "\t\ty.append(seq_y)\r\n",
        "\treturn array(X), array(y)\r\n"
      ],
      "execution_count": 2,
      "outputs": []
    },
    {
      "cell_type": "markdown",
      "metadata": {
        "id": "981_wGS6HksO"
      },
      "source": [
        "Functionality for Data Preparation for Model Training"
      ]
    },
    {
      "cell_type": "code",
      "metadata": {
        "id": "tT0dAGLOHVud"
      },
      "source": [
        "def data_prep(df):\r\n",
        "  # choose a number of time steps\r\n",
        "  n_steps = 4\r\n",
        "\r\n",
        "  #Convert 'Sales' column to a list\r\n",
        "  raw_seq=[]\r\n",
        "\r\n",
        "  for i in df['Sales']:\r\n",
        "    raw_seq.append(i)\r\n",
        "\r\n",
        "  # split into samples\r\n",
        "  X, y = split_sequence(raw_seq, n_steps)\r\n",
        "\r\n",
        "  # taking all the data except last row\r\n",
        "  X_train = X[:len(X)-1]\r\n",
        "  y_train = y[:len(y)-1]\r\n",
        "\r\n",
        "  # test sample would be data corresponding to last row\r\n",
        "  X_test = X[len(X)-1]\r\n",
        "  y_test = y[len(y)-1] \r\n",
        "\r\n",
        "  # reshape from [samples, timesteps] into [samples, timesteps, rows, columns, features]\r\n",
        "  n_features = 1\r\n",
        "  n_seq = 2\r\n",
        "  n_steps = 2\r\n",
        "  X_train = X_train.reshape((X_train.shape[0], n_seq, 1, n_steps, n_features))\r\n",
        "  X_test = X_test.reshape((1, n_seq, 1, n_steps, n_features))\r\n",
        "  print('Data Preparation DONE!')\r\n",
        "\r\n",
        "  # Build and train the model\r\n",
        "  build_model(X_train,y_train,X_test,y_test,n_steps,n_features,n_seq) "
      ],
      "execution_count": 3,
      "outputs": []
    },
    {
      "cell_type": "markdown",
      "metadata": {
        "id": "URWBM2pOIa35"
      },
      "source": [
        "Functionality for Model Building and Training"
      ]
    },
    {
      "cell_type": "code",
      "metadata": {
        "id": "JV-DwGasHVrF"
      },
      "source": [
        "def build_model(X_train,y_train,X_test,y_test,n_steps,n_features,n_seq):\r\n",
        "  model = Sequential()\r\n",
        "  model.add(ConvLSTM2D(filters=64, kernel_size=(1,2), activation='relu', input_shape=(n_seq, 1, n_steps, n_features)))\r\n",
        "  model.add(Flatten())\r\n",
        "  model.add(Dense(1))\r\n",
        "  model.compile(optimizer='adam', loss='mse')\r\n",
        "\r\n",
        "  print('Model Built!')\r\n",
        "  # fit model\r\n",
        "  model.fit(X_train, y_train, epochs=500, verbose=0)\r\n",
        "  print('Model Trained!')\r\n",
        "\r\n",
        "  #Make Predictions\r\n",
        "  print('Now Making Predictions!')\r\n",
        "  yhat = model.predict(X_test, verbose=0)\r\n",
        "  print('predicted value : ' + str(yhat[0][0]))\r\n",
        "  print('actual value : ' + str(y_test)) "
      ],
      "execution_count": 4,
      "outputs": []
    },
    {
      "cell_type": "markdown",
      "metadata": {
        "id": "etxtFYJFJQr9"
      },
      "source": [
        "Read dataset using pandas\r\n",
        "\r\n",
        "> First will be Quarterly sales\r\n",
        "\r\n",
        "> Second will be monthly sales"
      ]
    },
    {
      "cell_type": "code",
      "metadata": {
        "id": "p_uEwTxcHVpS"
      },
      "source": [
        "df1 = pd.read_excel('/content/Sales-quarterly.xlsx',header=0,index_col=0)"
      ],
      "execution_count": 5,
      "outputs": []
    },
    {
      "cell_type": "code",
      "metadata": {
        "colab": {
          "base_uri": "https://localhost:8080/"
        },
        "id": "_12uam8sHVhP",
        "outputId": "4c20fa0a-0ee8-4ef7-db47-fecbfee9926e"
      },
      "source": [
        "data_prep(df1)"
      ],
      "execution_count": 6,
      "outputs": [
        {
          "output_type": "stream",
          "text": [
            "Data Preparation DONE!\n",
            "Model Built!\n",
            "Model Trained!\n",
            "Now Making Predictions!\n",
            "predicted value : 850138.06\n",
            "actual value : 611909.638\n"
          ],
          "name": "stdout"
        }
      ]
    },
    {
      "cell_type": "code",
      "metadata": {
        "id": "APg2d9meHVdz"
      },
      "source": [
        "df2 = pd.read_excel('/content/Sales-monthly.xlsx',header=0,index_col=0)"
      ],
      "execution_count": 7,
      "outputs": []
    },
    {
      "cell_type": "code",
      "metadata": {
        "colab": {
          "base_uri": "https://localhost:8080/"
        },
        "id": "eECYVnZIHVbo",
        "outputId": "1e2276e7-e021-4ae8-8244-aa8a89c102d7"
      },
      "source": [
        "data_prep(df2)"
      ],
      "execution_count": 8,
      "outputs": [
        {
          "output_type": "stream",
          "text": [
            "Data Preparation DONE!\n",
            "Model Built!\n",
            "Model Trained!\n",
            "Now Making Predictions!\n",
            "predicted value : 343420.8\n",
            "actual value : 513890.482\n"
          ],
          "name": "stdout"
        }
      ]
    }
  ]
}