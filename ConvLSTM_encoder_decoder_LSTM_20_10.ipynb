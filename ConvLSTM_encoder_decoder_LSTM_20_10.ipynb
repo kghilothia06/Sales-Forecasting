{
  "nbformat": 4,
  "nbformat_minor": 0,
  "metadata": {
    "colab": {
      "name": "ConvLSTM_encoder_decoder_LSTM_20_10.ipynb",
      "provenance": [],
      "authorship_tag": "ABX9TyNzuAkzgASeLg26AfbEZCpd",
      "include_colab_link": true
    },
    "kernelspec": {
      "name": "python3",
      "display_name": "Python 3"
    }
  },
  "cells": [
    {
      "cell_type": "markdown",
      "metadata": {
        "id": "view-in-github",
        "colab_type": "text"
      },
      "source": [
        "<a href=\"https://colab.research.google.com/github/kghilothia06/Time-Series-Forecasting/blob/main/ConvLSTM_encoder_decoder_LSTM_20_10.ipynb\" target=\"_parent\"><img src=\"https://colab.research.google.com/assets/colab-badge.svg\" alt=\"Open In Colab\"/></a>"
      ]
    },
    {
      "cell_type": "markdown",
      "metadata": {
        "id": "l905aq8ick8I"
      },
      "source": [
        "# univariate multi-step encoder-decoder convlstm for sales prediction"
      ]
    },
    {
      "cell_type": "code",
      "metadata": {
        "id": "A6oemyNccbX7"
      },
      "source": [
        "#Import Libraries\r\n",
        "from math import sqrt\r\n",
        "from numpy import split\r\n",
        "from numpy import array\r\n",
        "from pandas import read_excel, DataFrame\r\n",
        "from sklearn.metrics import mean_squared_error\r\n",
        "from matplotlib import pyplot\r\n",
        "from keras.models import Sequential\r\n",
        "from keras.layers import Dense\r\n",
        "from keras.layers import Flatten\r\n",
        "from keras.layers import LSTM\r\n",
        "from keras.layers import RepeatVector\r\n",
        "from keras.layers import TimeDistributed\r\n",
        "from keras.layers import ConvLSTM2D"
      ],
      "execution_count": 1,
      "outputs": []
    },
    {
      "cell_type": "code",
      "metadata": {
        "id": "5ter022VcgxN"
      },
      "source": [
        "# split a univariate dataset into train/test sets\r\n",
        "def split_dataset(data, partition):\r\n",
        "  # split into standard partitions\r\n",
        "  train = data[:-partition]\r\n",
        "  test = data[-partition:]\r\n",
        "  # restructure into suitable windows \r\n",
        "  train = array(split(train, len(train)/partition))\r\n",
        "  test = array(split(test, len(test)/partition))\r\n",
        "  return train, test\r\n"
      ],
      "execution_count": 2,
      "outputs": []
    },
    {
      "cell_type": "code",
      "metadata": {
        "id": "VfJqMQXieC3s"
      },
      "source": [
        "# evaluate one or more forecasts against expected values\r\n",
        "def evaluate_forecasts(actual, predicted):\r\n",
        "\tscores = list()\r\n",
        "\t# calculate an RMSE score for each \r\n",
        "\tfor i in range(actual.shape[1]):\r\n",
        "\t\t# calculate mse\r\n",
        "\t\tmse = mean_squared_error(actual[:, i], predicted[:, i])\r\n",
        "\t\t# calculate rmse\r\n",
        "\t\trmse = sqrt(mse)\r\n",
        "\t\t# store\r\n",
        "\t\tscores.append(rmse)\r\n",
        "\t# calculate overall RMSE\r\n",
        "\ts = 0\r\n",
        "\tfor row in range(actual.shape[0]):\r\n",
        "\t\tfor col in range(actual.shape[1]):\r\n",
        "\t\t\ts += (actual[row, col] - predicted[row, col])**2\r\n",
        "\tscore = sqrt(s / (actual.shape[0] * actual.shape[1]))\r\n",
        "\treturn score, scores\r\n"
      ],
      "execution_count": 3,
      "outputs": []
    },
    {
      "cell_type": "code",
      "metadata": {
        "id": "Ep2WS34eeFne"
      },
      "source": [
        "# summarize scores\r\n",
        "def summarize_scores(name, score, scores):\r\n",
        "\ts_scores = ', '.join(['%.1f' % s for s in scores])\r\n",
        "\tprint('%s: [%.3f] %s' % (name, score, s_scores))\r\n"
      ],
      "execution_count": 4,
      "outputs": []
    },
    {
      "cell_type": "code",
      "metadata": {
        "id": "cgYF-P8KeHuw"
      },
      "source": [
        "# convert history into inputs and outputs\r\n",
        "def to_supervised(train, n_input, n_out):\r\n",
        "\t# flatten data\r\n",
        "\tdata = train.reshape((train.shape[0]*train.shape[1], train.shape[2]))\r\n",
        "\tX, y = list(), list()\r\n",
        "\tin_start = 0\r\n",
        "\t# step over the entire history one time step at a time\r\n",
        "\tfor _ in range(len(data)):\r\n",
        "\t\t# define the end of the input sequence\r\n",
        "\t\tin_end = in_start + n_input\r\n",
        "\t\tout_end = in_end + n_out\r\n",
        "\t\t# ensure we have enough data for this instance\r\n",
        "\t\tif out_end < len(data):\r\n",
        "\t\t\tx_input = data[in_start:in_end, 0]\r\n",
        "\t\t\tx_input = x_input.reshape((len(x_input), 1))\r\n",
        "\t\t\tX.append(x_input)\r\n",
        "\t\t\ty.append(data[in_end:out_end, 0])\r\n",
        "\t\t# move along one time step\r\n",
        "\t\tin_start += 1\r\n",
        "\treturn array(X), array(y)\r\n"
      ],
      "execution_count": 5,
      "outputs": []
    },
    {
      "cell_type": "code",
      "metadata": {
        "id": "KgVaEmCzeMAy"
      },
      "source": [
        "# train the model\r\n",
        "def build_model(train, n_steps, n_length, n_input, n_out):\r\n",
        "\t# prepare data\r\n",
        "\ttrain_x, train_y = to_supervised(train, n_input, n_out)\r\n",
        "\t# define parameters\r\n",
        "\tverbose, epochs, batch_size = 0, 20, 12\r\n",
        "\tn_features, n_outputs = train_x.shape[2], train_y.shape[1]\r\n",
        "\t# reshape into subsequences [samples, timesteps, rows, cols, channels]\r\n",
        "\ttrain_x = train_x.reshape((train_x.shape[0], n_steps, 1, n_length, n_features))\r\n",
        "\t# reshape output into [samples, timesteps, features]\r\n",
        "\ttrain_y = train_y.reshape((train_y.shape[0], train_y.shape[1], 1))\r\n",
        "\t# define model\r\n",
        "\tmodel = Sequential()\r\n",
        "\tmodel.add(ConvLSTM2D(filters=64, kernel_size=(1,3), activation='relu', input_shape=(n_steps, 1, n_length, n_features)))\r\n",
        "\tmodel.add(Flatten())\r\n",
        "\tmodel.add(RepeatVector(n_outputs))\r\n",
        "\tmodel.add(LSTM(200, activation='relu', return_sequences=True))\r\n",
        "\tmodel.add(TimeDistributed(Dense(100, activation='relu')))\r\n",
        "\tmodel.add(TimeDistributed(Dense(1)))\r\n",
        "\tmodel.compile(loss='mse', optimizer='adam')\r\n",
        "\t# fit network\r\n",
        "\tmodel.fit(train_x, train_y, epochs=epochs, batch_size=batch_size, verbose=verbose)\r\n",
        "\treturn model"
      ],
      "execution_count": 6,
      "outputs": []
    },
    {
      "cell_type": "code",
      "metadata": {
        "id": "8T---GyseWfo"
      },
      "source": [
        "# make a forecast\r\n",
        "def forecast(model, history, n_steps, n_length, n_input):\r\n",
        "\t# flatten data\r\n",
        "\tdata = array(history)\r\n",
        "\tdata = data.reshape((data.shape[0]*data.shape[1], data.shape[2]))\r\n",
        "\t# retrieve last observations for input data\r\n",
        "\tinput_x = data[-n_input:, 0]\r\n",
        "\t# reshape into [samples, timesteps, rows, cols, channels]\r\n",
        "\tinput_x = input_x.reshape((1, n_steps, 1, n_length, 1))\r\n",
        "\t# forecast the next sequence\r\n",
        "\tyhat = model.predict(input_x, verbose=0)\r\n",
        "\t# we only want the vector forecast\r\n",
        "\tyhat = yhat[0]\r\n",
        "\treturn yhat"
      ],
      "execution_count": 7,
      "outputs": []
    },
    {
      "cell_type": "code",
      "metadata": {
        "id": "HdqzApGtebbr"
      },
      "source": [
        "# evaluate a single model\r\n",
        "def evaluate_model(train, test, n_steps, n_length, n_input, n_out):\r\n",
        "\t# fit model\r\n",
        "\tmodel = build_model(train, n_steps, n_length, n_input, n_out)\r\n",
        "\t# history is a list of data\r\n",
        "\thistory = [x for x in train]\r\n",
        "\t# walk-forward validation over each window\r\n",
        "\tpredictions = list()\r\n",
        "\tfor i in range(len(test)):\r\n",
        "\t\t# predict the sequence\r\n",
        "\t\tyhat_sequence = forecast(model, history, n_steps, n_length, n_input)\r\n",
        "\t\t# store the predictions\r\n",
        "\t\tpredictions.append(yhat_sequence)\r\n",
        "\t\t# get real observation and add to history for predicting the next sequence\r\n",
        "\t\thistory.append(test[i, :])\r\n",
        "\t# evaluate predictions days for each sequence\r\n",
        "\tpredictions = array(predictions)\r\n",
        "\tscore, scores = evaluate_forecasts(test[:, :, 0], predictions)\r\n",
        "\treturn score, scores"
      ],
      "execution_count": 8,
      "outputs": []
    },
    {
      "cell_type": "markdown",
      "metadata": {
        "id": "Fk-YdNlEfbN-"
      },
      "source": [
        "Load Quarterly data\r\n",
        "\r\n",
        "> Here, all the 4 quarters are predicted based on previous 4 quarters"
      ]
    },
    {
      "cell_type": "code",
      "metadata": {
        "colab": {
          "base_uri": "https://localhost:8080/",
          "height": 283
        },
        "id": "Oxdd07YSeotQ",
        "outputId": "a941011a-c127-4b8a-bef0-7f77bc3658f2"
      },
      "source": [
        "# load the new file\r\n",
        "dataset = read_excel('/content/Sales-quarterly.xlsx', header=0, index_col=0)\r\n",
        "dataset = DataFrame(dataset['Sales'])\r\n",
        "# split into train and test\r\n",
        "partition = 4\r\n",
        "train, test = split_dataset(dataset.values, partition)\r\n",
        "# define the number of subsequences and the length of subsequences\r\n",
        "n_steps, n_length = 1, 4\r\n",
        "n_out = 4\r\n",
        "# define the total days to use as input\r\n",
        "n_input = n_length * n_steps\r\n",
        "score, scores = evaluate_model(train, test, n_steps, n_length, n_input, n_out)\r\n",
        "# summarize scores\r\n",
        "summarize_scores('lstm', score, scores)\r\n",
        "# plot scores\r\n",
        "quarter_list = ['q1', 'q2', 'q3', 'q4']\r\n",
        "pyplot.plot(quarter_list, scores, marker='o', label='lstm')\r\n",
        "pyplot.show()"
      ],
      "execution_count": 9,
      "outputs": [
        {
          "output_type": "stream",
          "text": [
            "lstm: [277939.024] 113725.3, 204157.4, 113641.8, 491398.3\n"
          ],
          "name": "stdout"
        },
        {
          "output_type": "display_data",
          "data": {
            "image/png": "[encoded data removed]",
            "text/plain": [
              "<Figure size 432x288 with 1 Axes>"
            ]
          },
          "metadata": {
            "tags": [],
            "needs_background": "light"
          }
        }
      ]
    },
    {
      "cell_type": "markdown",
      "metadata": {
        "id": "m52u_agAf238"
      },
      "source": [
        "Load Monthly data\r\n",
        "\r\n",
        "> Here, all the 12 months are predicted based on previous 12 months"
      ]
    },
    {
      "cell_type": "code",
      "metadata": {
        "colab": {
          "base_uri": "https://localhost:8080/",
          "height": 303
        },
        "id": "QF_t7R3ufNW3",
        "outputId": "016e9f9f-7f20-4f65-d0f8-5c5d4c521c16"
      },
      "source": [
        "# load the new file\r\n",
        "dataset = read_excel('/content/Sales-monthly.xlsx', header=0, index_col=0)\r\n",
        "#dataset = DataFrame(dataset['Sales'])\r\n",
        "# split into train and test\r\n",
        "partition = 12\r\n",
        "train, test = split_dataset(dataset.values, partition)\r\n",
        "# define the number of subsequences and the length of subsequences\r\n",
        "n_steps, n_length = 1, 12\r\n",
        "n_out = 12\r\n",
        "# define the total days to use as input\r\n",
        "n_input = n_length * n_steps\r\n",
        "score, scores = evaluate_model(train, test, n_steps, n_length, n_input, n_out)\r\n",
        "# summarize scores\r\n",
        "summarize_scores('lstm', score, scores)\r\n",
        "# plot scores\r\n",
        "month_list = ['Jan', 'Feb', 'Mar', 'Apr', 'May', 'Jun', 'Jul', 'Aug', 'Sep', 'Oct', 'Nov', 'Dec']\r\n",
        "pyplot.plot(month_list, scores, marker='o', label='lstm')\r\n",
        "pyplot.show()"
      ],
      "execution_count": 10,
      "outputs": [
        {
          "output_type": "stream",
          "text": [
            "lstm: [126661.720] 6357.6, 15443.8, 63842.6, 51278.4, 45444.8, 138248.2, 69437.7, 47520.2, 30169.0, 101934.1, 77737.3, 374075.7\n"
          ],
          "name": "stdout"
        },
        {
          "output_type": "display_data",
          "data": {
            "image/png": "[encoded data removed]",
            "text/plain": [
              "<Figure size 432x288 with 1 Axes>"
            ]
          },
          "metadata": {
            "tags": [],
            "needs_background": "light"
          }
        }
      ]
    },
    {
      "cell_type": "code",
      "metadata": {
        "id": "CUpqPefgfn44"
      },
      "source": [
        ""
      ],
      "execution_count": 10,
      "outputs": []
    }
  ]
}