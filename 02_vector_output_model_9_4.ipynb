{
  "nbformat": 4,
  "nbformat_minor": 0,
  "metadata": {
    "colab": {
      "name": "02_vector_output_model_9_4.ipynb",
      "provenance": [],
      "authorship_tag": "ABX9TyNr9/xoWVDNWJITh/EPE2yP",
      "include_colab_link": true
    },
    "kernelspec": {
      "name": "python3",
      "display_name": "Python 3"
    }
  },
  "cells": [
    {
      "cell_type": "markdown",
      "metadata": {
        "id": "view-in-github",
        "colab_type": "text"
      },
      "source": [
        "<a href=\"https://colab.research.google.com/github/kghilothia06/Time-Series-Forecasting/blob/main/02_vector_output_model_9_4.ipynb\" target=\"_parent\"><img src=\"https://colab.research.google.com/assets/colab-badge.svg\" alt=\"Open In Colab\"/></a>"
      ]
    },
    {
      "cell_type": "markdown",
      "metadata": {
        "id": "C0E_sBGLy28f"
      },
      "source": [
        "#  univariate multi-step vector-output stacked lstm example"
      ]
    },
    {
      "cell_type": "markdown",
      "metadata": {
        "id": "mw95Y5lZyxnO"
      },
      "source": [
        "Import Libraries"
      ]
    },
    {
      "cell_type": "code",
      "metadata": {
        "id": "qttzVPIXywzD"
      },
      "source": [
        "from numpy import array\r\n",
        "from keras.models import Sequential\r\n",
        "from keras.layers import LSTM\r\n",
        "from keras.layers import Dense\r\n",
        "import pandas as pd\r\n"
      ],
      "execution_count": 1,
      "outputs": []
    },
    {
      "cell_type": "markdown",
      "metadata": {
        "id": "40wABy0E5bfN"
      },
      "source": [
        "function to split a univariate sequence into samples"
      ]
    },
    {
      "cell_type": "code",
      "metadata": {
        "id": "7C1dlMYtssIg"
      },
      "source": [
        "def split_sequence(sequence, n_steps_in, n_steps_out):\r\n",
        "  X, y = list(), list()\r\n",
        "  for i in range(len(sequence)):\r\n",
        "    # find the end of this pattern\r\n",
        "    end_ix = i + n_steps_in\r\n",
        "    out_end_ix = end_ix + n_steps_out\r\n",
        "    # check if we are beyond the sequence\r\n",
        "    if out_end_ix > len(sequence):\r\n",
        "      break\r\n",
        "    # gather input and output parts of the pattern\r\n",
        "    seq_x, seq_y = sequence[i:end_ix], sequence[end_ix:out_end_ix]\r\n",
        "    X.append(seq_x)\r\n",
        "    y.append(seq_y)\r\n",
        "  return array(X), array(y)"
      ],
      "execution_count": 2,
      "outputs": []
    },
    {
      "cell_type": "markdown",
      "metadata": {
        "id": "wrzH4zpm5SBT"
      },
      "source": [
        "Function to define model"
      ]
    },
    {
      "cell_type": "code",
      "metadata": {
        "id": "w9hjeI0atC8r"
      },
      "source": [
        "def build_and_train_model(X_train, y_train, X_test, y_test, n_steps_in, n_steps_out, n_features):\r\n",
        "  # build model\r\n",
        "  model = Sequential()\r\n",
        "  model.add(LSTM(100, activation='relu', return_sequences=True, input_shape=(n_steps_in,\r\n",
        "  n_features)))\r\n",
        "  model.add(LSTM(100, activation='relu'))\r\n",
        "  model.add(Dense(n_steps_out))\r\n",
        "  model.compile(optimizer='adam', loss='mse')\r\n",
        "  print('Model Built!')\r\n",
        "  # fit model\r\n",
        "  model.fit(X_train, y_train, epochs=50, verbose=0)\r\n",
        "  print('Model Trained!')\r\n",
        "  # make prediction\r\n",
        "  print('Now making predictions!')\r\n",
        "  yhat = model.predict(X_test, verbose=0)\r\n",
        "  print('Predicted : ' + str(yhat))\r\n",
        "  print('Actual : ' + str(y_test))"
      ],
      "execution_count": 3,
      "outputs": []
    },
    {
      "cell_type": "markdown",
      "metadata": {
        "id": "wIHXHvCP5OrR"
      },
      "source": [
        "Function for data preparation"
      ]
    },
    {
      "cell_type": "code",
      "metadata": {
        "id": "EGORG0crtDAE"
      },
      "source": [
        "def Data_prep(df):\r\n",
        "  # choose a number of time steps\r\n",
        "  n_steps_in, n_steps_out = 3, 2\r\n",
        "\r\n",
        "  #Convert 'Sales' column to a list\r\n",
        "  raw_seq=[]\r\n",
        "\r\n",
        "  for i in df['Sales']:\r\n",
        "    raw_seq.append(i)\r\n",
        "\r\n",
        "  # split into samples\r\n",
        "  X, y = split_sequence(raw_seq, n_steps_in, n_steps_out)\r\n",
        "  \r\n",
        "  # taking all the data except last row\r\n",
        "  X_train = X[:len(X)-1]\r\n",
        "  y_train = y[:len(y)-1]\r\n",
        "  \r\n",
        "  # test sample would be data corresponding to last row\r\n",
        "  X_test = X[len(X)-1]\r\n",
        "  y_test = y[len(y)-1]\r\n",
        "\r\n",
        "\r\n",
        "  # reshape from [samples, timesteps] into [samples, timesteps, features]\r\n",
        "  n_features = 1\r\n",
        "  X_train = X_train.reshape((X_train.shape[0], X_train.shape[1], n_features))\r\n",
        "  X_test = X_test.reshape(((1, n_steps_in, n_features)))\r\n",
        "  print('Data Preparation DONE!')\r\n",
        "\r\n",
        "  #build and train model\r\n",
        "  build_and_train_model(X_train, y_train, X_test, y_test, n_steps_in, n_steps_out, n_features)\r\n",
        "  "
      ],
      "execution_count": 4,
      "outputs": []
    },
    {
      "cell_type": "markdown",
      "metadata": {
        "id": "Zrzdj0OI1Vj7"
      },
      "source": [
        "Load quarterly and monthly datasets and train the LSTM model"
      ]
    },
    {
      "cell_type": "code",
      "metadata": {
        "id": "pZEWodCjtC5L"
      },
      "source": [
        "df1 = pd.read_excel('/content/Sales-quarterly.xlsx',header=0,index_col=0)"
      ],
      "execution_count": 5,
      "outputs": []
    },
    {
      "cell_type": "code",
      "metadata": {
        "colab": {
          "base_uri": "https://localhost:8080/"
        },
        "id": "uAr9Bdwa1mPZ",
        "outputId": "be2b728b-807e-4ed3-c3ce-188414fae3f5"
      },
      "source": [
        "Data_prep(df1)"
      ],
      "execution_count": 6,
      "outputs": [
        {
          "output_type": "stream",
          "text": [
            "Data Preparation DONE!\n",
            "Model Built!\n",
            "Model Trained!\n",
            "Now making predictions!\n",
            "Predicted : [[46138.324 41864.164]]\n",
            "Actual : [204660.251 611909.638]\n"
          ],
          "name": "stdout"
        }
      ]
    },
    {
      "cell_type": "code",
      "metadata": {
        "id": "IyVQkI4I1mDb"
      },
      "source": [
        "df2 = pd.read_excel('/content/Sales-monthly.xlsx',header=0,index_col=0)"
      ],
      "execution_count": 7,
      "outputs": []
    },
    {
      "cell_type": "code",
      "metadata": {
        "colab": {
          "base_uri": "https://localhost:8080/"
        },
        "id": "qBicMfKX1sy3",
        "outputId": "48ee6d30-9231-405f-98d4-f6e4eace89a7"
      },
      "source": [
        "Data_prep(df2)"
      ],
      "execution_count": 8,
      "outputs": [
        {
          "output_type": "stream",
          "text": [
            "Data Preparation DONE!\n",
            "Model Built!\n",
            "Model Trained!\n",
            "Now making predictions!\n",
            "Predicted : [[ 78107.81 111505.96]]\n",
            "Actual : [ 54648.113 513890.482]\n"
          ],
          "name": "stdout"
        }
      ]
    },
    {
      "cell_type": "code",
      "metadata": {
        "id": "P1pqA5xw2bK4"
      },
      "source": [
        ""
      ],
      "execution_count": 8,
      "outputs": []
    }
  ]
}