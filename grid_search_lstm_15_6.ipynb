{
  "nbformat": 4,
  "nbformat_minor": 0,
  "metadata": {
    "colab": {
      "name": "grid_search_lstm_15_6.ipynb",
      "provenance": [],
      "authorship_tag": "ABX9TyPu8nLSFKNpnMc8n1RN4Lam",
      "include_colab_link": true
    },
    "kernelspec": {
      "name": "python3",
      "display_name": "Python 3"
    }
  },
  "cells": [
    {
      "cell_type": "markdown",
      "metadata": {
        "id": "view-in-github",
        "colab_type": "text"
      },
      "source": [
        "<a href=\"https://colab.research.google.com/github/kghilothia06/Time-Series-Forecasting/blob/main/grid_search_lstm_15_6.ipynb\" target=\"_parent\"><img src=\"https://colab.research.google.com/assets/colab-badge.svg\" alt=\"Open In Colab\"/></a>"
      ]
    },
    {
      "cell_type": "markdown",
      "metadata": {
        "id": "FCu6_PAcLBfk"
      },
      "source": [
        "# grid search lstm for monthly and quarterly sales prediction"
      ]
    },
    {
      "cell_type": "code",
      "metadata": {
        "id": "GfOsVFvaKaSn"
      },
      "source": [
        "#Import Libraries\r\n",
        "from math import sqrt\r\n",
        "from numpy import array\r\n",
        "from numpy import mean\r\n",
        "from pandas import DataFrame\r\n",
        "from pandas import concat\r\n",
        "from pandas import read_excel\r\n",
        "from sklearn.metrics import mean_squared_error\r\n",
        "from keras.models import Sequential\r\n",
        "from keras.layers import Dense\r\n",
        "from keras.layers import LSTM"
      ],
      "execution_count": 1,
      "outputs": []
    },
    {
      "cell_type": "code",
      "metadata": {
        "id": "0v2H1IpF7LTs"
      },
      "source": [
        "# split a univariate dataset into train/test sets\r\n",
        "def train_test_split(data, n_test):\r\n",
        "\treturn data[:-n_test], data[-n_test:]\r\n"
      ],
      "execution_count": 2,
      "outputs": []
    },
    {
      "cell_type": "code",
      "metadata": {
        "id": "fjI6Q8QC7MD8"
      },
      "source": [
        "# transform list into supervised learning format\r\n",
        "def series_to_supervised(data, n_in, n_out=1):\r\n",
        "\tdf = DataFrame(data)\r\n",
        "\tcols = list()\r\n",
        "\t# input sequence (t-n, ... t-1)\r\n",
        "\tfor i in range(n_in, 0, -1):\r\n",
        "\t\tcols.append(df.shift(i))\r\n",
        "\t# forecast sequence (t, t+1, ... t+n)\r\n",
        "\tfor i in range(0, n_out):\r\n",
        "\t\tcols.append(df.shift(-i))\r\n",
        "\t# put it all together\r\n",
        "\tagg = concat(cols, axis=1)\r\n",
        "\t# drop rows with NaN values\r\n",
        "\tagg.dropna(inplace=True)\r\n",
        "\treturn agg.values\r\n"
      ],
      "execution_count": 3,
      "outputs": []
    },
    {
      "cell_type": "code",
      "metadata": {
        "id": "37qY4mml7SxF"
      },
      "source": [
        "# root mean squared error or rmse\r\n",
        "def measure_rmse(actual, predicted):\r\n",
        "\treturn sqrt(mean_squared_error(actual, predicted))\r\n"
      ],
      "execution_count": 4,
      "outputs": []
    },
    {
      "cell_type": "code",
      "metadata": {
        "id": "pWcMkNKv7WQ7"
      },
      "source": [
        "# difference dataset\r\n",
        "def difference(data, order):\r\n",
        "\treturn [data[i] - data[i - order] for i in range(order, len(data))]\r\n"
      ],
      "execution_count": 5,
      "outputs": []
    },
    {
      "cell_type": "code",
      "metadata": {
        "id": "4wJX0HDJ7YqX"
      },
      "source": [
        "# fit a model\r\n",
        "def model_fit(train, config):\r\n",
        "\t# unpack config\r\n",
        "\tn_input, n_nodes, n_epochs, n_batch, n_diff = config\r\n",
        "\t# prepare data\r\n",
        "\tif n_diff > 0:\r\n",
        "\t\ttrain = difference(train, n_diff)\r\n",
        "\t# transform series into supervised format\r\n",
        "\tdata = series_to_supervised(train, n_in=n_input)\r\n",
        "\t# separate inputs and outputs\r\n",
        "\ttrain_x, train_y = data[:, :-1], data[:, -1]\r\n",
        "\t# reshape input data into [samples, timesteps, features]\r\n",
        "\tn_features = 1\r\n",
        "\ttrain_x = train_x.reshape((train_x.shape[0], train_x.shape[1], n_features))\r\n",
        "\t# define model\r\n",
        "\tmodel = Sequential()\r\n",
        "\tmodel.add(LSTM(n_nodes, activation='relu', input_shape=(n_input, n_features)))\r\n",
        "\tmodel.add(Dense(n_nodes, activation='relu'))\r\n",
        "\tmodel.add(Dense(1))\r\n",
        "\tmodel.compile(loss='mse', optimizer='adam')\r\n",
        "\t# fit model\r\n",
        "\tmodel.fit(train_x, train_y, epochs=n_epochs, batch_size=n_batch, verbose=0)\r\n",
        "\treturn model\r\n"
      ],
      "execution_count": 6,
      "outputs": []
    },
    {
      "cell_type": "code",
      "metadata": {
        "id": "QN32_ac17d5B"
      },
      "source": [
        "# forecast with the fit model\r\n",
        "def model_predict(model, history, config):\r\n",
        "\t# unpack config\r\n",
        "\tn_input, _, _, _, n_diff = config\r\n",
        "\t# prepare data\r\n",
        "\tcorrection = 0.0\r\n",
        "\tif n_diff > 0:\r\n",
        "\t\tcorrection = history[-n_diff]\r\n",
        "\t\thistory = difference(history, n_diff)\r\n",
        "\t# reshape sample into [samples, timesteps, features]\r\n",
        "\tx_input = array(history[-n_input:]).reshape((1, n_input, 1))\r\n",
        "\t# forecast\r\n",
        "\tyhat = model.predict(x_input, verbose=0)\r\n",
        "\treturn correction + yhat[0]"
      ],
      "execution_count": 7,
      "outputs": []
    },
    {
      "cell_type": "code",
      "metadata": {
        "id": "2NpHiDjJ7hnu"
      },
      "source": [
        "# walk-forward validation for univariate data\r\n",
        "def walk_forward_validation(data, n_test, cfg):\r\n",
        "\tpredictions = list()\r\n",
        "\t# split dataset\r\n",
        "\ttrain, test = train_test_split(data, n_test)\r\n",
        "\t# fit model\r\n",
        "\tmodel = model_fit(train, cfg)\r\n",
        "\t# seed history with training dataset\r\n",
        "\thistory = [x for x in train]\r\n",
        "\t# step over each time-step in the test set\r\n",
        "\tfor i in range(len(test)):\r\n",
        "\t\t# fit model and make forecast for history\r\n",
        "\t\tyhat = model_predict(model, history, cfg)\r\n",
        "\t\t# store forecast in list of predictions\r\n",
        "\t\tpredictions.append(yhat)\r\n",
        "\t\t# add actual observation to history for the next loop\r\n",
        "\t\thistory.append(test[i])\r\n",
        "\t# estimate prediction error\r\n",
        "\terror = measure_rmse(test, predictions)\r\n",
        "\tprint(' > %.3f' % error)\r\n",
        "\treturn error"
      ],
      "execution_count": 8,
      "outputs": []
    },
    {
      "cell_type": "code",
      "metadata": {
        "id": "cRHqieo17lCJ"
      },
      "source": [
        "# score a model, return None on failure\r\n",
        "def repeat_evaluate(data, config, n_test, n_repeats=10):\r\n",
        "\t# convert config to a key\r\n",
        "\tkey = str(config)\r\n",
        "\t# fit and evaluate the model n times\r\n",
        "\tscores = [walk_forward_validation(data, n_test, config) for _ in range(n_repeats)]\r\n",
        "\t# summarize score\r\n",
        "\tresult = mean(scores)\r\n",
        "\tprint('> Model[%s] %.3f' % (key, result))\r\n",
        "\treturn (key, result)\r\n"
      ],
      "execution_count": 9,
      "outputs": []
    },
    {
      "cell_type": "code",
      "metadata": {
        "id": "lOKLkc5N7pBf"
      },
      "source": [
        "# grid search configs\r\n",
        "def grid_search(data, cfg_list, n_test):\r\n",
        "\t# evaluate configs\r\n",
        "\tscores = scores = [repeat_evaluate(data, cfg, n_test) for cfg in cfg_list]\r\n",
        "\t# sort configs by error, asc\r\n",
        "\tscores.sort(key=lambda tup: tup[1])\r\n",
        "\treturn scores"
      ],
      "execution_count": 10,
      "outputs": []
    },
    {
      "cell_type": "markdown",
      "metadata": {
        "id": "RYz41Any-UVX"
      },
      "source": [
        "Quarterly Sales"
      ]
    },
    {
      "cell_type": "code",
      "metadata": {
        "id": "yBsP76bR7q5-"
      },
      "source": [
        "# create a list of configs for qaurterly sales to try\r\n",
        "def model_configs():\r\n",
        "\t# define scope of configs\r\n",
        "  # n input: The number of prior inputs to use as input for the model.\r\n",
        "  # n nodes: The number of nodes to use in the hidden layer.\r\n",
        "  # n epochs: The number of training epochs.\r\n",
        "  # n batch: The number of samples to include in each mini-batch.\r\n",
        "  # n diff: The difference order.\r\n",
        "\tn_input = [4]\r\n",
        "\tn_nodes = [50]\r\n",
        "\tn_epochs = [20]\r\n",
        "\tn_batch = [1, 12]\r\n",
        "\tn_diff = [0]\r\n",
        "\t# create configs\r\n",
        "\tconfigs = list()\r\n",
        "\tfor i in n_input:\r\n",
        "\t\tfor j in n_nodes:\r\n",
        "\t\t\tfor k in n_epochs:\r\n",
        "\t\t\t\tfor l in n_batch:\r\n",
        "\t\t\t\t\tfor m in n_diff:\r\n",
        "\t\t\t\t\t\tcfg = [i, j, k, l, m]\r\n",
        "\t\t\t\t\t\tconfigs.append(cfg)\r\n",
        "\tprint('Total configs: %d' % len(configs))\r\n",
        "\treturn configs\r\n"
      ],
      "execution_count": 11,
      "outputs": []
    },
    {
      "cell_type": "code",
      "metadata": {
        "colab": {
          "base_uri": "https://localhost:8080/"
        },
        "id": "rLAndqVP7u_x",
        "outputId": "81bfb05b-5f0e-46fd-d057-24ee9e268a0c"
      },
      "source": [
        "series = read_excel('/content/Sales-quarterly.xlsx', header=0, index_col=0)\r\n",
        "series = DataFrame(series['Sales'])\r\n",
        "data = series.values\r\n",
        "# data split\r\n",
        "n_test = 4\r\n",
        "# model configs\r\n",
        "cfg_list = model_configs()\r\n",
        "# grid search\r\n",
        "scores = grid_search(data, cfg_list, n_test)\r\n",
        "print('done')\r\n",
        "# list top 10 configs\r\n",
        "for cfg, error in scores[:3]:\r\n",
        "\tprint(cfg, error)"
      ],
      "execution_count": 12,
      "outputs": [
        {
          "output_type": "stream",
          "text": [
            "Total configs: 2\n",
            " > 282851.830\n",
            " > 310469.963\n",
            " > 345605.787\n",
            " > 232089.235\n",
            " > 315041.594\n",
            " > 235737.322\n",
            " > 243747.237\n",
            " > 171081.238\n",
            " > 259576.306\n",
            " > 257858.439\n",
            "> Model[[4, 50, 20, 1, 0]] 265405.895\n",
            " > 321433.135\n",
            " > 337985.625\n",
            " > 331416.080\n",
            " > 264975.734\n",
            " > 307610.709\n",
            " > 313344.072\n",
            " > 326570.575\n",
            " > 265918.063\n",
            " > 245025.477\n",
            " > 259143.899\n",
            "> Model[[4, 50, 20, 12, 0]] 297342.337\n",
            "done\n",
            "[4, 50, 20, 1, 0] 265405.89494165854\n",
            "[4, 50, 20, 12, 0] 297342.3367696112\n"
          ],
          "name": "stdout"
        }
      ]
    },
    {
      "cell_type": "markdown",
      "metadata": {
        "id": "GQ3oQJdg-Xr9"
      },
      "source": [
        "Monthly sales"
      ]
    },
    {
      "cell_type": "code",
      "metadata": {
        "id": "PXfK16c3-aHg"
      },
      "source": [
        "# create a list of configs for qaurterly sales to try\r\n",
        "def model_configs():\r\n",
        "\t# define scope of configs\r\n",
        "  # n input: The number of prior inputs to use as input for the model.\r\n",
        "  # n nodes: The number of nodes to use in the hidden layer.\r\n",
        "  # n epochs: The number of training epochs.\r\n",
        "  # n batch: The number of samples to include in each mini-batch.\r\n",
        "  # n diff: The difference order.\r\n",
        "\tn_input = [4]\r\n",
        "\tn_nodes = [50]\r\n",
        "\tn_epochs = [20]\r\n",
        "\tn_batch = [1, 12]\r\n",
        "\tn_diff = [12]\r\n",
        "\t# create configs\r\n",
        "\tconfigs = list()\r\n",
        "\tfor i in n_input:\r\n",
        "\t\tfor j in n_nodes:\r\n",
        "\t\t\tfor k in n_epochs:\r\n",
        "\t\t\t\tfor l in n_batch:\r\n",
        "\t\t\t\t\tfor m in n_diff:\r\n",
        "\t\t\t\t\t\tcfg = [i, j, k, l, m]\r\n",
        "\t\t\t\t\t\tconfigs.append(cfg)\r\n",
        "\tprint('Total configs: %d' % len(configs))\r\n",
        "\treturn configs\r\n"
      ],
      "execution_count": 13,
      "outputs": []
    },
    {
      "cell_type": "code",
      "metadata": {
        "colab": {
          "base_uri": "https://localhost:8080/"
        },
        "id": "pJP3h7p68ClT",
        "outputId": "66236877-edaf-48d4-eaed-e849c25bc557"
      },
      "source": [
        "series = read_excel('/content/Sales-monthly.xlsx', header=0, index_col=0)\r\n",
        "#series = DataFrame(series['Sales'])\r\n",
        "data = series.values\r\n",
        "# data split\r\n",
        "n_test = 12\r\n",
        "# model configs\r\n",
        "cfg_list = model_configs()\r\n",
        "# grid search\r\n",
        "scores = grid_search(data, cfg_list, n_test)\r\n",
        "print('done')\r\n",
        "# list top 10 configs\r\n",
        "for cfg, error in scores[:3]:\r\n",
        "\tprint(cfg, error)"
      ],
      "execution_count": 14,
      "outputs": [
        {
          "output_type": "stream",
          "text": [
            "Total configs: 2\n",
            " > 124289.506\n",
            " > 121486.124\n",
            " > 107931.080\n",
            " > 220908.327\n",
            " > 151503.758\n",
            " > 167258.807\n",
            " > 164624.129\n",
            " > 142578.168\n",
            " > 122904.945\n",
            " > 121325.917\n",
            "> Model[[4, 50, 20, 1, 12]] 144481.076\n",
            " > 68460.273\n",
            " > 72474.823\n",
            " > 64798.482\n",
            " > 73793.879\n",
            " > 67139.207\n",
            " > 64363.890\n",
            " > 71520.262\n",
            " > 70028.004\n",
            " > 70134.491\n",
            " > 65997.448\n",
            "> Model[[4, 50, 20, 12, 12]] 68871.076\n",
            "done\n",
            "[4, 50, 20, 12, 12] 68871.07595863233\n",
            "[4, 50, 20, 1, 12] 144481.07625275108\n"
          ],
          "name": "stdout"
        }
      ]
    },
    {
      "cell_type": "code",
      "metadata": {
        "id": "MO8TvCuc9-1G"
      },
      "source": [
        ""
      ],
      "execution_count": 14,
      "outputs": []
    }
  ]
}