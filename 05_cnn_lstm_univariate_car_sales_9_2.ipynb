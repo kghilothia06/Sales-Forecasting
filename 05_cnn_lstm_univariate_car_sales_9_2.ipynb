{
  "nbformat": 4,
  "nbformat_minor": 0,
  "metadata": {
    "colab": {
      "name": "05_cnn_lstm_univariate_car_sales_9_2.ipynb",
      "provenance": []
    },
    "kernelspec": {
      "name": "python3",
      "display_name": "Python 3"
    }
  },
  "cells": [
    {
      "cell_type": "markdown",
      "metadata": {
        "id": "j9pYA4MlwLEz"
      },
      "source": [
        "# univariate cnn lstm example for sales prediction"
      ]
    },
    {
      "cell_type": "markdown",
      "metadata": {
        "id": "YaHvszS8wFS1"
      },
      "source": [
        "Import Libraries"
      ]
    },
    {
      "cell_type": "code",
      "metadata": {
        "id": "iLuybnOqwBRN"
      },
      "source": [
        "import pandas as pd\r\n",
        "from numpy import array\r\n",
        "from keras.models import Sequential\r\n",
        "from keras.layers import LSTM\r\n",
        "from keras.layers import Dense\r\n",
        "from keras.layers import Flatten\r\n",
        "from keras.layers import TimeDistributed\r\n",
        "from keras.layers.convolutional import Conv1D\r\n",
        "from keras.layers.convolutional import MaxPooling1D"
      ],
      "execution_count": 1,
      "outputs": []
    },
    {
      "cell_type": "markdown",
      "metadata": {
        "id": "EqmHhxLVwV7o"
      },
      "source": [
        "Function to split a univariate sequence into samples"
      ]
    },
    {
      "cell_type": "code",
      "metadata": {
        "id": "VHBniGrawVPf"
      },
      "source": [
        "def split_sequence(sequence, n_steps):\r\n",
        "\tX, y = list(), list()\r\n",
        "\tfor i in range(len(sequence)):\r\n",
        "\t\t# find the end of this pattern\r\n",
        "\t\tend_ix = i + n_steps\r\n",
        "\t\t# check if we are beyond the sequence\r\n",
        "\t\tif end_ix > len(sequence)-1:\r\n",
        "\t\t\tbreak\r\n",
        "\t\t# gather input and output parts of the pattern\r\n",
        "\t\tseq_x, seq_y = sequence[i:end_ix], sequence[end_ix]\r\n",
        "\t\tX.append(seq_x)\r\n",
        "\t\ty.append(seq_y)\r\n",
        "\treturn array(X), array(y)"
      ],
      "execution_count": 2,
      "outputs": []
    },
    {
      "cell_type": "markdown",
      "metadata": {
        "id": "y60vOLxkwi70"
      },
      "source": [
        "Functionality for Data Preparation for Model Training"
      ]
    },
    {
      "cell_type": "code",
      "metadata": {
        "id": "PtGqER_WwVNC"
      },
      "source": [
        "def data_prep(df):\r\n",
        "  # choose a number of time steps\r\n",
        "  n_steps = 4\r\n",
        "\r\n",
        "  #Convert 'Sales' column to a list\r\n",
        "  raw_seq=[]\r\n",
        "\r\n",
        "  for i in df['Sales']:\r\n",
        "    raw_seq.append(i)\r\n",
        "\r\n",
        "  # split into samples\r\n",
        "  X, y = split_sequence(raw_seq, n_steps)\r\n",
        "  # taking all the data except last row\r\n",
        "  X_train = X[:len(X)-1]\r\n",
        "  y_train = y[:len(y)-1]\r\n",
        "\r\n",
        "  # test sample would be data corresponding to last row\r\n",
        "  X_test = X[len(X)-1]\r\n",
        "  y_test = y[len(y)-1] \r\n",
        "\r\n",
        "  # reshape from [samples, timesteps] into [samples, subsequences, timesteps, features]\r\n",
        "  n_features = 1\r\n",
        "  n_seq = 2\r\n",
        "  n_steps = 2\r\n",
        "  X_train = X_train.reshape((X_train.shape[0], n_seq, n_steps, n_features))\r\n",
        "  X_test = X_test.reshape((1, n_seq, n_steps, n_features))\r\n",
        "  print('Data Preparation DONE!')\r\n",
        "\r\n",
        "  # Build and train the model\r\n",
        "  build_model(X_train,y_train,X_test,y_test,n_steps,n_features,n_seq) "
      ],
      "execution_count": 3,
      "outputs": []
    },
    {
      "cell_type": "markdown",
      "metadata": {
        "id": "m60mD8SEyHZs"
      },
      "source": [
        "Functionality for Model Building and Training"
      ]
    },
    {
      "cell_type": "code",
      "metadata": {
        "id": "fGhOcfSzwVLc"
      },
      "source": [
        "def build_model(X_train,y_train,X_test,y_test,n_steps,n_features,n_seq):\r\n",
        "  model = Sequential()\r\n",
        "\r\n",
        "  model.add(TimeDistributed(Conv1D(filters=64, kernel_size=1, activation='relu'), input_shape=(None, n_steps, n_features)))\r\n",
        "  model.add(TimeDistributed(MaxPooling1D(pool_size=2)))\r\n",
        "  model.add(TimeDistributed(Flatten()))\r\n",
        "  model.add(LSTM(50, activation='relu'))\r\n",
        "  model.add(Dense(1))\r\n",
        "  model.compile(optimizer='adam', loss='mse')\r\n",
        "  print('Model Built!')\r\n",
        "  # fit model\r\n",
        "  model.fit(X_train, y_train, epochs=500, verbose=0)\r\n",
        "  print('Model Trained!')\r\n",
        "\r\n",
        "  #Make Predictions\r\n",
        "  print('Now Making Predictions!')\r\n",
        "\r\n",
        "  yhat = model.predict(X_test, verbose=0)\r\n",
        "  print('predicted value : ' + str(yhat[0][0]))\r\n",
        "  print('actual value : ' + str(y_test)) "
      ],
      "execution_count": 4,
      "outputs": []
    },
    {
      "cell_type": "markdown",
      "metadata": {
        "id": "LvyNBtbEyuCn"
      },
      "source": [
        "Read Dataset using pandas"
      ]
    },
    {
      "cell_type": "markdown",
      "metadata": {
        "id": "wn3yRs3LyynC"
      },
      "source": [
        "First will be quarterly sales prediction"
      ]
    },
    {
      "cell_type": "code",
      "metadata": {
        "id": "o92k0d--wVIb"
      },
      "source": [
        "df1 = pd.read_excel('/content/Sales-quarterly.xlsx',header=0,index_col=0)"
      ],
      "execution_count": 5,
      "outputs": []
    },
    {
      "cell_type": "code",
      "metadata": {
        "colab": {
          "base_uri": "https://localhost:8080/"
        },
        "id": "xdS1jwUvwVGL",
        "outputId": "85389858-0596-4466-f3f0-2b3243912e1b"
      },
      "source": [
        "data_prep(df1)"
      ],
      "execution_count": 6,
      "outputs": [
        {
          "output_type": "stream",
          "text": [
            "Data Preparation DONE!\n",
            "Model Built!\n",
            "Model Trained!\n",
            "Now Making Predictions!\n",
            "predicted value : 230677.53\n",
            "actual value : 611909.638\n"
          ],
          "name": "stdout"
        }
      ]
    },
    {
      "cell_type": "markdown",
      "metadata": {
        "id": "LQlJGb2xy9EJ"
      },
      "source": [
        "Second will be monthly sales prediction"
      ]
    },
    {
      "cell_type": "code",
      "metadata": {
        "id": "6tY9U4nXwVDu"
      },
      "source": [
        "df2 = pd.read_excel('/content/Sales-monthly.xlsx',header=0,index_col=0)"
      ],
      "execution_count": 7,
      "outputs": []
    },
    {
      "cell_type": "code",
      "metadata": {
        "colab": {
          "base_uri": "https://localhost:8080/"
        },
        "id": "_upKZuimwVCI",
        "outputId": "7cb768c2-92e3-4c86-a570-b69853423e89"
      },
      "source": [
        "data_prep(df2)"
      ],
      "execution_count": 8,
      "outputs": [
        {
          "output_type": "stream",
          "text": [
            "Data Preparation DONE!\n",
            "Model Built!\n",
            "Model Trained!\n",
            "Now Making Predictions!\n",
            "predicted value : 87851.66\n",
            "actual value : 513890.482\n"
          ],
          "name": "stdout"
        }
      ]
    },
    {
      "cell_type": "code",
      "metadata": {
        "id": "QVcTUNPLwVAk"
      },
      "source": [
        ""
      ],
      "execution_count": 8,
      "outputs": []
    }
  ]
}