{
  "nbformat": 4,
  "nbformat_minor": 0,
  "metadata": {
    "colab": {
      "name": "04_bidirectional_lstm_univariate_monthly_car_sales_9_2.ipynb",
      "provenance": [],
      "authorship_tag": "ABX9TyM/enZFS5x9vp066u2/3sXP",
      "include_colab_link": true
    },
    "kernelspec": {
      "name": "python3",
      "display_name": "Python 3"
    }
  },
  "cells": [
    {
      "cell_type": "markdown",
      "metadata": {
        "id": "view-in-github",
        "colab_type": "text"
      },
      "source": [
        "<a href=\"https://colab.research.google.com/github/kghilothia06/Time-Series-Forecasting/blob/main/04_bidirectional_lstm_univariate_monthly_car_sales_9_2.ipynb\" target=\"_parent\"><img src=\"https://colab.research.google.com/assets/colab-badge.svg\" alt=\"Open In Colab\"/></a>"
      ]
    },
    {
      "cell_type": "markdown",
      "metadata": {
        "id": "YmSioXhbHvdy"
      },
      "source": [
        "# univariate bidirectional lstm example for monthly sales prediction"
      ]
    },
    {
      "cell_type": "markdown",
      "metadata": {
        "id": "PQPVbAKgHz5F"
      },
      "source": [
        "Import Libraries"
      ]
    },
    {
      "cell_type": "code",
      "metadata": {
        "id": "15L3AJenBJix"
      },
      "source": [
        "import pandas as pd\r\n",
        "from numpy import array\r\n",
        "from keras.models import Sequential\r\n",
        "from keras.layers import LSTM\r\n",
        "from keras.layers import Dense\r\n",
        "from keras.layers import Bidirectional\r\n"
      ],
      "execution_count": 1,
      "outputs": []
    },
    {
      "cell_type": "markdown",
      "metadata": {
        "id": "HI2I9gHJH8I4"
      },
      "source": [
        "Function to split a univariate sequence"
      ]
    },
    {
      "cell_type": "code",
      "metadata": {
        "id": "QPOWpLqOH5kK"
      },
      "source": [
        "def split_sequence(sequence, n_steps):\r\n",
        "\tX, y = list(), list()\r\n",
        "\tfor i in range(len(sequence)):\r\n",
        "\t\t# find the end of this pattern\r\n",
        "\t\tend_ix = i + n_steps\r\n",
        "\t\t# check if we are beyond the sequence\r\n",
        "\t\tif end_ix > len(sequence)-1:\r\n",
        "\t\t\tbreak\r\n",
        "\t\t# gather input and output parts of the pattern\r\n",
        "\t\tseq_x, seq_y = sequence[i:end_ix], sequence[end_ix]\r\n",
        "\t\tX.append(seq_x)\r\n",
        "\t\ty.append(seq_y)\r\n",
        "\treturn array(X), array(y)"
      ],
      "execution_count": 2,
      "outputs": []
    },
    {
      "cell_type": "markdown",
      "metadata": {
        "id": "hIPgkCt2IFLx"
      },
      "source": [
        "Read dataset using pandas"
      ]
    },
    {
      "cell_type": "code",
      "metadata": {
        "id": "RP8j5QTnH_J8"
      },
      "source": [
        "df = pd.read_excel('/content/Sales-monthly.xlsx',header=0,index_col=0)"
      ],
      "execution_count": 3,
      "outputs": []
    },
    {
      "cell_type": "markdown",
      "metadata": {
        "id": "uhqDQ4EnIUU3"
      },
      "source": [
        "Data Preparation for Model Training"
      ]
    },
    {
      "cell_type": "code",
      "metadata": {
        "id": "D2GaSU9DINEk"
      },
      "source": [
        "# choose a number of time steps\r\n",
        "n_steps = 3"
      ],
      "execution_count": 4,
      "outputs": []
    },
    {
      "cell_type": "code",
      "metadata": {
        "id": "BICjgPMhId1n"
      },
      "source": [
        "#Convert 'Sales' column to a list\r\n",
        "raw_seq=[]\r\n",
        "\r\n",
        "for i in df['Sales']:\r\n",
        "  raw_seq.append(i)"
      ],
      "execution_count": 5,
      "outputs": []
    },
    {
      "cell_type": "code",
      "metadata": {
        "id": "SAKMpbEQINsL"
      },
      "source": [
        "# split into samples\r\n",
        "X, y = split_sequence(raw_seq, n_steps)"
      ],
      "execution_count": 6,
      "outputs": []
    },
    {
      "cell_type": "code",
      "metadata": {
        "id": "wb1ExqqwIZnl"
      },
      "source": [
        "# taking all the data except that of December 2020 as training data\r\n",
        "X_train = X[:len(X)-1]\r\n",
        "y_train = y[:len(y)-1]"
      ],
      "execution_count": 7,
      "outputs": []
    },
    {
      "cell_type": "code",
      "metadata": {
        "id": "x6KXiKsZIiVu"
      },
      "source": [
        "# test sample would be data corresponding to December 2020\r\n",
        "X_test = X[len(X)-1]\r\n",
        "y_test = y[len(y)-1] "
      ],
      "execution_count": 8,
      "outputs": []
    },
    {
      "cell_type": "code",
      "metadata": {
        "id": "vPKmtyWMIlIM"
      },
      "source": [
        "# reshape from [samples, timesteps] into [samples, timesteps, features]\r\n",
        "n_features = 1\r\n",
        "X_train = X_train.reshape((X_train.shape[0], X_train.shape[1], n_features))"
      ],
      "execution_count": 9,
      "outputs": []
    },
    {
      "cell_type": "markdown",
      "metadata": {
        "id": "bZ3judPiI2IW"
      },
      "source": [
        "Define Model"
      ]
    },
    {
      "cell_type": "code",
      "metadata": {
        "id": "bKD9RsO7IxjU"
      },
      "source": [
        "model = Sequential()\r\n",
        "model.add(Bidirectional(LSTM(50, activation='relu'), input_shape=(n_steps, n_features)))\r\n",
        "model.add(Dense(1))\r\n",
        "model.compile(optimizer='adam', loss='mse')"
      ],
      "execution_count": 10,
      "outputs": []
    },
    {
      "cell_type": "code",
      "metadata": {
        "colab": {
          "base_uri": "https://localhost:8080/"
        },
        "id": "7WebMaAeIxg4",
        "outputId": "f8a51f67-865d-4f3b-ae69-28776685634a"
      },
      "source": [
        "# fit model\r\n",
        "model.fit(X_train, y_train, epochs=200, verbose=0)"
      ],
      "execution_count": 11,
      "outputs": [
        {
          "output_type": "execute_result",
          "data": {
            "text/plain": [
              "<tensorflow.python.keras.callbacks.History at 0x7fd4a964b6d8>"
            ]
          },
          "metadata": {
            "tags": []
          },
          "execution_count": 11
        }
      ]
    },
    {
      "cell_type": "markdown",
      "metadata": {
        "id": "0lvy_NAZI702"
      },
      "source": [
        "Make Prediction"
      ]
    },
    {
      "cell_type": "code",
      "metadata": {
        "id": "EJ32fpq_I55O"
      },
      "source": [
        "X_test = X_test.reshape((1, n_steps, n_features))"
      ],
      "execution_count": 12,
      "outputs": []
    },
    {
      "cell_type": "code",
      "metadata": {
        "colab": {
          "base_uri": "https://localhost:8080/"
        },
        "id": "E8Ag5MN-JG9I",
        "outputId": "a012617f-e770-41be-951e-3f6c8ff098f5"
      },
      "source": [
        "yhat = model.predict(X_test, verbose=0)\r\n",
        "print('predicted value : ' + str(yhat[0][0]))\r\n",
        "print('actual value : ' + str(y_test))"
      ],
      "execution_count": 13,
      "outputs": [
        {
          "output_type": "stream",
          "text": [
            "predicted value : 277010.78\n",
            "actual value : 513890.482\n"
          ],
          "name": "stdout"
        }
      ]
    },
    {
      "cell_type": "code",
      "metadata": {
        "id": "rjoCn9xrJImK"
      },
      "source": [
        ""
      ],
      "execution_count": 13,
      "outputs": []
    }
  ]
}