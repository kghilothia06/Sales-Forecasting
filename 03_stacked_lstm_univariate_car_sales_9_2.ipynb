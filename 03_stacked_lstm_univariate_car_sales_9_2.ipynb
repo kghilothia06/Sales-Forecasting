{
  "nbformat": 4,
  "nbformat_minor": 0,
  "metadata": {
    "colab": {
      "name": "03_stacked_lstm_univariate_car_sales_9_2.ipynb",
      "provenance": [],
      "toc_visible": true
    },
    "kernelspec": {
      "name": "python3",
      "display_name": "Python 3"
    }
  },
  "cells": [
    {
      "cell_type": "markdown",
      "metadata": {
        "id": "4sIbZMg3wABS"
      },
      "source": [
        "# Stacked LSTM for sales prediction"
      ]
    },
    {
      "cell_type": "markdown",
      "metadata": {
        "id": "dPwGjDmev8-J"
      },
      "source": [
        "Import Libraries"
      ]
    },
    {
      "cell_type": "code",
      "metadata": {
        "id": "voDEd9pxv53D"
      },
      "source": [
        "import pandas as pd\r\n",
        "from numpy import array\r\n",
        "from keras.models import Sequential\r\n",
        "from keras.layers import LSTM\r\n",
        "from keras.layers import Dense"
      ],
      "execution_count": 1,
      "outputs": []
    },
    {
      "cell_type": "markdown",
      "metadata": {
        "id": "yE9r3UfpwLF3"
      },
      "source": [
        "Function to split a univariate sequence"
      ]
    },
    {
      "cell_type": "code",
      "metadata": {
        "id": "YHpn9J6UwGHa"
      },
      "source": [
        "def split_sequence(sequence, n_steps):\r\n",
        "\tX, y = list(), list()\r\n",
        "\tfor i in range(len(sequence)):\r\n",
        "\t\t# find the end of this pattern\r\n",
        "\t\tend_ix = i + n_steps\r\n",
        "\t\t# check if we are beyond the sequence\r\n",
        "\t\tif end_ix > len(sequence)-1:\r\n",
        "\t\t\tbreak\r\n",
        "\t\t# gather input and output parts of the pattern\r\n",
        "\t\tseq_x, seq_y = sequence[i:end_ix], sequence[end_ix]\r\n",
        "\t\tX.append(seq_x)\r\n",
        "\t\ty.append(seq_y)\r\n",
        "\treturn array(X), array(y)\r\n"
      ],
      "execution_count": 2,
      "outputs": []
    },
    {
      "cell_type": "markdown",
      "metadata": {
        "id": "lgXs1GEzy6d3"
      },
      "source": [
        "Functionality for Data Preparation for Model Training\r\n",
        "\r\n",
        "\r\n"
      ]
    },
    {
      "cell_type": "code",
      "metadata": {
        "id": "jq2t5jNvtt95"
      },
      "source": [
        "def data_prep(df):\r\n",
        "  # choose a number of time steps\r\n",
        "  n_steps = 3\r\n",
        "\r\n",
        "  #Convert 'Sales' column to a list\r\n",
        "  raw_seq=[]\r\n",
        "\r\n",
        "  for i in df['Sales']:\r\n",
        "    raw_seq.append(i)\r\n",
        "  \r\n",
        "  # split into samples\r\n",
        "  X, y = split_sequence(raw_seq, n_steps)\r\n",
        "  \r\n",
        "  # taking all the data except last row\r\n",
        "  X_train = X[:len(X)-1]\r\n",
        "  y_train = y[:len(y)-1]\r\n",
        "  \r\n",
        "  # test sample would be data corresponding to last row\r\n",
        "  X_test = X[len(X)-1]\r\n",
        "  y_test = y[len(y)-1] \r\n",
        "  \r\n",
        "  # reshape from [samples, timesteps] into [samples, timesteps, features]\r\n",
        "  n_features = 1\r\n",
        "  X_train = X_train.reshape((X_train.shape[0], X_train.shape[1], n_features))\r\n",
        "  X_test = X_test.reshape((1, n_steps, n_features))\r\n",
        "\r\n",
        "  print('Data Preparation DONE!')\r\n",
        "  # Build and train the model\r\n",
        "  build_model(X_train,y_train,X_test,y_test,n_steps,n_features) \r\n",
        "\r\n"
      ],
      "execution_count": 3,
      "outputs": []
    },
    {
      "cell_type": "markdown",
      "metadata": {
        "id": "CxKSVJPj1_Wq"
      },
      "source": [
        "Define Model"
      ]
    },
    {
      "cell_type": "code",
      "metadata": {
        "id": "Bg5PQTsL167n"
      },
      "source": [
        "def build_model(X_train,y_train,X_test,y_test,n_steps,n_features):\r\n",
        "  model = Sequential()\r\n",
        "  model.add(LSTM(50, activation='relu', return_sequences=True, input_shape=(n_steps, n_features)))\r\n",
        "  model.add(LSTM(50, activation='relu'))\r\n",
        "  model.add(Dense(1))\r\n",
        "  model.compile(optimizer='adam', loss='mse')\r\n",
        "  \r\n",
        "  print('Model Built!')\r\n",
        "\r\n",
        "  # fit model\r\n",
        "  model.fit(X_train, y_train, epochs=200, verbose=0)\r\n",
        "  print('Model Trained!')\r\n",
        "  \r\n",
        "  #make Predictions\r\n",
        "  print('Now making predictions')\r\n",
        "  yhat = model.predict(X_test, verbose=0)\r\n",
        "  print('predicted value : ' + str(yhat[0][0]))\r\n",
        "  print('actual value : ' + str(y_test))"
      ],
      "execution_count": 4,
      "outputs": []
    },
    {
      "cell_type": "markdown",
      "metadata": {
        "id": "p3KoRgwn2pMI"
      },
      "source": [
        "Read dataset using pandas"
      ]
    },
    {
      "cell_type": "markdown",
      "metadata": {
        "id": "uymA70FHuY_D"
      },
      "source": [
        "First will be quarterly sales prediction"
      ]
    },
    {
      "cell_type": "code",
      "metadata": {
        "id": "Kgigh4yUwOFk"
      },
      "source": [
        "df1 = pd.read_excel('/content/Sales-quarterly.xlsx', header=0, index_col=0)"
      ],
      "execution_count": 5,
      "outputs": []
    },
    {
      "cell_type": "code",
      "metadata": {
        "id": "hiavpgwi6yVV",
        "colab": {
          "base_uri": "https://localhost:8080/"
        },
        "outputId": "3861cd03-1fd0-42b0-e6f9-1b94fe919018"
      },
      "source": [
        "data_prep(df1)"
      ],
      "execution_count": 6,
      "outputs": [
        {
          "output_type": "stream",
          "text": [
            "Data Preparation DONE!\n",
            "Model Built!\n",
            "Model Trained!\n",
            "Now making predictions\n",
            "predicted value : 210048.97\n",
            "actual value : 611909.638\n"
          ],
          "name": "stdout"
        }
      ]
    },
    {
      "cell_type": "markdown",
      "metadata": {
        "id": "pGT6uVMmuny1"
      },
      "source": [
        "Second will be Monthly sales prediction"
      ]
    },
    {
      "cell_type": "code",
      "metadata": {
        "id": "49GFeAFQul2V"
      },
      "source": [
        "df2 = pd.read_excel('/content/Sales-monthly.xlsx', header=0, index_col=0)"
      ],
      "execution_count": 7,
      "outputs": []
    },
    {
      "cell_type": "code",
      "metadata": {
        "colab": {
          "base_uri": "https://localhost:8080/"
        },
        "id": "N7pXzKgXuwoH",
        "outputId": "5877c70e-08af-4566-bd59-2b0511b7b72a"
      },
      "source": [
        "data_prep(df2)"
      ],
      "execution_count": 8,
      "outputs": [
        {
          "output_type": "stream",
          "text": [
            "Data Preparation DONE!\n",
            "Model Built!\n",
            "Model Trained!\n",
            "Now making predictions\n",
            "predicted value : 422357.0\n",
            "actual value : 513890.482\n"
          ],
          "name": "stdout"
        }
      ]
    },
    {
      "cell_type": "code",
      "metadata": {
        "id": "d1hRs5XcuyQH"
      },
      "source": [
        ""
      ],
      "execution_count": 8,
      "outputs": []
    }
  ]
}