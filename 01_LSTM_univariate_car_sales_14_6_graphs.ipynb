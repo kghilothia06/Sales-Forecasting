{
  "nbformat": 4,
  "nbformat_minor": 0,
  "metadata": {
    "colab": {
      "name": "01_LSTM_univariate_car_sales_14_6_graphs.ipynb",
      "provenance": [],
      "authorship_tag": "ABX9TyMJHvxINPJSDHMtlmXRl3RP",
      "include_colab_link": true
    },
    "kernelspec": {
      "name": "python3",
      "display_name": "Python 3"
    }
  },
  "cells": [
    {
      "cell_type": "markdown",
      "metadata": {
        "id": "view-in-github",
        "colab_type": "text"
      },
      "source": [
        "<a href=\"https://colab.research.google.com/github/kghilothia06/Time-Series-Forecasting/blob/main/01_LSTM_univariate_car_sales_14_6_graphs.ipynb\" target=\"_parent\"><img src=\"https://colab.research.google.com/assets/colab-badge.svg\" alt=\"Open In Colab\"/></a>"
      ]
    },
    {
      "cell_type": "markdown",
      "metadata": {
        "id": "_VeI75pwCawx"
      },
      "source": [
        "LSTM examples for monthly and quarterly sales prediction"
      ]
    },
    {
      "cell_type": "markdown",
      "metadata": {
        "id": "eII9hNe1CYPr"
      },
      "source": [
        "Import Libraries"
      ]
    },
    {
      "cell_type": "code",
      "metadata": {
        "id": "9q4rw8UOCFuJ"
      },
      "source": [
        "from math import sqrt\n",
        "from numpy import array\n",
        "from numpy import mean\n",
        "from numpy import std\n",
        "from pandas import DataFrame\n",
        "from pandas import concat\n",
        "from pandas import read_csv\n",
        "from sklearn.metrics import mean_squared_error\n",
        "from keras.models import Sequential\n",
        "from keras.layers import Dense\n",
        "from keras.layers import LSTM\n",
        "from matplotlib import pyplot\n",
        "from pandas import DataFrame\n",
        "import numpy as np\n",
        "import matplotlib.pyplot as plt\n",
        "from sklearn.metrics import r2_score"
      ],
      "execution_count": 1,
      "outputs": []
    },
    {
      "cell_type": "code",
      "metadata": {
        "id": "EsBNH32dCmsL"
      },
      "source": [
        "# split a univariate dataset into train/test sets\n",
        "def train_test_split(data, n_test):\n",
        "  return data[:-n_test], data[-n_test:]\n"
      ],
      "execution_count": 2,
      "outputs": []
    },
    {
      "cell_type": "code",
      "metadata": {
        "id": "TJDpZADBCmoz"
      },
      "source": [
        "# transform list into supervised learning format\n",
        "def series_to_supervised(data, n_in, n_out=1):\n",
        "  df = DataFrame(data)\n",
        "  cols = list()\n",
        "  # input sequence (t-n, ... t-1)\n",
        "  for i in range(n_in, 0, -1):\n",
        "    cols.append(df.shift(i))\n",
        "  # forecast sequence (t, t+1, ... t+n)\n",
        "  for i in range(0, n_out):\n",
        "    cols.append(df.shift(-i))\n",
        "  # put it all together\n",
        "  agg = concat(cols, axis=1)\n",
        "  # drop rows with NaN values\n",
        "  agg.dropna(inplace=True)\n",
        "  return agg.values\n"
      ],
      "execution_count": 3,
      "outputs": []
    },
    {
      "cell_type": "code",
      "metadata": {
        "id": "R22eB7saCmmH"
      },
      "source": [
        "# root mean squared error or rmse\n",
        "def measure_rmse(actual, predicted):\n",
        "  # round calculated RMSE to nearest integer\n",
        "  return int(sqrt(mean_squared_error(actual, predicted)))\n"
      ],
      "execution_count": 4,
      "outputs": []
    },
    {
      "cell_type": "code",
      "metadata": {
        "id": "zM7vZsEoCmjV"
      },
      "source": [
        "# difference dataset\n",
        "def difference(data, interval):\n",
        "  return [data[i] - data[i - interval] for i in range(interval, len(data))]"
      ],
      "execution_count": 5,
      "outputs": []
    },
    {
      "cell_type": "code",
      "metadata": {
        "id": "JyolPMp0DGg6"
      },
      "source": [
        "# fit a model\n",
        "def model_fit(train, config):\n",
        "  # unpack config\n",
        "  n_input, n_nodes, n_epochs, n_batch, n_diff = config\n",
        "  # prepare data\n",
        "  if n_diff > 0:\n",
        "    train = difference(train, n_diff)\n",
        "  data = series_to_supervised(train, n_input)\n",
        "  train_x, train_y = data[:, :-1], data[:, -1]\n",
        "  train_x = train_x.reshape((train_x.shape[0], train_x.shape[1], 1))\n",
        "  # define model\n",
        "  model = Sequential()\n",
        "  model.add(LSTM(n_nodes, activation='relu', input_shape=(n_input, 1)))\n",
        "  model.add(Dense(n_nodes, activation='relu'))\n",
        "  model.add(Dense(1))\n",
        "  model.compile(loss='mse', optimizer='adam')\n",
        "  # fit\n",
        "  model.fit(train_x, train_y, epochs=n_epochs, batch_size=n_batch, verbose=0)\n",
        "  return model\n"
      ],
      "execution_count": 6,
      "outputs": []
    },
    {
      "cell_type": "code",
      "metadata": {
        "id": "h8eftTrzDKzL"
      },
      "source": [
        "# forecast with a pre-fit model\n",
        "def model_predict(model, history, config):\n",
        "  # unpack config\n",
        "  n_input, _, _, _, n_diff = config\n",
        "  # prepare data\n",
        "  correction = 0.0\n",
        "  if n_diff > 0:\n",
        "    correction = history[-n_diff]\n",
        "    history = difference(history, n_diff)\n",
        "  x_input = array(history[-n_input:]).reshape((1, n_input, 1))\n",
        "  # forecast\n",
        "  yhat = model.predict(x_input, verbose=0)\n",
        "  return correction + yhat[0]"
      ],
      "execution_count": 7,
      "outputs": []
    },
    {
      "cell_type": "code",
      "metadata": {
        "id": "kj9OdyQrDay5"
      },
      "source": [
        "# walk-forward validation for univariate data\n",
        "def walk_forward_validation(data, n_test, cfg):\n",
        "  predictions = list()\n",
        "  # split dataset\n",
        "  train, test = train_test_split(data, n_test)\n",
        "  # fit model\n",
        "  model = model_fit(train, cfg)\n",
        "  # seed history with training dataset\n",
        "  history = [x for x in train]\n",
        "  # step over each time-step in the test set\n",
        "  for i in range(len(test)):\n",
        "    # fit model and make forecast for history\n",
        "    yhat = model_predict(model, history, cfg)\n",
        "    # store forecast in list of predictions\n",
        "    predictions.append(yhat)\n",
        "    # add predicted observation to history for the next loop\n",
        "    history.append(yhat)\n",
        "\n",
        "  # calculate R2 score\n",
        "  rsqaure = r2_score(test, predictions)\n",
        "  print('R squared score : ' + str(rsqaure))\n",
        "  # estimate prediction error\n",
        "  error = measure_rmse(test, predictions)\n",
        "  print('RMSE : ' +  str(error))\n",
        "  return train, test, predictions, error\n"
      ],
      "execution_count": 8,
      "outputs": []
    },
    {
      "cell_type": "code",
      "metadata": {
        "id": "rhVhhz2qDtoX"
      },
      "source": [
        "# summarize model performance\n",
        "def summarize_scores(name, score):\n",
        "  # print a summary\n",
        "  # Here, no need to calculate mean and standard deviation as there will only be 1 score ( since repeats = 1)\n",
        "  print('Name : ' + str(name) + ' --> ' + 'Score : ' + str(score))\n",
        "  # box and whisker plot\n",
        "  pyplot.boxplot(score)\n",
        "  pyplot.show()"
      ],
      "execution_count": 9,
      "outputs": []
    },
    {
      "cell_type": "markdown",
      "metadata": {
        "id": "bs4kZ2jkD1ve"
      },
      "source": [
        "## Read quarterly dataset"
      ]
    },
    {
      "cell_type": "markdown",
      "metadata": {
        "id": "d5qQRmcKzV7P"
      },
      "source": [
        "**In order to change how many last values need to be predicted: \n",
        "Kindly modify the 'n_test' variable in the below two cells (separately for quarterly and monthly predictions)** "
      ]
    },
    {
      "cell_type": "code",
      "metadata": {
        "colab": {
          "base_uri": "https://localhost:8080/",
          "height": 319
        },
        "id": "eITAEKzRDxrf",
        "outputId": "88f69b39-c002-4e97-9b4f-6c71c3ed5432"
      },
      "source": [
        "series_original = read_csv('/content/Quarterly_Revenue_March_21.csv', header=0, index_col=0)\n",
        "series = DataFrame(series_original['Revenue'])\n",
        "data = series.values\n",
        "# data split\n",
        "n_test = 4\n",
        "# define config = [n_input, n_nodes, n_epochs, n_batch, n_diff] \n",
        "# n_input: The number of lag observations to use as input to the model.\n",
        "# n_nodes: The number of LSTM units to use in the hidden layer.\n",
        "# n_epochs: The number of times to expose the model to the whole training dataset.\n",
        "# n_batch: The number of samples within an epoch after which the weights are updated.\n",
        "# n_diff: The difference order or 0 if not used\n",
        "config = [1, 8, 10, 4, 4]\n",
        "# calling walk forwward validation function\n",
        "train, test, predictions, error = walk_forward_validation(data,n_test,config)\n",
        "# summarize scores\n",
        "summarize_scores('lstm', error)\n"
      ],
      "execution_count": 10,
      "outputs": [
        {
          "output_type": "stream",
          "text": [
            "R squared score : 0.34694356760044454\n",
            "RMSE : 134776\n",
            "Name : lstm --> Score : 134776\n"
          ],
          "name": "stdout"
        },
        {
          "output_type": "display_data",
          "data": {
            "image/png": "[encoded data removed]",
            "text/plain": [
              "<Figure size 432x288 with 1 Axes>"
            ]
          },
          "metadata": {
            "tags": [],
            "needs_background": "light"
          }
        }
      ]
    },
    {
      "cell_type": "markdown",
      "metadata": {
        "id": "uzxThkJU1Wqj"
      },
      "source": [
        "# Add Graph for quarterly prediction"
      ]
    },
    {
      "cell_type": "code",
      "metadata": {
        "id": "X17e3Mo71VtS"
      },
      "source": [
        "# reset columns\n",
        "series_original.reset_index(level=0, inplace=True)"
      ],
      "execution_count": 11,
      "outputs": []
    },
    {
      "cell_type": "code",
      "metadata": {
        "id": "X5eX3Q8W6JBp"
      },
      "source": [
        "# convert 'Year' and 'Qaurter' column to string type\n",
        "series_original = series_original.astype({\"Year\": str, \"Quarter\": str})"
      ],
      "execution_count": 12,
      "outputs": []
    },
    {
      "cell_type": "code",
      "metadata": {
        "id": "lWWqkZtE3aaE"
      },
      "source": [
        "# concatenate first two columns\n",
        "series_original['Quarter'] = series_original['Year'] + '-' + series_original['Quarter']"
      ],
      "execution_count": 13,
      "outputs": []
    },
    {
      "cell_type": "code",
      "metadata": {
        "colab": {
          "base_uri": "https://localhost:8080/"
        },
        "id": "78gisFlu1Vp4",
        "outputId": "964425ac-2c7d-4372-9c58-83fe98fcbd72"
      },
      "source": [
        "# set x axis labels\n",
        "x_axis_label = []\n",
        "#dictionary to keep track of current year\n",
        "vis = {}\n",
        "vis[2017] = 0\n",
        "vis[2018] = 0\n",
        "vis[2019] = 0\n",
        "vis[2020] = 0\n",
        "vis[2021] = 0\n",
        "for i in range(len(series_original)):\n",
        "  if vis[int(series_original.iloc[i,0])] == 0:\n",
        "    vis[int(series_original.iloc[i,0])] = 1\n",
        "    x_axis_label.append(str(series_original.iloc[i,0]))\n",
        "  else:\n",
        "    x_axis_label.append(' ')\n",
        "\n",
        "x_axis_label"
      ],
      "execution_count": 14,
      "outputs": [
        {
          "output_type": "execute_result",
          "data": {
            "text/plain": [
              "['2017',\n",
              " ' ',\n",
              " ' ',\n",
              " ' ',\n",
              " '2018',\n",
              " ' ',\n",
              " ' ',\n",
              " ' ',\n",
              " '2019',\n",
              " ' ',\n",
              " ' ',\n",
              " ' ',\n",
              " '2020',\n",
              " ' ',\n",
              " ' ',\n",
              " ' ',\n",
              " '2021']"
            ]
          },
          "metadata": {
            "tags": []
          },
          "execution_count": 14
        }
      ]
    },
    {
      "cell_type": "code",
      "metadata": {
        "colab": {
          "base_uri": "https://localhost:8080/"
        },
        "id": "m8laJz1p1Vm9",
        "outputId": "24dbfe05-3948-46cd-a5a6-64808da9aed4"
      },
      "source": [
        "# separate dates for test and training data\n",
        "dates_train = []\n",
        "for i in range(len(series_original)-n_test):\n",
        "  dates_train.append(series_original['Quarter'][i])\n",
        "\n",
        "dates_train\n",
        "\n",
        "\n",
        "dates_test = []\n",
        "for i in range(len(series_original)-n_test , len(series_original)):\n",
        "  dates_test.append(series_original['Quarter'][i])\n",
        "\n",
        "dates_test"
      ],
      "execution_count": 15,
      "outputs": [
        {
          "output_type": "execute_result",
          "data": {
            "text/plain": [
              "['2020-2', '2020-3', '2020-4', '2021-1']"
            ]
          },
          "metadata": {
            "tags": []
          },
          "execution_count": 15
        }
      ]
    },
    {
      "cell_type": "code",
      "metadata": {
        "colab": {
          "base_uri": "https://localhost:8080/"
        },
        "id": "I7CK_Jm6-6ph",
        "outputId": "23ab2901-302e-4951-e538-a98de5c9ffc9"
      },
      "source": [
        "dates_train"
      ],
      "execution_count": 16,
      "outputs": [
        {
          "output_type": "execute_result",
          "data": {
            "text/plain": [
              "['2017-1',\n",
              " '2017-2',\n",
              " '2017-3',\n",
              " '2017-4',\n",
              " '2018-1',\n",
              " '2018-2',\n",
              " '2018-3',\n",
              " '2018-4',\n",
              " '2019-1',\n",
              " '2019-2',\n",
              " '2019-3',\n",
              " '2019-4',\n",
              " '2020-1']"
            ]
          },
          "metadata": {
            "tags": []
          },
          "execution_count": 16
        }
      ]
    },
    {
      "cell_type": "code",
      "metadata": {
        "id": "nDKQP_Lu1Vj5"
      },
      "source": [
        "# set prediction interval for each forecast\n",
        "confidence_upper = []\n",
        "confidence_lower = []\n",
        "for i in predictions:\n",
        "  x1 = (i+1.96*(array(predictions).std()))\n",
        "  confidence_upper.append(x1[0])\n",
        "  y1 = (i-1.96*(array(predictions).std()))\n",
        "  confidence_lower.append(y1[0])"
      ],
      "execution_count": 17,
      "outputs": []
    },
    {
      "cell_type": "code",
      "metadata": {
        "colab": {
          "base_uri": "https://localhost:8080/",
          "height": 327
        },
        "id": "sDuA_DIz2G2P",
        "outputId": "6f446b27-ee69-40b4-88f3-51bcdb6b833e"
      },
      "source": [
        "# Plot Graph\n",
        "plt.figure(figsize=(20,7))\n",
        "plt.plot(dates_train, train, color='yellow', label=\"Train\")\n",
        "plt.plot(dates_test, test, color='red', label=\"Test\")\n",
        "plt.plot(dates_test, predictions, color='blue', label=\"Predicted\")\n",
        "plt.legend(loc=\"upper left\")\n",
        "plt.fill_between(dates_test, confidence_upper, confidence_lower, alpha=0.2)\n",
        "plt.xticks(np.arange(len(x_axis_label)), x_axis_label)\n",
        "\n",
        "plt.show()"
      ],
      "execution_count": 18,
      "outputs": [
        {
          "output_type": "display_data",
          "data": {
            "image/png": "[encoded data removed]",
            "text/plain": [
              "<Figure size 1440x504 with 1 Axes>"
            ]
          },
          "metadata": {
            "tags": [],
            "needs_background": "light"
          }
        }
      ]
    },
    {
      "cell_type": "markdown",
      "metadata": {
        "id": "IQVGY8GP2RB6"
      },
      "source": [
        "## Read monthly dataset"
      ]
    },
    {
      "cell_type": "code",
      "metadata": {
        "colab": {
          "base_uri": "https://localhost:8080/",
          "height": 318
        },
        "id": "7sMqNblmD-a_",
        "outputId": "d97f91d0-ad3e-4839-e946-26e0b7465b98"
      },
      "source": [
        "series_original = read_csv('/content/Monthly_Revenue_March_21.csv', header=0, index_col=0)\n",
        "series = DataFrame(series_original['Revenue'])\n",
        "data = series.values\n",
        "# data split\n",
        "n_test = 14\n",
        "# define config = [n_input, n_nodes, n_epochs, n_batch, n_diff] \n",
        "# n_input: The number of lag observations to use as input to the model.\n",
        "# n_nodes: The number of LSTM units to use in the hidden layer.\n",
        "# n_epochs: The number of times to expose the model to the whole training dataset.\n",
        "# n_batch: The number of samples within an epoch after which the weights are updated.\n",
        "# n_diff: The difference order or 0 if not used\n",
        "config = [5, 32, 10, 12, 12]\n",
        "# calling walk forwward validation function\n",
        "train, test, predictions, error = walk_forward_validation(data,n_test,config)\n",
        "# summarize scores\n",
        "summarize_scores('lstm', error)\n"
      ],
      "execution_count": 19,
      "outputs": [
        {
          "output_type": "stream",
          "text": [
            "R squared score : 0.7481162294850942\n",
            "RMSE : 64555\n",
            "Name : lstm --> Score : 64555\n"
          ],
          "name": "stdout"
        },
        {
          "output_type": "display_data",
          "data": {
            "image/png": "[encoded data removed]",
            "text/plain": [
              "<Figure size 432x288 with 1 Axes>"
            ]
          },
          "metadata": {
            "tags": [],
            "needs_background": "light"
          }
        }
      ]
    },
    {
      "cell_type": "markdown",
      "metadata": {
        "id": "5vfICLMY2hGp"
      },
      "source": [
        "# Add Graph for Monthly prediction"
      ]
    },
    {
      "cell_type": "code",
      "metadata": {
        "id": "dyvreBwJy5VV"
      },
      "source": [
        "# reset columns\n",
        "series_original.reset_index(level=0, inplace=True)"
      ],
      "execution_count": 20,
      "outputs": []
    },
    {
      "cell_type": "code",
      "metadata": {
        "id": "Xuk6h8CXDcXp"
      },
      "source": [
        "# convert 'Year' and 'Month' column to string type\n",
        "series_original = series_original.astype({\"Year\": str, \"Month\": str})"
      ],
      "execution_count": 21,
      "outputs": []
    },
    {
      "cell_type": "code",
      "metadata": {
        "id": "HPGjMNkyDv7l"
      },
      "source": [
        "# concatenate first two columns\n",
        "series_original['Month'] = series_original['Year'] + '-' + series_original['Month']"
      ],
      "execution_count": 22,
      "outputs": []
    },
    {
      "cell_type": "code",
      "metadata": {
        "id": "J0wo9pZLD9iA"
      },
      "source": [
        "series_original.drop(['Year'], axis=1, inplace=True)"
      ],
      "execution_count": 23,
      "outputs": []
    },
    {
      "cell_type": "code",
      "metadata": {
        "colab": {
          "base_uri": "https://localhost:8080/"
        },
        "id": "_UyfKga22ZP8",
        "outputId": "58b4ad73-c016-484d-f657-9466a7c1fd21"
      },
      "source": [
        "# set x axis labels\n",
        "x_axis_label = []\n",
        "\n",
        "for i in range(len(series_original)):\n",
        "  if series_original.iloc[i,0][-2:] == '-1':\n",
        "    x_axis_label.append(series_original.iloc[i,0][:-2])\n",
        "  else:\n",
        "    x_axis_label.append(' ')\n",
        "\n",
        "x_axis_label"
      ],
      "execution_count": 24,
      "outputs": [
        {
          "output_type": "execute_result",
          "data": {
            "text/plain": [
              "['2017',\n",
              " ' ',\n",
              " ' ',\n",
              " ' ',\n",
              " ' ',\n",
              " ' ',\n",
              " ' ',\n",
              " ' ',\n",
              " ' ',\n",
              " ' ',\n",
              " ' ',\n",
              " ' ',\n",
              " '2018',\n",
              " ' ',\n",
              " ' ',\n",
              " ' ',\n",
              " ' ',\n",
              " ' ',\n",
              " ' ',\n",
              " ' ',\n",
              " ' ',\n",
              " ' ',\n",
              " ' ',\n",
              " ' ',\n",
              " '2019',\n",
              " ' ',\n",
              " ' ',\n",
              " ' ',\n",
              " ' ',\n",
              " ' ',\n",
              " ' ',\n",
              " ' ',\n",
              " ' ',\n",
              " ' ',\n",
              " ' ',\n",
              " ' ',\n",
              " '2020',\n",
              " ' ',\n",
              " ' ',\n",
              " ' ',\n",
              " ' ',\n",
              " ' ',\n",
              " ' ',\n",
              " ' ',\n",
              " ' ',\n",
              " ' ',\n",
              " ' ',\n",
              " ' ',\n",
              " '2021',\n",
              " ' ',\n",
              " ' ']"
            ]
          },
          "metadata": {
            "tags": []
          },
          "execution_count": 24
        }
      ]
    },
    {
      "cell_type": "code",
      "metadata": {
        "colab": {
          "base_uri": "https://localhost:8080/"
        },
        "id": "53nz2ooS2ZM_",
        "outputId": "c3c30259-c4eb-43b7-c318-019893029b50"
      },
      "source": [
        "# separate dates for test and training data\n",
        "dates_train = []\n",
        "for i in range(len(series_original)-n_test):\n",
        "  dates_train.append(series_original['Month'][i])\n",
        "\n",
        "dates_train\n",
        "\n",
        "\n",
        "dates_test = []\n",
        "for i in range(len(series_original)-n_test , len(series_original)):\n",
        "  dates_test.append(series_original['Month'][i])\n",
        "\n",
        "dates_test"
      ],
      "execution_count": 25,
      "outputs": [
        {
          "output_type": "execute_result",
          "data": {
            "text/plain": [
              "['2020-2',\n",
              " '2020-3',\n",
              " '2020-4',\n",
              " '2020-5',\n",
              " '2020-6',\n",
              " '2020-7',\n",
              " '2020-8',\n",
              " '2020-9',\n",
              " '2020-10',\n",
              " '2020-11',\n",
              " '2020-12',\n",
              " '2021-1',\n",
              " '2021-2',\n",
              " '2021-3']"
            ]
          },
          "metadata": {
            "tags": []
          },
          "execution_count": 25
        }
      ]
    },
    {
      "cell_type": "code",
      "metadata": {
        "id": "eg2LuSBU2dJ3"
      },
      "source": [
        "# set prediction interval for each forecast\n",
        "confidence_upper = []\n",
        "confidence_lower = []\n",
        "for i in predictions:\n",
        "  x1 = (i+1.96*(array(predictions).std()))\n",
        "  confidence_upper.append(x1[0])\n",
        "  y1 = (i-1.96*(array(predictions).std()))\n",
        "  confidence_lower.append(y1[0])"
      ],
      "execution_count": 26,
      "outputs": []
    },
    {
      "cell_type": "code",
      "metadata": {
        "colab": {
          "base_uri": "https://localhost:8080/",
          "height": 329
        },
        "id": "bHzfrpCZ2d0h",
        "outputId": "ff3c25ad-de25-4744-f012-00cd478dcd5a"
      },
      "source": [
        "# Plot Graph\n",
        "plt.figure(figsize=(20,7))\n",
        "plt.plot(dates_train, train, color='yellow', label=\"Train\")\n",
        "plt.plot(dates_test, test, color='red', label=\"Test\")\n",
        "plt.plot(dates_test, predictions, color='blue', label=\"Predicted\")\n",
        "plt.legend(loc=\"upper left\")\n",
        "plt.fill_between(dates_test, confidence_upper, confidence_lower, alpha=0.2)\n",
        "plt.xticks(np.arange(len(x_axis_label)), x_axis_label)\n",
        "\n",
        "plt.show()"
      ],
      "execution_count": 27,
      "outputs": [
        {
          "output_type": "display_data",
          "data": {
            "image/png": "[encoded data removed]",
            "text/plain": [
              "<Figure size 1440x504 with 1 Axes>"
            ]
          },
          "metadata": {
            "tags": [],
            "needs_background": "light"
          }
        }
      ]
    },
    {
      "cell_type": "code",
      "metadata": {
        "id": "HQ25F3-GUgXU"
      },
      "source": [
        ""
      ],
      "execution_count": 27,
      "outputs": []
    }
  ]
}