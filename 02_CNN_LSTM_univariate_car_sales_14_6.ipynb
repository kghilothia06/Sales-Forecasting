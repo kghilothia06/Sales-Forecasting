{
  "nbformat": 4,
  "nbformat_minor": 0,
  "metadata": {
    "colab": {
      "name": "02_CNN_LSTM_univariate_car_sales_14_6.ipynb",
      "provenance": [],
      "authorship_tag": "ABX9TyMD26kfepkeBfaNtYT9tdbb",
      "include_colab_link": true
    },
    "kernelspec": {
      "name": "python3",
      "display_name": "Python 3"
    }
  },
  "cells": [
    {
      "cell_type": "markdown",
      "metadata": {
        "id": "view-in-github",
        "colab_type": "text"
      },
      "source": [
        "<a href=\"https://colab.research.google.com/github/kghilothia06/Time-Series-Forecasting/blob/main/02_CNN_LSTM_univariate_car_sales_14_6.ipynb\" target=\"_parent\"><img src=\"https://colab.research.google.com/assets/colab-badge.svg\" alt=\"Open In Colab\"/></a>"
      ]
    },
    {
      "cell_type": "markdown",
      "metadata": {
        "id": "DzpxE4sqhta4"
      },
      "source": [
        "CNN LSTM univariate example for sales prediction"
      ]
    },
    {
      "cell_type": "code",
      "metadata": {
        "id": "NeFRylD2gnFK"
      },
      "source": [
        "#Import Libraries\r\n",
        "from math import sqrt\r\n",
        "from numpy import array\r\n",
        "from numpy import mean\r\n",
        "from numpy import std\r\n",
        "from pandas import DataFrame\r\n",
        "from pandas import concat\r\n",
        "from pandas import read_excel\r\n",
        "from sklearn.metrics import mean_squared_error\r\n",
        "from keras.models import Sequential\r\n",
        "from keras.layers import Dense\r\n",
        "from keras.layers import LSTM\r\n",
        "from keras.layers import TimeDistributed\r\n",
        "from keras.layers import Flatten\r\n",
        "from keras.layers.convolutional import Conv1D\r\n",
        "from keras.layers.convolutional import MaxPooling1D\r\n",
        "from matplotlib import pyplot\r\n",
        "from pandas import DataFrame\r\n",
        "from pandas import read_csv"
      ],
      "execution_count": 1,
      "outputs": []
    },
    {
      "cell_type": "code",
      "metadata": {
        "id": "p1yOl1YzhqvK"
      },
      "source": [
        "# split a univariate dataset into train/test sets\r\n",
        "def train_test_split(data, n_test):\r\n",
        "  return data[:-n_test], data[-n_test:]"
      ],
      "execution_count": 2,
      "outputs": []
    },
    {
      "cell_type": "code",
      "metadata": {
        "id": "tx4jkfzCh0fs"
      },
      "source": [
        "# transform list into supervised learning format\r\n",
        "def series_to_supervised(data, n_in, n_out=1):\r\n",
        "  #print(data.shape)\r\n",
        "  df = DataFrame(data)\r\n",
        "  cols = list()\r\n",
        "  # input sequence (t-n, ... t-1)\r\n",
        "  for i in range(n_in, 0, -1):\r\n",
        "    cols.append(df.shift(i))\r\n",
        "  # forecast sequence (t, t+1, ... t+n)\r\n",
        "  for i in range(0, n_out):\r\n",
        "    cols.append(df.shift(-i))\r\n",
        "  # put it all together\r\n",
        "  agg = concat(cols, axis=1)\r\n",
        "  # drop rows with NaN values\r\n",
        "  agg.dropna(inplace=True)\r\n",
        "  #agg.fillna(0)\r\n",
        "  #print(agg)\r\n",
        "  return agg.values\r\n"
      ],
      "execution_count": 3,
      "outputs": []
    },
    {
      "cell_type": "code",
      "metadata": {
        "id": "6gwAl7z6h9IU"
      },
      "source": [
        "# root mean squared error or rmse\r\n",
        "def measure_rmse(actual, predicted):\r\n",
        "  return sqrt(mean_squared_error(actual, predicted))"
      ],
      "execution_count": 4,
      "outputs": []
    },
    {
      "cell_type": "code",
      "metadata": {
        "id": "21bbPrZ_h_23"
      },
      "source": [
        "# fit a model\r\n",
        "def model_fit(train, config):\r\n",
        "  # unpack config\r\n",
        "  n_seq, n_steps, n_filters, n_kernel, n_nodes, n_epochs, n_batch = config\r\n",
        "  n_input = n_seq * n_steps\r\n",
        "  # prepare data\r\n",
        "  data = series_to_supervised(train, n_input)\r\n",
        "  #print(data.shape)\r\n",
        "  train_x, train_y = data[:, :-1], data[:, -1]\r\n",
        "  train_x = train_x.reshape((train_x.shape[0], n_seq, n_steps, 1))\r\n",
        "  #print(train_x.shape)\r\n",
        "  # define model\r\n",
        "  model = Sequential()\r\n",
        "  model.add(TimeDistributed(Conv1D(filters=n_filters, kernel_size=n_kernel,\r\n",
        "  activation='relu', input_shape=(None,n_steps,1))))\r\n",
        "  model.add(TimeDistributed(Conv1D(filters=n_filters, kernel_size=n_kernel,\r\n",
        "  activation='relu')))\r\n",
        "  model.add(TimeDistributed(MaxPooling1D(pool_size=2)))\r\n",
        "  model.add(TimeDistributed(Flatten()))\r\n",
        "  model.add(LSTM(n_nodes, activation='relu'))\r\n",
        "  model.add(Dense(n_nodes, activation='relu'))\r\n",
        "  model.add(Dense(1))\r\n",
        "  model.compile(loss='mse', optimizer='adam')\r\n",
        "  # fit\r\n",
        "  model.fit(train_x, train_y, epochs=n_epochs, batch_size=n_batch, verbose=0)\r\n",
        "  return model"
      ],
      "execution_count": 5,
      "outputs": []
    },
    {
      "cell_type": "code",
      "metadata": {
        "id": "d8_wy0VfiFle"
      },
      "source": [
        "# forecast with a pre-fit model\r\n",
        "def model_predict(model, history, config):\r\n",
        "  # unpack config\r\n",
        "  n_seq, n_steps, _, _, _, _, _ = config\r\n",
        "  n_input = n_seq * n_steps\r\n",
        "  # prepare data\r\n",
        "  x_input = array(history[-n_input:]).reshape((1, n_seq, n_steps, 1))\r\n",
        "  # forecast\r\n",
        "  yhat = model.predict(x_input, verbose=0)\r\n",
        "  return yhat[0]"
      ],
      "execution_count": 6,
      "outputs": []
    },
    {
      "cell_type": "code",
      "metadata": {
        "id": "MLhuumAJiLJ1"
      },
      "source": [
        "# walk-forward validation for univariate data\r\n",
        "def walk_forward_validation(data, n_test, cfg):\r\n",
        "  predictions = list()\r\n",
        "  # split dataset\r\n",
        "  train, test = train_test_split(data, n_test)\r\n",
        "  # fit model\r\n",
        "  model = model_fit(train, cfg)\r\n",
        "  # seed history with training dataset\r\n",
        "  history = [x for x in train]\r\n",
        "  # step over each time-step in the test set\r\n",
        "  for i in range(len(test)):\r\n",
        "    # fit model and make forecast for history\r\n",
        "    yhat = model_predict(model, history, cfg)\r\n",
        "    # store forecast in list of predictions\r\n",
        "    predictions.append(yhat)\r\n",
        "    # add actual observation to history for the next loop\r\n",
        "    history.append(test[i])\r\n",
        "  # estimate prediction error\r\n",
        "  error = measure_rmse(test, predictions)\r\n",
        "  print(' > %.3f' % error)\r\n",
        "  return error"
      ],
      "execution_count": 7,
      "outputs": []
    },
    {
      "cell_type": "code",
      "metadata": {
        "id": "qnaMjDgpiaYo"
      },
      "source": [
        "# repeat evaluation of a config\r\n",
        "def repeat_evaluate(data, config, n_test, n_repeats=30):\r\n",
        "  # fit and evaluate the model n times\r\n",
        "  scores = [walk_forward_validation(data, n_test, config) for _ in range(n_repeats)]\r\n",
        "  return scores"
      ],
      "execution_count": 8,
      "outputs": []
    },
    {
      "cell_type": "code",
      "metadata": {
        "id": "vU6uDmqWifT9"
      },
      "source": [
        "# summarize model performance\r\n",
        "def summarize_scores(name, scores):\r\n",
        "  # print a summary\r\n",
        "  scores_m, score_std = mean(scores), std(scores)\r\n",
        "  print('%s: %.3f RMSE (+/- %.3f)' % (name, scores_m, score_std))\r\n",
        "  # box and whisker plot\r\n",
        "  pyplot.boxplot(scores)\r\n",
        "  pyplot.show()"
      ],
      "execution_count": 9,
      "outputs": []
    },
    {
      "cell_type": "markdown",
      "metadata": {
        "id": "lL72d2B1ipQj"
      },
      "source": [
        "Load quarterly and monthly datasets"
      ]
    },
    {
      "cell_type": "code",
      "metadata": {
        "colab": {
          "base_uri": "https://localhost:8080/",
          "height": 803
        },
        "id": "cn3ogGTsij36",
        "outputId": "a77e7ac9-f626-4214-d2b1-603d86b6fe04"
      },
      "source": [
        "series = read_excel('/content/Sales-quarterly.xlsx', header=0, index_col=0)\r\n",
        "series = DataFrame(series['Sales'])\r\n",
        "data = series.values\r\n",
        "# data split\r\n",
        "n_test = 4\r\n",
        "# define config\r\n",
        "# n_seq: The number of subsequences within a sample.\r\n",
        "# n_steps: The number of time steps within each subsequence.\r\n",
        "# n_filters: The number of parallel filters.\r\n",
        "# n_kernel: The number of time steps considered in each read of the input sequence.\r\n",
        "# n_nodes: The number of LSTM units to use in the hidden layer.\r\n",
        "# n_epochs: The number of times to expose the model to the whole training dataset.\r\n",
        "# n_batch: The number of samples within an epoch after which the weights are updated.\r\n",
        "config = [1, 4, 16, 1, 64, 20, 12]\r\n",
        "# grid search\r\n",
        "scores = repeat_evaluate(data, config, n_test)\r\n",
        "# summarize scores\r\n",
        "summarize_scores('cnn-lstm', scores)"
      ],
      "execution_count": 10,
      "outputs": [
        {
          "output_type": "stream",
          "text": [
            " > 342610.336\n",
            " > 300641.152\n",
            " > 294484.637\n",
            " > 259112.338\n",
            " > 321814.483\n",
            " > 296053.561\n",
            " > 259628.220\n",
            " > 241293.409\n",
            " > 264267.490\n",
            " > 323309.110\n",
            " > 337932.154\n",
            " > 327864.033\n",
            " > 321363.467\n",
            " > 256978.795\n",
            " > 273159.248\n",
            " > 273069.157\n",
            " > 326807.799\n",
            " > 283655.918\n",
            " > 309744.423\n",
            " > 244531.327\n",
            " > 330932.222\n",
            " > 301910.449\n",
            " > 302912.683\n",
            " > 350903.335\n",
            " > 328243.435\n",
            " > 250296.241\n",
            " > 299114.984\n",
            " > 174597.066\n",
            " > 337005.536\n",
            " > 305974.072\n",
            "cnn-lstm: 294673.703 RMSE (+/- 38358.315)\n"
          ],
          "name": "stdout"
        },
        {
          "output_type": "display_data",
          "data": {
            "image/png": "[encoded data removed]",
            "text/plain": [
              "<Figure size 432x288 with 1 Axes>"
            ]
          },
          "metadata": {
            "tags": [],
            "needs_background": "light"
          }
        }
      ]
    },
    {
      "cell_type": "code",
      "metadata": {
        "colab": {
          "base_uri": "https://localhost:8080/",
          "height": 803
        },
        "id": "W1TRx2ahieu0",
        "outputId": "6e2be3c5-1819-446b-9850-0b3f245edd86"
      },
      "source": [
        "series = read_excel('/content/Sales-monthly.xlsx', header=0, index_col=0)\r\n",
        "data = series.values\r\n",
        "# data split\r\n",
        "n_test = 12\r\n",
        "# define config\r\n",
        "# n_seq: The number of subsequences within a sample.\r\n",
        "# n_steps: The number of time steps within each subsequence.\r\n",
        "# n_filters: The number of parallel filters.\r\n",
        "# n_kernel: The number of time steps considered in each read of the input sequence.\r\n",
        "# n_nodes: The number of LSTM units to use in the hidden layer.\r\n",
        "# n_epochs: The number of times to expose the model to the whole training dataset.\r\n",
        "# n_batch: The number of samples within an epoch after which the weights are updated.\r\n",
        "config = [1, 12, 256, 1, 200, 20, 12]\r\n",
        "# grid search\r\n",
        "scores = repeat_evaluate(data, config, n_test)\r\n",
        "# summarize scores\r\n",
        "summarize_scores('cnn-lstm', scores)"
      ],
      "execution_count": 11,
      "outputs": [
        {
          "output_type": "stream",
          "text": [
            " > 95643.995\n",
            " > 121909.564\n",
            " > 172111.492\n",
            " > 116190.169\n",
            " > 105517.010\n",
            " > 88678.872\n",
            " > 128096.366\n",
            " > 79275.910\n",
            " > 116949.372\n",
            " > 112070.353\n",
            " > 172910.285\n",
            " > 93858.199\n",
            " > 129697.332\n",
            " > 84715.621\n",
            " > 95482.517\n",
            " > 72604.868\n",
            " > 73916.902\n",
            " > 83735.365\n",
            " > 63521.969\n",
            " > 163486.297\n",
            " > 91740.866\n",
            " > 112199.354\n",
            " > 103612.719\n",
            " > 90511.250\n",
            " > 139193.908\n",
            " > 85924.427\n",
            " > 117794.327\n",
            " > 126167.806\n",
            " > 177256.803\n",
            " > 130826.693\n",
            "cnn-lstm: 111520.020 RMSE (+/- 30172.360)\n"
          ],
          "name": "stdout"
        },
        {
          "output_type": "display_data",
          "data": {
            "image/png": "[encoded data removed]",
            "text/plain": [
              "<Figure size 432x288 with 1 Axes>"
            ]
          },
          "metadata": {
            "tags": [],
            "needs_background": "light"
          }
        }
      ]
    },
    {
      "cell_type": "code",
      "metadata": {
        "id": "HsBhP22DielY"
      },
      "source": [
        ""
      ],
      "execution_count": 11,
      "outputs": []
    }
  ]
}