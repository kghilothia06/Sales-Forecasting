{
  "nbformat": 4,
  "nbformat_minor": 0,
  "metadata": {
    "colab": {
      "name": "01_LSTM_univariate_car_sales_14_6.ipynb",
      "provenance": [],
      "authorship_tag": "ABX9TyMAdX5dNqh2xq+rFmj556+Y",
      "include_colab_link": true
    },
    "kernelspec": {
      "name": "python3",
      "display_name": "Python 3"
    }
  },
  "cells": [
    {
      "cell_type": "markdown",
      "metadata": {
        "id": "view-in-github",
        "colab_type": "text"
      },
      "source": [
        "<a href=\"https://colab.research.google.com/github/kghilothia06/Time-Series-Forecasting/blob/main/01_LSTM_univariate_car_sales_14_6.ipynb\" target=\"_parent\"><img src=\"https://colab.research.google.com/assets/colab-badge.svg\" alt=\"Open In Colab\"/></a>"
      ]
    },
    {
      "cell_type": "markdown",
      "metadata": {
        "id": "_VeI75pwCawx"
      },
      "source": [
        "LSTM examples for monthly and quarterly sales prediction"
      ]
    },
    {
      "cell_type": "markdown",
      "metadata": {
        "id": "eII9hNe1CYPr"
      },
      "source": [
        "Import Libraries"
      ]
    },
    {
      "cell_type": "code",
      "metadata": {
        "id": "9q4rw8UOCFuJ"
      },
      "source": [
        "from math import sqrt\r\n",
        "from numpy import array\r\n",
        "from numpy import mean\r\n",
        "from numpy import std\r\n",
        "from pandas import DataFrame\r\n",
        "from pandas import concat\r\n",
        "from pandas import read_excel\r\n",
        "from sklearn.metrics import mean_squared_error\r\n",
        "from keras.models import Sequential\r\n",
        "from keras.layers import Dense\r\n",
        "from keras.layers import LSTM\r\n",
        "from matplotlib import pyplot\r\n",
        "from pandas import DataFrame"
      ],
      "execution_count": 22,
      "outputs": []
    },
    {
      "cell_type": "code",
      "metadata": {
        "id": "EsBNH32dCmsL"
      },
      "source": [
        "# split a univariate dataset into train/test sets\r\n",
        "def train_test_split(data, n_test):\r\n",
        "  return data[:-n_test], data[-n_test:]\r\n"
      ],
      "execution_count": 3,
      "outputs": []
    },
    {
      "cell_type": "code",
      "metadata": {
        "id": "TJDpZADBCmoz"
      },
      "source": [
        "# transform list into supervised learning format\r\n",
        "def series_to_supervised(data, n_in, n_out=1):\r\n",
        "  df = DataFrame(data)\r\n",
        "  cols = list()\r\n",
        "  # input sequence (t-n, ... t-1)\r\n",
        "  for i in range(n_in, 0, -1):\r\n",
        "    cols.append(df.shift(i))\r\n",
        "  # forecast sequence (t, t+1, ... t+n)\r\n",
        "  for i in range(0, n_out):\r\n",
        "    cols.append(df.shift(-i))\r\n",
        "  # put it all together\r\n",
        "  agg = concat(cols, axis=1)\r\n",
        "  # drop rows with NaN values\r\n",
        "  agg.dropna(inplace=True)\r\n",
        "  return agg.values\r\n"
      ],
      "execution_count": 5,
      "outputs": []
    },
    {
      "cell_type": "code",
      "metadata": {
        "id": "R22eB7saCmmH"
      },
      "source": [
        "# root mean squared error or rmse\r\n",
        "def measure_rmse(actual, predicted):\r\n",
        "  return sqrt(mean_squared_error(actual, predicted))\r\n"
      ],
      "execution_count": 7,
      "outputs": []
    },
    {
      "cell_type": "code",
      "metadata": {
        "id": "zM7vZsEoCmjV"
      },
      "source": [
        "# difference dataset\r\n",
        "def difference(data, interval):\r\n",
        "  return [data[i] - data[i - interval] for i in range(interval, len(data))]"
      ],
      "execution_count": 8,
      "outputs": []
    },
    {
      "cell_type": "code",
      "metadata": {
        "id": "JyolPMp0DGg6"
      },
      "source": [
        "# fit a model\r\n",
        "def model_fit(train, config):\r\n",
        "  # unpack config\r\n",
        "  n_input, n_nodes, n_epochs, n_batch, n_diff = config\r\n",
        "  # prepare data\r\n",
        "  if n_diff > 0:\r\n",
        "    train = difference(train, n_diff)\r\n",
        "  data = series_to_supervised(train, n_input)\r\n",
        "  train_x, train_y = data[:, :-1], data[:, -1]\r\n",
        "  train_x = train_x.reshape((train_x.shape[0], train_x.shape[1], 1))\r\n",
        "  # define model\r\n",
        "  model = Sequential()\r\n",
        "  model.add(LSTM(n_nodes, activation='relu', input_shape=(n_input, 1)))\r\n",
        "  model.add(Dense(n_nodes, activation='relu'))\r\n",
        "  model.add(Dense(1))\r\n",
        "  model.compile(loss='mse', optimizer='adam')\r\n",
        "  # fit\r\n",
        "  model.fit(train_x, train_y, epochs=n_epochs, batch_size=n_batch, verbose=0)\r\n",
        "  return model\r\n"
      ],
      "execution_count": 10,
      "outputs": []
    },
    {
      "cell_type": "code",
      "metadata": {
        "id": "h8eftTrzDKzL"
      },
      "source": [
        "# forecast with a pre-fit model\r\n",
        "def model_predict(model, history, config):\r\n",
        "  # unpack config\r\n",
        "  n_input, _, _, _, n_diff = config\r\n",
        "  # prepare data\r\n",
        "  correction = 0.0\r\n",
        "  if n_diff > 0:\r\n",
        "    correction = history[-n_diff]\r\n",
        "    history = difference(history, n_diff)\r\n",
        "  x_input = array(history[-n_input:]).reshape((1, n_input, 1))\r\n",
        "  # forecast\r\n",
        "  yhat = model.predict(x_input, verbose=0)\r\n",
        "  return correction + yhat[0]"
      ],
      "execution_count": 11,
      "outputs": []
    },
    {
      "cell_type": "code",
      "metadata": {
        "id": "kj9OdyQrDay5"
      },
      "source": [
        "# walk-forward validation for univariate data\r\n",
        "def walk_forward_validation(data, n_test, cfg):\r\n",
        "  predictions = list()\r\n",
        "  # split dataset\r\n",
        "  train, test = train_test_split(data, n_test)\r\n",
        "  # fit model\r\n",
        "  model = model_fit(train, cfg)\r\n",
        "  # seed history with training dataset\r\n",
        "  history = [x for x in train]\r\n",
        "  # step over each time-step in the test set\r\n",
        "  for i in range(len(test)):\r\n",
        "    # fit model and make forecast for history\r\n",
        "    yhat = model_predict(model, history, cfg)\r\n",
        "    # store forecast in list of predictions\r\n",
        "    predictions.append(yhat)\r\n",
        "    # add actual observation to history for the next loop\r\n",
        "    history.append(test[i])\r\n",
        "  # estimate prediction error\r\n",
        "  error = measure_rmse(test, predictions)\r\n",
        "  print(' > %.3f' % error)\r\n",
        "  return error\r\n"
      ],
      "execution_count": 12,
      "outputs": []
    },
    {
      "cell_type": "code",
      "metadata": {
        "id": "jlsGBmWiDpaZ"
      },
      "source": [
        "# repeat evaluation of a config\r\n",
        "def repeat_evaluate(data, config, n_test, n_repeats=30):\r\n",
        "  # fit and evaluate the model n times\r\n",
        "  scores = [walk_forward_validation(data, n_test, config) for _ in range(n_repeats)]\r\n",
        "  return scores\r\n"
      ],
      "execution_count": 13,
      "outputs": []
    },
    {
      "cell_type": "code",
      "metadata": {
        "id": "rhVhhz2qDtoX"
      },
      "source": [
        "# summarize model performance\r\n",
        "def summarize_scores(name, scores):\r\n",
        "  # print a summary\r\n",
        "  scores_m, score_std = mean(scores), std(scores)\r\n",
        "  print('%s: %.3f RMSE (+/- %.3f)' % (name, scores_m, score_std))\r\n",
        "  # box and whisker plot\r\n",
        "  pyplot.boxplot(scores)\r\n",
        "  pyplot.show()"
      ],
      "execution_count": 14,
      "outputs": []
    },
    {
      "cell_type": "markdown",
      "metadata": {
        "id": "bs4kZ2jkD1ve"
      },
      "source": [
        "Read quarterly and monthly datasets"
      ]
    },
    {
      "cell_type": "code",
      "metadata": {
        "colab": {
          "base_uri": "https://localhost:8080/",
          "height": 803
        },
        "id": "eITAEKzRDxrf",
        "outputId": "690c5e0a-0574-442a-dadf-32bbd04e0c51"
      },
      "source": [
        "series = read_excel('/content/Sales-quarterly.xlsx', header=0, index_col=0)\r\n",
        "series = DataFrame(series['Sales'])\r\n",
        "data = series.values\r\n",
        "# data split\r\n",
        "n_test = 4\r\n",
        "# define config = [n_input, n_nodes, n_epochs, n_batch, n_diff] \r\n",
        "# n_input: The number of lag observations to use as input to the model.\r\n",
        "# n_nodes: The number of LSTM units to use in the hidden layer.\r\n",
        "# n_epochs: The number of times to expose the model to the whole training dataset.\r\n",
        "# n_batch: The number of samples within an epoch after which the weights are updated.\r\n",
        "# n_diff: The difference order or 0 if not used\r\n",
        "config = [1, 8, 10, 4, 4]\r\n",
        "# grid search\r\n",
        "scores = repeat_evaluate(data, config, n_test)\r\n",
        "# summarize scores\r\n",
        "summarize_scores('lstm', scores)\r\n"
      ],
      "execution_count": 36,
      "outputs": [
        {
          "output_type": "stream",
          "text": [
            " > 120930.584\n",
            " > 123132.511\n",
            " > 129775.933\n",
            " > 122864.124\n",
            " > 121340.622\n",
            " > 120239.943\n",
            " > 120280.177\n",
            " > 120335.667\n",
            " > 113134.972\n",
            " > 120239.951\n",
            " > 120605.832\n",
            " > 109093.311\n",
            " > 119642.656\n",
            " > 122592.733\n",
            " > 124020.161\n",
            " > 120823.363\n",
            " > 120239.941\n",
            " > 126454.176\n",
            " > 118742.647\n",
            " > 120239.942\n",
            " > 129164.312\n",
            " > 132085.258\n",
            " > 120239.943\n",
            " > 117580.293\n",
            " > 109815.259\n",
            " > 120246.804\n",
            " > 117547.396\n",
            " > 119113.977\n",
            " > 121352.235\n",
            " > 123163.973\n",
            "lstm: 120834.623 RMSE (+/- 4787.240)\n"
          ],
          "name": "stdout"
        },
        {
          "output_type": "display_data",
          "data": {
            "image/png": "[encoded data removed]",
            "text/plain": [
              "<Figure size 432x288 with 1 Axes>"
            ]
          },
          "metadata": {
            "tags": [],
            "needs_background": "light"
          }
        }
      ]
    },
    {
      "cell_type": "code",
      "metadata": {
        "colab": {
          "base_uri": "https://localhost:8080/",
          "height": 803
        },
        "id": "7sMqNblmD-a_",
        "outputId": "0e2cacf8-2644-461c-fa0a-2fccedcd4251"
      },
      "source": [
        "series = read_excel('/content/Sales-monthly.xlsx', header=0, index_col=0)\r\n",
        "data = series.values\r\n",
        "# data split\r\n",
        "n_test = 12\r\n",
        "# define config = [n_input, n_nodes, n_epochs, n_batch, n_diff] \r\n",
        "# n_input: The number of lag observations to use as input to the model.\r\n",
        "# n_nodes: The number of LSTM units to use in the hidden layer.\r\n",
        "# n_epochs: The number of times to expose the model to the whole training dataset.\r\n",
        "# n_batch: The number of samples within an epoch after which the weights are updated.\r\n",
        "# n_diff: The difference order or 0 if not used\r\n",
        "config = [5, 32, 10, 12, 12]\r\n",
        "# grid search\r\n",
        "scores = repeat_evaluate(data, config, n_test)\r\n",
        "# summarize scores\r\n",
        "summarize_scores('lstm', scores)\r\n"
      ],
      "execution_count": 41,
      "outputs": [
        {
          "output_type": "stream",
          "text": [
            " > 66527.812\n",
            " > 64821.393\n",
            " > 64827.851\n",
            " > 64678.635\n",
            " > 67687.131\n",
            " > 67131.523\n",
            " > 65219.028\n",
            " > 68343.792\n",
            " > 76656.592\n",
            " > 65418.675\n",
            " > 64658.638\n",
            " > 64598.726\n",
            " > 67148.244\n",
            " > 65318.586\n",
            " > 67893.311\n",
            " > 65033.284\n",
            " > 64053.588\n",
            " > 65837.049\n",
            " > 64631.017\n",
            " > 64795.039\n",
            " > 64368.948\n",
            " > 64315.032\n",
            " > 64646.524\n",
            " > 66144.106\n",
            " > 65597.437\n",
            " > 68572.852\n",
            " > 65420.196\n",
            " > 65335.526\n",
            " > 66483.950\n",
            " > 66440.944\n",
            "lstm: 66086.848 RMSE (+/- 2318.320)\n"
          ],
          "name": "stdout"
        },
        {
          "output_type": "display_data",
          "data": {
            "image/png": "[encoded data removed]",
            "text/plain": [
              "<Figure size 432x288 with 1 Axes>"
            ]
          },
          "metadata": {
            "tags": [],
            "needs_background": "light"
          }
        }
      ]
    },
    {
      "cell_type": "code",
      "metadata": {
        "id": "FL1xjObYEDOb"
      },
      "source": [
        ""
      ],
      "execution_count": null,
      "outputs": []
    }
  ]
}