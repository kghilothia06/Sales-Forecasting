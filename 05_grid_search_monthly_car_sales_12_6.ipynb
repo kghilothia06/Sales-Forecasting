{
  "nbformat": 4,
  "nbformat_minor": 0,
  "metadata": {
    "kernelspec": {
      "display_name": "Python 3",
      "language": "python",
      "name": "python3"
    },
    "language_info": {
      "codemirror_mode": {
        "name": "ipython",
        "version": 3
      },
      "file_extension": ".py",
      "mimetype": "text/x-python",
      "name": "python",
      "nbconvert_exporter": "python",
      "pygments_lexer": "ipython3",
      "version": "3.7.1"
    },
    "colab": {
      "name": "05_grid_search_monthly_car_sales_12_6.ipynb",
      "provenance": []
    },
    "accelerator": "GPU"
  },
  "cells": [
    {
      "cell_type": "markdown",
      "metadata": {
        "id": "YpXprgkLWMWP"
      },
      "source": [
        "# Grid Search Framework for ETS models for sales prediction"
      ]
    },
    {
      "cell_type": "markdown",
      "metadata": {
        "id": "mFuhsfn8WMWS"
      },
      "source": [
        "Import Libraries"
      ]
    },
    {
      "cell_type": "code",
      "metadata": {
        "colab": {
          "base_uri": "https://localhost:8080/"
        },
        "id": "laZNXjXFWMWT",
        "outputId": "10cefa77-36bf-4cc1-eee1-663598cbdf4e"
      },
      "source": [
        "from math import sqrt\n",
        "from multiprocessing import cpu_count\n",
        "from joblib import Parallel\n",
        "from joblib import delayed\n",
        "from warnings import catch_warnings\n",
        "from warnings import filterwarnings\n",
        "from statsmodels.tsa.holtwinters import ExponentialSmoothing\n",
        "from sklearn.metrics import mean_squared_error\n",
        "from pandas import read_excel\n",
        "from numpy import array"
      ],
      "execution_count": 1,
      "outputs": [
        {
          "output_type": "stream",
          "text": [
            "/usr/local/lib/python3.6/dist-packages/statsmodels/tools/_testing.py:19: FutureWarning: pandas.util.testing is deprecated. Use the functions in the public API at pandas.testing instead.\n",
            "  import pandas.util.testing as tm\n"
          ],
          "name": "stderr"
        }
      ]
    },
    {
      "cell_type": "markdown",
      "metadata": {
        "id": "O7clvVKKWMWU"
      },
      "source": [
        "one-step Holt Winter’s Exponential Smoothing forecast"
      ]
    },
    {
      "cell_type": "code",
      "metadata": {
        "id": "wS82jtx-WMWe"
      },
      "source": [
        "def exp_smoothing_forecast(history, config):\n",
        "    t,d,s,p,b,r = config\n",
        "    # define model\n",
        "    history = array(history)\n",
        "    model = ExponentialSmoothing(history, trend=t, damped=d, seasonal=s, seasonal_periods=p)\n",
        "    # fit model\n",
        "    model_fit = model.fit(optimized=True, use_boxcox=b, remove_bias=r)\n",
        "    # make one step forecast\n",
        "    yhat = model_fit.predict(len(history), len(history))\n",
        "    return yhat[0]"
      ],
      "execution_count": 2,
      "outputs": []
    },
    {
      "cell_type": "markdown",
      "metadata": {
        "id": "5ebdn80iWMWf"
      },
      "source": [
        "root mean squared error or rmse"
      ]
    },
    {
      "cell_type": "code",
      "metadata": {
        "id": "eqedTTt3WMWf"
      },
      "source": [
        "def measure_rmse(actual, predicted):\n",
        "    return sqrt(mean_squared_error(actual, predicted))"
      ],
      "execution_count": 3,
      "outputs": []
    },
    {
      "cell_type": "markdown",
      "metadata": {
        "id": "BCtKWENeWMWf"
      },
      "source": [
        "split a univariate dataset into train/test sets"
      ]
    },
    {
      "cell_type": "code",
      "metadata": {
        "id": "mgUl1tKyWMWg"
      },
      "source": [
        "def train_test_split(data, n_test):\n",
        "    return data[:-n_test], data[-n_test:]"
      ],
      "execution_count": 4,
      "outputs": []
    },
    {
      "cell_type": "markdown",
      "metadata": {
        "id": "7EwhWo-7WMWg"
      },
      "source": [
        "walk-forward validation for univariate data"
      ]
    },
    {
      "cell_type": "code",
      "metadata": {
        "id": "ffy0nkmCWMWh"
      },
      "source": [
        "def walk_forward_validation(data, n_test, cfg):\n",
        "    predictions = list()\n",
        "    # split dataset\n",
        "    train, test = train_test_split(data, n_test)\n",
        "    # seed history with training dataset\n",
        "    history = [x for x in train]\n",
        "    # step over each time-step in the test set\n",
        "    for i in range(len(test)):\n",
        "        # fit model and make forecast for history\n",
        "        yhat = exp_smoothing_forecast(history, cfg)\n",
        "        # store forecast in list of predictions\n",
        "        predictions.append(yhat)\n",
        "        # add actual observation to history for the next loop\n",
        "        history.append(test[i])\n",
        "    # estimate prediction error\n",
        "    error = measure_rmse(test, predictions)\n",
        "    return error\n"
      ],
      "execution_count": 5,
      "outputs": []
    },
    {
      "cell_type": "markdown",
      "metadata": {
        "id": "j7Fo5VEYWMWh"
      },
      "source": [
        "score a model, return None on failure"
      ]
    },
    {
      "cell_type": "code",
      "metadata": {
        "id": "RiiVxwkSWMWh"
      },
      "source": [
        "def score_model(data, n_test, cfg, debug=False):\n",
        "    result = None\n",
        "    # convert config to a key\n",
        "    key = str(cfg)\n",
        "    # show all warnings and fail on exception if debugging\n",
        "    if debug:\n",
        "        result = walk_forward_validation(data, n_test, cfg)\n",
        "    else:\n",
        "        # one failure during model validation suggests an unstable config\n",
        "        try:\n",
        "            # never show warnings when grid searching, too noisy\n",
        "            with catch_warnings():\n",
        "                filterwarnings(\"ignore\")\n",
        "                result = walk_forward_validation(data, n_test, cfg)\n",
        "        except:\n",
        "            error = None\n",
        "    # check for an interesting result\n",
        "    if result is not None:\n",
        "        print(' > Model[%s] %.3f' % (key, result))\n",
        "    return (key, result)"
      ],
      "execution_count": 6,
      "outputs": []
    },
    {
      "cell_type": "markdown",
      "metadata": {
        "id": "KqsUt2tKWMWi"
      },
      "source": [
        "grid search configs"
      ]
    },
    {
      "cell_type": "code",
      "metadata": {
        "id": "EY932hiHWMWi"
      },
      "source": [
        "def grid_search(data, cfg_list, n_test, parallel=True):\n",
        "    scores = None\n",
        "    if parallel:\n",
        "        # execute configs in parallel\n",
        "        executor = Parallel(n_jobs=cpu_count(), backend='multiprocessing')\n",
        "        tasks = (delayed(score_model)(data, n_test, cfg) for cfg in cfg_list)\n",
        "        scores = executor(tasks)\n",
        "    else:\n",
        "        scores = [score_model(data, n_test, cfg) for cfg in cfg_list]\n",
        "    # remove empty results\n",
        "    scores = [r for r in scores if r[1] != None]\n",
        "    # sort configs by error, asc\n",
        "    scores.sort(key=lambda tup: tup[1])\n",
        "    return scores\n"
      ],
      "execution_count": 7,
      "outputs": []
    },
    {
      "cell_type": "markdown",
      "metadata": {
        "id": "GO8zwMEvWMWj"
      },
      "source": [
        "create a set of exponential smoothing configs to try"
      ]
    },
    {
      "cell_type": "code",
      "metadata": {
        "id": "K3n6FWh-WMWj"
      },
      "source": [
        "def exp_smoothing_configs(seasonal=[None]):\n",
        "    models = list()\n",
        "    # define config lists\n",
        "    t_params = ['add', 'mul', None]\n",
        "    d_params = [True, False]\n",
        "    s_params = ['add', 'mul', None]\n",
        "    p_params = seasonal\n",
        "    b_params = [True, False]\n",
        "    r_params = [True, False]\n",
        "    # create config instances\n",
        "    for t in t_params:\n",
        "        for d in d_params:\n",
        "            for s in s_params:\n",
        "                for p in p_params:\n",
        "                    for b in b_params:\n",
        "                        for r in r_params:\n",
        "                            cfg = [t,d,s,p,b,r]\n",
        "                            models.append(cfg)\n",
        "    return models\n"
      ],
      "execution_count": 8,
      "outputs": []
    },
    {
      "cell_type": "code",
      "metadata": {
        "colab": {
          "base_uri": "https://localhost:8080/"
        },
        "id": "oUPCRFhmWMWj",
        "outputId": "e6849d7b-fdcb-462a-eb56-9703d3cc7ec0"
      },
      "source": [
        "if __name__ == '__main__':\n",
        "    # load dataset\n",
        "    series = read_excel('/content/Sales-monthly.xlsx', header=0, index_col=0)\n",
        "    data = series.values\n",
        "    # data split\n",
        "    n_test = 12\n",
        "    # model configs\n",
        "    cfg_list = exp_smoothing_configs(seasonal=[0,6,12])\n",
        "    # grid search\n",
        "    scores = grid_search(data[:,0], cfg_list, n_test)\n",
        "    print('done')\n",
        "    # list top 3 configs\n",
        "    for cfg, error in scores[:3]:\n",
        "        print(cfg, error)"
      ],
      "execution_count": 9,
      "outputs": [
        {
          "output_type": "stream",
          "text": [
            " > Model[['add', True, 'add', 6, False, True]] 97393.927\n",
            " > Model[['add', True, 'add', 6, True, True]] 32737.643\n",
            " > Model[['add', True, 'add', 6, False, False]] 94933.224\n",
            " > Model[['add', True, 'add', 6, True, False]] 31637.091\n",
            " > Model[['add', True, 'add', 12, True, True]] 22442.672\n",
            " > Model[['add', True, 'add', 12, False, True]] 56440.552\n",
            " > Model[['add', True, 'add', 12, True, False]] 25659.771\n",
            " > Model[['add', True, 'add', 12, False, False]] 50776.417\n",
            " > Model[['add', True, 'mul', 6, True, True]] 35220.240\n",
            " > Model[['add', True, 'mul', 6, True, False]] 34552.323\n",
            " > Model[['add', True, 'mul', 6, False, True]] 30120.560\n",
            " > Model[['add', True, 'mul', 6, False, False]] 30405.602\n",
            " > Model[['add', True, 'mul', 12, False, True]] 25306.902\n",
            " > Model[['add', True, 'mul', 12, False, False]] 25775.643\n",
            " > Model[['add', True, None, 0, True, True]] 142636.933\n",
            " > Model[['add', True, None, 0, True, False]] 149206.974\n",
            " > Model[['add', True, None, 0, False, True]] 154845.476\n",
            " > Model[['add', True, None, 0, False, False]] 150666.919\n",
            " > Model[['add', True, None, 6, True, True]] 142636.933\n",
            " > Model[['add', True, None, 6, True, False]] 149206.974\n",
            " > Model[['add', True, None, 6, False, True]] 154845.476\n",
            " > Model[['add', True, None, 6, False, False]] 150666.919\n",
            " > Model[['add', True, None, 12, True, True]] 142636.933\n",
            " > Model[['add', True, None, 12, True, False]] 149206.974\n",
            " > Model[['add', True, None, 12, False, True]] 154845.476\n",
            " > Model[['add', True, None, 12, False, False]] 150666.919\n",
            " > Model[['add', False, 'add', 6, True, True]] 43662.997\n",
            " > Model[['add', False, 'add', 6, True, False]] 46595.993\n",
            " > Model[['add', False, 'add', 6, False, True]] 102987.287\n",
            " > Model[['add', False, 'add', 6, False, False]] 105272.738\n",
            " > Model[['add', False, 'add', 12, True, True]] 82281.211\n",
            " > Model[['add', False, 'add', 12, True, False]] 92820.059\n",
            " > Model[['add', False, 'add', 12, False, True]] 58022.919\n",
            " > Model[['add', False, 'add', 12, False, False]] 53773.197\n",
            " > Model[['add', False, 'mul', 6, True, True]] 47786.933\n",
            " > Model[['add', False, 'mul', 6, True, False]] 51029.172\n",
            " > Model[['add', False, 'mul', 6, False, True]] 37815.408\n",
            " > Model[['add', False, 'mul', 6, False, False]] 36660.046\n",
            " > Model[['add', False, 'mul', 12, True, True]] 86103.973\n",
            " > Model[['add', False, 'mul', 12, True, False]] 97239.726\n",
            " > Model[['add', False, 'mul', 12, False, True]] 26608.195\n",
            " > Model[['add', False, 'mul', 12, False, False]] 26133.712\n",
            " > Model[['add', False, None, 0, True, True]] 145071.072\n",
            " > Model[['add', False, None, 0, True, False]] 146661.518\n",
            " > Model[['add', False, None, 0, False, True]] 155263.370\n",
            " > Model[['add', False, None, 0, False, False]] 151022.549\n",
            " > Model[['add', False, None, 6, True, True]] 145071.072\n",
            " > Model[['add', False, None, 6, True, False]] 146661.518\n",
            " > Model[['add', False, None, 6, False, True]] 155263.370\n",
            " > Model[['add', False, None, 6, False, False]] 151022.549\n",
            " > Model[['add', False, None, 12, True, True]] 145071.072\n",
            " > Model[['add', False, None, 12, True, False]] 146661.518\n",
            " > Model[['add', False, None, 12, False, True]] 155263.370\n",
            " > Model[['add', False, None, 12, False, False]] 151022.549\n",
            " > Model[['mul', True, 'add', 6, False, True]] 148667.227\n",
            " > Model[['mul', True, 'add', 6, False, False]] 145353.562\n",
            " > Model[['mul', True, 'add', 12, True, True]] 82397.784\n",
            " > Model[['mul', True, 'add', 12, True, False]] 92833.127\n",
            " > Model[['mul', True, 'mul', 6, True, False]] 109043.335\n",
            " > Model[['mul', True, 'mul', 12, True, True]] 39610.413\n",
            " > Model[['mul', True, 'mul', 12, True, False]] 47421.678\n",
            " > Model[['mul', True, 'mul', 12, False, True]] 47441.803\n",
            " > Model[['mul', True, 'mul', 12, False, False]] 48986.040\n",
            " > Model[['mul', True, None, 0, False, True]] 167831.967\n",
            " > Model[['mul', True, None, 0, False, False]] 174014.635\n",
            " > Model[['mul', True, None, 6, False, True]] 167831.967\n",
            " > Model[['mul', True, None, 6, False, False]] 174014.635\n",
            " > Model[['mul', True, None, 12, False, True]] 167831.967\n",
            " > Model[['mul', True, None, 12, False, False]] 174014.635\n",
            " > Model[['mul', False, 'add', 6, True, True]] 43227.116\n",
            " > Model[['mul', False, 'add', 6, True, False]] 46470.654\n",
            " > Model[['mul', False, 'add', 12, True, True]] 82397.784\n",
            " > Model[['mul', False, 'add', 12, True, False]] 92833.127\n",
            " > Model[['mul', False, 'mul', 6, True, True]] 47838.366\n",
            " > Model[['mul', False, 'mul', 6, True, False]] 50504.721\n",
            " > Model[['mul', False, 'mul', 6, False, True]] 61710.269\n",
            " > Model[['mul', False, 'mul', 6, False, False]] 64036.118\n",
            " > Model[['mul', False, 'mul', 12, True, True]] 86137.398\n",
            " > Model[['mul', False, 'mul', 12, True, False]] 97244.459\n",
            " > Model[['mul', False, None, 0, True, True]] 139951.910\n",
            " > Model[['mul', False, None, 0, False, True]] 189426.777\n",
            " > Model[['mul', False, None, 0, True, False]] 141831.445\n",
            " > Model[['mul', False, None, 0, False, False]] 184110.799\n",
            " > Model[['mul', False, None, 6, True, True]] 139951.910\n",
            " > Model[['mul', False, None, 6, True, False]] 141831.445\n",
            " > Model[['mul', False, None, 6, False, True]] 189426.777\n",
            " > Model[['mul', False, None, 6, False, False]] 184110.799\n",
            " > Model[['mul', False, None, 12, True, True]] 139951.910\n",
            " > Model[['mul', False, None, 12, True, False]] 141831.445\n",
            " > Model[['mul', False, None, 12, False, True]] 189426.777\n",
            " > Model[['mul', False, None, 12, False, False]] 184110.799\n",
            " > Model[[None, False, 'add', 6, True, True]] 30311.466\n",
            " > Model[[None, False, 'mul', 6, True, True]] 32729.219\n",
            " > Model[[None, False, 'add', 6, True, False]] 30363.090\n",
            " > Model[[None, False, 'mul', 6, True, False]] 33309.273\n",
            " > Model[[None, False, 'add', 6, False, True]] 99287.082\n",
            " > Model[[None, False, 'mul', 6, False, True]] 35804.025\n",
            " > Model[[None, False, 'add', 6, False, False]] 95359.361\n",
            " > Model[[None, False, 'mul', 6, False, False]] 37821.245\n",
            " > Model[[None, False, 'add', 12, True, True]] 19507.830\n",
            " > Model[[None, False, 'mul', 12, True, True]] 19592.468\n",
            " > Model[[None, False, 'add', 12, True, False]] 19436.148\n",
            " > Model[[None, False, 'mul', 12, True, False]] 20230.275\n",
            " > Model[[None, False, 'add', 12, False, True]] 49816.048\n",
            " > Model[[None, False, 'add', 12, False, False]] 43939.802\n",
            " > Model[[None, False, None, 6, True, True]] 140916.306\n",
            " > Model[[None, False, None, 6, True, False]] 152384.068\n",
            " > Model[[None, False, None, 6, False, True]] 139533.085\n",
            " > Model[[None, False, None, 6, False, False]] 139521.276\n",
            " > Model[[None, False, 'mul', 12, False, True]] 22083.444\n",
            " > Model[[None, False, None, 12, True, True]] 140916.306\n",
            " > Model[[None, False, None, 12, True, False]] 152384.068\n",
            " > Model[[None, False, None, 12, False, True]] 139533.085\n",
            " > Model[[None, False, None, 12, False, False]] 139521.276\n",
            " > Model[[None, False, 'mul', 12, False, False]] 24118.859\n",
            " > Model[[None, False, None, 0, True, True]] 140916.306\n",
            " > Model[[None, False, None, 0, True, False]] 152384.068\n",
            " > Model[[None, False, None, 0, False, True]] 139533.085\n",
            " > Model[[None, False, None, 0, False, False]] 139521.276\n",
            "done\n",
            "[None, False, 'add', 12, True, False] 19436.147658159283\n",
            "[None, False, 'add', 12, True, True] 19507.82963116407\n",
            "[None, False, 'mul', 12, True, True] 19592.467769987194\n"
          ],
          "name": "stdout"
        }
      ]
    },
    {
      "cell_type": "code",
      "metadata": {
        "id": "9pnwvOrRcjOy"
      },
      "source": [
        ""
      ],
      "execution_count": null,
      "outputs": []
    }
  ]
}