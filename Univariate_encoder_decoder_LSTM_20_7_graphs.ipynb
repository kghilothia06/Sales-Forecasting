{
  "nbformat": 4,
  "nbformat_minor": 0,
  "metadata": {
    "colab": {
      "name": "Univariate_encoder_decoder_LSTM_20_7_graphs.ipynb",
      "provenance": [],
      "toc_visible": true,
      "authorship_tag": "ABX9TyOSg3tY8Q+XF212jhi8uy2/",
      "include_colab_link": true
    },
    "kernelspec": {
      "name": "python3",
      "display_name": "Python 3"
    }
  },
  "cells": [
    {
      "cell_type": "markdown",
      "metadata": {
        "id": "view-in-github",
        "colab_type": "text"
      },
      "source": [
        "<a href=\"https://colab.research.google.com/github/kghilothia06/Time-Series-Forecasting/blob/main/Univariate_encoder_decoder_LSTM_20_7_graphs.ipynb\" target=\"_parent\"><img src=\"https://colab.research.google.com/assets/colab-badge.svg\" alt=\"Open In Colab\"/></a>"
      ]
    },
    {
      "cell_type": "markdown",
      "metadata": {
        "id": "ir4R-UAIagRf"
      },
      "source": [
        "# univariate multi-step encoder-decoder lstm for sales prediction"
      ]
    },
    {
      "cell_type": "code",
      "metadata": {
        "id": "skEeU4TRZUm7"
      },
      "source": [
        "# import libraries\n",
        "from math import sqrt\n",
        "from numpy import split\n",
        "from numpy import array\n",
        "from pandas import read_excel, DataFrame, read_csv\n",
        "from sklearn.metrics import mean_squared_error\n",
        "from matplotlib import pyplot\n",
        "from keras.models import Sequential\n",
        "from keras.layers import Dense\n",
        "from keras.layers import LSTM\n",
        "from keras.layers import RepeatVector\n",
        "from keras.layers import TimeDistributed\n",
        "import numpy as np\n",
        "import matplotlib.pyplot as plt\n",
        "from sklearn.metrics import r2_score"
      ],
      "execution_count": 1,
      "outputs": []
    },
    {
      "cell_type": "markdown",
      "metadata": {
        "id": "wEmBWQCNFBWe"
      },
      "source": [
        "**In below cell, if train or test array can not be split into equal sized windows, then padding is performed to make it equal sized.** \n",
        "\n",
        "*For example:\n",
        "If train array is (13,1) and partition = 4, then padding of mean value is done to train in order to make it (16,1) and then splitting is performed*"
      ]
    },
    {
      "cell_type": "code",
      "metadata": {
        "id": "ou9MfOSyaVTp"
      },
      "source": [
        "# split a univariate dataset into train/test sets\n",
        "def split_dataset(data,partition):\n",
        "  # split into partition\n",
        "  train = data[:-partition]\n",
        "  test = data[-partition:]\n",
        "  train_original = train\n",
        "  test_original = test\n",
        "  # print(type(train))\n",
        "  # apply padding (if required) in order to split train and test array in equal windows\n",
        "  if len(train) % partition != 0:\n",
        "    pad_width = partition - (len(train) % partition)\n",
        "    train = np.pad(train, (0,pad_width), 'constant', constant_values=(array(train).mean()))\n",
        "\n",
        "  if len(test) % partition != 0:\n",
        "    pad_width = partition - (len(test) % partition)\n",
        "    test = np.pad(test, (0,pad_width), 'constant', constant_values=(array(test).mean()))\n",
        "    \n",
        "  # restructure into windows of quarterly data\n",
        "  train = array(split(train, int(len(train)/partition)))\n",
        "  test = array(split(test, int(len(test)/partition)))\n",
        "  return train, test, train_original, test_original"
      ],
      "execution_count": 2,
      "outputs": []
    },
    {
      "cell_type": "code",
      "metadata": {
        "id": "CAcHvA_jbJHf"
      },
      "source": [
        "# evaluate one or more weekly forecasts against expected values\n",
        "def evaluate_forecasts(actual, predicted):\n",
        "  scores = list()\n",
        "  # calculate an RMSE score for each day\n",
        "  rsquare = 0.0\n",
        "  ss_res = 0.0\n",
        "  mean_value = actual.mean()\n",
        "  ss_tot = 0.0\n",
        "  for i in range(actual.shape[1]):\n",
        "    #calculate rsquare\n",
        "    ss_res = ss_res + (actual[:,i][0] - predicted[:, i][0][0])**2\n",
        "    ss_tot = ss_tot + (actual[:,i][0] - mean_value)**2\n",
        "    # calculate mse\n",
        "    mse = mean_squared_error(actual[:, i], predicted[:, i])\n",
        "    # calculate rmse\n",
        "    rmse = sqrt(mse)\n",
        "    # store\n",
        "    scores.append(int(rmse))\n",
        "\n",
        "  # calculate R2 score\n",
        "  rsquare = 1.0 - (ss_res/ss_tot)\n",
        "  # calculate overall RMSE\n",
        "  s = 0\n",
        "  for row in range(actual.shape[0]):\n",
        "    for col in range(actual.shape[1]):\n",
        "      s += (actual[row, col] - predicted[row, col])**2\n",
        "  score = sqrt(s / (actual.shape[0] * actual.shape[1]))\n",
        "  return score, scores, rsquare\n"
      ],
      "execution_count": 3,
      "outputs": []
    },
    {
      "cell_type": "code",
      "metadata": {
        "id": "5EZdSmnrbP2A"
      },
      "source": [
        "# summarize scores\n",
        "def summarize_scores(name, score, scores):\n",
        "\ts_scores = ', '.join(['%.1f' % s for s in scores])\n",
        "\tprint('%s: [%.3f] %s' % (name, score, s_scores))\n"
      ],
      "execution_count": 4,
      "outputs": []
    },
    {
      "cell_type": "code",
      "metadata": {
        "id": "cyk73ybNbTPv"
      },
      "source": [
        "# convert history into inputs and outputs\n",
        "def to_supervised(train, n_input, n_out):\n",
        "\t# flatten data\n",
        "\tdata = train.reshape((train.shape[0]*train.shape[1], train.shape[2]))\n",
        "\tX, y = list(), list()\n",
        "\tin_start = 0\n",
        "\t# step over the entire history one time step at a time\n",
        "\tfor _ in range(len(data)):\n",
        "\t\t# define the end of the input sequence\n",
        "\t\tin_end = in_start + n_input\n",
        "\t\tout_end = in_end + n_out\n",
        "\t\t# ensure we have enough data for this instance\n",
        "\t\tif out_end < len(data):\n",
        "\t\t\tx_input = data[in_start:in_end, 0]\n",
        "\t\t\tx_input = x_input.reshape((len(x_input), 1))\n",
        "\t\t\tX.append(x_input)\n",
        "\t\t\ty.append(data[in_end:out_end, 0])\n",
        "\t\t# move along one time step\n",
        "\t\tin_start += 1\n",
        "\treturn array(X), array(y)\n"
      ],
      "execution_count": 5,
      "outputs": []
    },
    {
      "cell_type": "code",
      "metadata": {
        "id": "j5vDR26kbYjq"
      },
      "source": [
        "# train the model\n",
        "def build_model(train, n_input, n_out):\n",
        "\t# prepare data\n",
        "\ttrain_x, train_y = to_supervised(train, n_input, n_out)\n",
        "\t# define parameters\n",
        "\tverbose, epochs, batch_size = 0, 20, 12\n",
        "\tn_timesteps, n_features, n_outputs = train_x.shape[1], train_x.shape[2], train_y.shape[1]\n",
        "\t# reshape output into [samples, timesteps, features]\n",
        "\ttrain_y = train_y.reshape((train_y.shape[0], train_y.shape[1], 1))\n",
        "\t# define model\n",
        "\tmodel = Sequential()\n",
        "\tmodel.add(LSTM(200, activation='relu', input_shape=(n_timesteps, n_features)))\n",
        "\tmodel.add(RepeatVector(n_outputs))\n",
        "\tmodel.add(LSTM(200, activation='relu', return_sequences=True))\n",
        "\tmodel.add(TimeDistributed(Dense(100, activation='relu')))\n",
        "\tmodel.add(TimeDistributed(Dense(1)))\n",
        "\tmodel.compile(loss='mse', optimizer='adam')\n",
        "\t# fit network\n",
        "\tmodel.fit(train_x, train_y, epochs=epochs, batch_size=batch_size, verbose=verbose)\n",
        "\treturn model\n"
      ],
      "execution_count": 6,
      "outputs": []
    },
    {
      "cell_type": "code",
      "metadata": {
        "id": "Zg38LNIRbgPb"
      },
      "source": [
        "# make a forecast\n",
        "def forecast(model, history, n_input):\n",
        "\t# flatten data\n",
        "\tdata = array(history)\n",
        "\tdata = data.reshape((data.shape[0]*data.shape[1], data.shape[2]))\n",
        "\t# retrieve last observations for input data\n",
        "\tinput_x = data[-n_input:, 0]\n",
        "\t# reshape into [1, n_input, 1]\n",
        "\tinput_x = input_x.reshape((1, len(input_x), 1))\n",
        "\t# forecast the next week\n",
        "\tyhat = model.predict(input_x, verbose=0)\n",
        "\t# we only want the vector forecast\n",
        "\tyhat = yhat[0]\n",
        "\treturn yhat\n"
      ],
      "execution_count": 7,
      "outputs": []
    },
    {
      "cell_type": "code",
      "metadata": {
        "id": "6YDMTwP_bi4V"
      },
      "source": [
        "# evaluate a single model\n",
        "def evaluate_model(train, test, n_input, n_out):\n",
        "  # fit model\n",
        "  model = build_model(train, n_input, n_out)\n",
        "  # history is a list of weekly data\n",
        "  history = [x for x in train]\n",
        "  # walk-forward validation over each week\n",
        "  predictions = list()\n",
        "  for i in range(len(test)):\n",
        "    # predict the week\n",
        "    yhat_sequence = forecast(model, history, n_input)\n",
        "    # store the predictions\n",
        "    predictions.append(yhat_sequence)\n",
        "    # get predicted observation and add to history for predicting the next week\n",
        "    #history.append(test[i, :])\n",
        "    history.append(yhat_sequence)\n",
        "  # evaluate predictions days for each week\n",
        "  predictions = array(predictions)\n",
        "  rmse, scores, rsquare = evaluate_forecasts(test[:, :, 0], predictions)\n",
        "  print('RMSE : ' + str(int(rmse)) + ' , Scores : ' + str(scores) + ' , R Sqaured Score : ' + str(rsquare))\n",
        "\n",
        "  return train, test, predictions, scores\n"
      ],
      "execution_count": 8,
      "outputs": []
    },
    {
      "cell_type": "markdown",
      "metadata": {
        "id": "4u-NkDVXcjX_"
      },
      "source": [
        "Load Quarterly data\n",
        "\n",
        "> **In order to make the model more flexible in terms of making predictions, please change 'partition' variable in below cell.**\n",
        "\n",
        "> **Also, for making changes to input and output vectors\n",
        "in the LSTM model, make changes to 'n_input' and 'n_out' variables**\n",
        "\n",
        "> Here, all the 4 quarters are predicted based on previous 4 quarters\n",
        "\n",
        "> ***Similar Modifications can be done for monthly data as well***"
      ]
    },
    {
      "cell_type": "code",
      "metadata": {
        "colab": {
          "base_uri": "https://localhost:8080/",
          "height": 283
        },
        "id": "DnsmADifbqO4",
        "outputId": "b11fba5e-fac0-4402-f96b-21edeebbb6c1"
      },
      "source": [
        "# load the new file\n",
        "dataset_original = read_csv('/content/Quarterly_Revenue_March_21.csv', header=0, index_col=0)\n",
        "dataset = DataFrame(dataset_original['Revenue'])\n",
        "# split into train and test\n",
        "partition = 4\n",
        "train, test, train_original, test_original = split_dataset(dataset.values,partition)\n",
        "# evaluate model and get scores\n",
        "n_input = 4\n",
        "n_out = 4\n",
        "train, test, predictions, scores = evaluate_model(train, test, n_input, n_out)\n",
        "\n",
        "# plot scores\n",
        "quarter_list = []\n",
        "for i in range(partition):\n",
        "  quarter_list.append('q'+str(i+1))\n",
        "pyplot.plot(quarter_list, scores, marker='o', label='lstm')\n",
        "pyplot.show()"
      ],
      "execution_count": 9,
      "outputs": [
        {
          "output_type": "stream",
          "text": [
            "RMSE : 243309 , Scores : [218295, 79929, 425943, 36443] , R Sqaured Score : -1.1283320507400538\n"
          ],
          "name": "stdout"
        },
        {
          "output_type": "display_data",
          "data": {
            "image/png": "[encoded data removed]",
            "text/plain": [
              "<Figure size 432x288 with 1 Axes>"
            ]
          },
          "metadata": {
            "tags": [],
            "needs_background": "light"
          }
        }
      ]
    },
    {
      "cell_type": "markdown",
      "metadata": {
        "id": "cXDoSZARJNki"
      },
      "source": [
        "# Add Graph for Quarterly prediction"
      ]
    },
    {
      "cell_type": "code",
      "metadata": {
        "id": "UliGyPVkJMps"
      },
      "source": [
        "# reset columns\n",
        "dataset_original.reset_index(level=0, inplace=True)"
      ],
      "execution_count": 10,
      "outputs": []
    },
    {
      "cell_type": "code",
      "metadata": {
        "id": "x6L3Hmp3JMnR"
      },
      "source": [
        "# convert 'Year' and 'Qaurter' column to string type\n",
        "dataset_original = dataset_original.astype({\"Year\": str, \"Quarter\": str})"
      ],
      "execution_count": 11,
      "outputs": []
    },
    {
      "cell_type": "code",
      "metadata": {
        "id": "CeHxN_jhJMk-"
      },
      "source": [
        "# concatenate first two columns\n",
        "dataset_original['Quarter'] = dataset_original['Year'] + '-' + dataset_original['Quarter']"
      ],
      "execution_count": 12,
      "outputs": []
    },
    {
      "cell_type": "code",
      "metadata": {
        "colab": {
          "base_uri": "https://localhost:8080/"
        },
        "id": "hS0c30VrJMg1",
        "outputId": "99929966-c620-45eb-f11f-2a0b3b1d10e2"
      },
      "source": [
        "# set x axis labels\n",
        "x_axis_label = []\n",
        "#dictionary to keep track of current year\n",
        "vis = {}\n",
        "vis[2017] = 0\n",
        "vis[2018] = 0\n",
        "vis[2019] = 0\n",
        "vis[2020] = 0\n",
        "vis[2021] = 0\n",
        "for i in range(len(dataset_original)):\n",
        "  if vis[int(dataset_original.iloc[i,0])] == 0:\n",
        "    vis[int(dataset_original.iloc[i,0])] = 1\n",
        "    x_axis_label.append(str(dataset_original.iloc[i,0]))\n",
        "  else:\n",
        "    x_axis_label.append(' ')\n",
        "\n",
        "x_axis_label"
      ],
      "execution_count": 13,
      "outputs": [
        {
          "output_type": "execute_result",
          "data": {
            "text/plain": [
              "['2017',\n",
              " ' ',\n",
              " ' ',\n",
              " ' ',\n",
              " '2018',\n",
              " ' ',\n",
              " ' ',\n",
              " ' ',\n",
              " '2019',\n",
              " ' ',\n",
              " ' ',\n",
              " ' ',\n",
              " '2020',\n",
              " ' ',\n",
              " ' ',\n",
              " ' ',\n",
              " '2021']"
            ]
          },
          "metadata": {
            "tags": []
          },
          "execution_count": 13
        }
      ]
    },
    {
      "cell_type": "code",
      "metadata": {
        "colab": {
          "base_uri": "https://localhost:8080/"
        },
        "id": "MUpzifKyJd7A",
        "outputId": "493577fa-3ce3-487a-8275-4614d3290f16"
      },
      "source": [
        "# separate dates for test and training data\n",
        "dates_train = []\n",
        "for i in range(len(dataset_original)-partition):\n",
        "  dates_train.append(dataset_original['Quarter'][i])\n",
        "\n",
        "dates_train\n",
        "\n",
        "\n",
        "dates_test = []\n",
        "for i in range(len(dataset_original)-partition , len(dataset_original)):\n",
        "  dates_test.append(dataset_original['Quarter'][i])\n",
        "\n",
        "dates_test"
      ],
      "execution_count": 14,
      "outputs": [
        {
          "output_type": "execute_result",
          "data": {
            "text/plain": [
              "['2020-2', '2020-3', '2020-4', '2021-1']"
            ]
          },
          "metadata": {
            "tags": []
          },
          "execution_count": 14
        }
      ]
    },
    {
      "cell_type": "code",
      "metadata": {
        "colab": {
          "base_uri": "https://localhost:8080/"
        },
        "id": "4YYx8_mcJd4W",
        "outputId": "76b594e7-2d17-4d32-e88a-0711fdb51adf"
      },
      "source": [
        "dates_train"
      ],
      "execution_count": 15,
      "outputs": [
        {
          "output_type": "execute_result",
          "data": {
            "text/plain": [
              "['2017-1',\n",
              " '2017-2',\n",
              " '2017-3',\n",
              " '2017-4',\n",
              " '2018-1',\n",
              " '2018-2',\n",
              " '2018-3',\n",
              " '2018-4',\n",
              " '2019-1',\n",
              " '2019-2',\n",
              " '2019-3',\n",
              " '2019-4',\n",
              " '2020-1']"
            ]
          },
          "metadata": {
            "tags": []
          },
          "execution_count": 15
        }
      ]
    },
    {
      "cell_type": "code",
      "metadata": {
        "id": "9S7Izs6iJd0r"
      },
      "source": [
        "# set prediction interval for each forecast\n",
        "confidence_upper = []\n",
        "confidence_lower = []\n",
        "for i in predictions:\n",
        "  for j in i:\n",
        "    x1 = (j[0]+1.96*(array(predictions).std()))\n",
        "    confidence_upper.append(x1)\n",
        "    y1 = (j[0]-1.96*(array(predictions).std()))\n",
        "    confidence_lower.append(max(y1,0))"
      ],
      "execution_count": 16,
      "outputs": []
    },
    {
      "cell_type": "code",
      "metadata": {
        "colab": {
          "base_uri": "https://localhost:8080/",
          "height": 317
        },
        "id": "LlhzGSQGKAAp",
        "outputId": "8c8fbd13-29d0-460a-b3ae-c27a45409e20"
      },
      "source": [
        "# Plot Graph\n",
        "plt.figure(figsize=(20,7))\n",
        "plt.plot(dates_train, train_original, color='orange', label=\"Train\")\n",
        "plt.plot(dates_test, test_original, color='red', label=\"Test\")\n",
        "plt.plot(dates_test, predictions.reshape(-1), color='blue', label=\"Predicted\")\n",
        "plt.legend(loc=\"upper left\")\n",
        "plt.fill_between(dates_test, confidence_upper, confidence_lower, alpha=0.2)\n",
        "plt.xticks(np.arange(len(x_axis_label)), x_axis_label)\n",
        "\n",
        "plt.show()"
      ],
      "execution_count": 17,
      "outputs": [
        {
          "output_type": "display_data",
          "data": {
            "image/png": "[encoded data removed]",
            "text/plain": [
              "<Figure size 1440x504 with 1 Axes>"
            ]
          },
          "metadata": {
            "tags": [],
            "needs_background": "light"
          }
        }
      ]
    },
    {
      "cell_type": "markdown",
      "metadata": {
        "id": "yWmDFs8jcsaX"
      },
      "source": [
        "Load Monthly data\n",
        "\n",
        "> Here, all the 12 months are predicted based on previous 12 months"
      ]
    },
    {
      "cell_type": "code",
      "metadata": {
        "colab": {
          "base_uri": "https://localhost:8080/",
          "height": 303
        },
        "id": "UBIBOPOmcFTV",
        "outputId": "88ecfd69-0a9a-4db6-bfb3-b03fc1c824d9"
      },
      "source": [
        "# load the new file\n",
        "dataset_original = read_csv('/content/Monthly_Revenue_March_21.csv', header=0, index_col=0)\n",
        "dataset = DataFrame(dataset_original['Revenue'])\n",
        "# split into train and test\n",
        "partition = 12\n",
        "train, test, train_original, test_original = split_dataset(dataset.values,partition)\n",
        "# evaluate model and get scores\n",
        "# print(train.shape)\n",
        "n_input = 12\n",
        "n_out = 12\n",
        "train, test, predictions, scores = evaluate_model(train, test, n_input, n_out)\n",
        "\n",
        "# plot scores\n",
        "month_list = ['Jan', 'Feb', 'Mar', 'Apr', 'May', 'Jun', 'Jul', 'Aug', 'Sep', 'Oct', 'Nov', 'Dec']\n",
        "\n",
        "pyplot.plot(month_list, scores, marker='o', label='lstm')\n",
        "pyplot.show()"
      ],
      "execution_count": 18,
      "outputs": [
        {
          "output_type": "stream",
          "text": [
            "RMSE : 140040 , Scores : [1936, 1386, 183738, 28646, 21080, 66590, 23378, 9338, 436461, 24176, 22048, 60570] , R Sqaured Score : -0.05115146281375771\n"
          ],
          "name": "stdout"
        },
        {
          "output_type": "display_data",
          "data": {
            "image/png": "[encoded data removed]",
            "text/plain": [
              "<Figure size 432x288 with 1 Axes>"
            ]
          },
          "metadata": {
            "tags": [],
            "needs_background": "light"
          }
        }
      ]
    },
    {
      "cell_type": "markdown",
      "metadata": {
        "id": "Nmk5WjfbKRVq"
      },
      "source": [
        "# Add graph for monthly prediction"
      ]
    },
    {
      "cell_type": "code",
      "metadata": {
        "id": "BMMmESFYcvRM"
      },
      "source": [
        "# reset columns\n",
        "dataset_original.reset_index(level=0, inplace=True)"
      ],
      "execution_count": 19,
      "outputs": []
    },
    {
      "cell_type": "code",
      "metadata": {
        "id": "PTWWDiBlKXn1"
      },
      "source": [
        "# convert 'Year' and 'Month' column to string type\n",
        "dataset_original = dataset_original.astype({\"Year\": str, \"Month\": str})"
      ],
      "execution_count": 20,
      "outputs": []
    },
    {
      "cell_type": "code",
      "metadata": {
        "id": "Do2SJxSKKXj4"
      },
      "source": [
        "# concatenate first two columns\n",
        "dataset_original['Month'] = dataset_original['Year'] + '-' + dataset_original['Month']"
      ],
      "execution_count": 21,
      "outputs": []
    },
    {
      "cell_type": "code",
      "metadata": {
        "id": "6nCsJ4pQKXbS"
      },
      "source": [
        "dataset_original.drop(['Year'], axis=1, inplace=True)"
      ],
      "execution_count": 22,
      "outputs": []
    },
    {
      "cell_type": "code",
      "metadata": {
        "colab": {
          "base_uri": "https://localhost:8080/"
        },
        "id": "g6nykm5zKhY8",
        "outputId": "4f64c0b8-8197-43a1-8050-69068fa21626"
      },
      "source": [
        "# set x axis labels\n",
        "x_axis_label = []\n",
        "\n",
        "for i in range(len(dataset_original)):\n",
        "  if dataset_original.iloc[i,0][-2:] == '-1':\n",
        "    x_axis_label.append(dataset_original.iloc[i,0][:-2])\n",
        "  else:\n",
        "    x_axis_label.append(' ')\n",
        "\n",
        "x_axis_label"
      ],
      "execution_count": 23,
      "outputs": [
        {
          "output_type": "execute_result",
          "data": {
            "text/plain": [
              "['2017',\n",
              " ' ',\n",
              " ' ',\n",
              " ' ',\n",
              " ' ',\n",
              " ' ',\n",
              " ' ',\n",
              " ' ',\n",
              " ' ',\n",
              " ' ',\n",
              " ' ',\n",
              " ' ',\n",
              " '2018',\n",
              " ' ',\n",
              " ' ',\n",
              " ' ',\n",
              " ' ',\n",
              " ' ',\n",
              " ' ',\n",
              " ' ',\n",
              " ' ',\n",
              " ' ',\n",
              " ' ',\n",
              " ' ',\n",
              " '2019',\n",
              " ' ',\n",
              " ' ',\n",
              " ' ',\n",
              " ' ',\n",
              " ' ',\n",
              " ' ',\n",
              " ' ',\n",
              " ' ',\n",
              " ' ',\n",
              " ' ',\n",
              " ' ',\n",
              " '2020',\n",
              " ' ',\n",
              " ' ',\n",
              " ' ',\n",
              " ' ',\n",
              " ' ',\n",
              " ' ',\n",
              " ' ',\n",
              " ' ',\n",
              " ' ',\n",
              " ' ',\n",
              " ' ',\n",
              " '2021',\n",
              " ' ',\n",
              " ' ']"
            ]
          },
          "metadata": {
            "tags": []
          },
          "execution_count": 23
        }
      ]
    },
    {
      "cell_type": "code",
      "metadata": {
        "colab": {
          "base_uri": "https://localhost:8080/"
        },
        "id": "W-vtJ4z_Kjey",
        "outputId": "7aaa15ca-7b30-436c-8d66-ab108915c9e2"
      },
      "source": [
        "# separate dates for test and training data\n",
        "dates_train = []\n",
        "for i in range(len(dataset_original)-partition):\n",
        "  dates_train.append(dataset_original['Month'][i])\n",
        "\n",
        "dates_train\n",
        "\n",
        "\n",
        "dates_test = []\n",
        "for i in range(len(dataset_original)-partition , len(dataset_original)):\n",
        "  dates_test.append(dataset_original['Month'][i])\n",
        "\n",
        "dates_test"
      ],
      "execution_count": 24,
      "outputs": [
        {
          "output_type": "execute_result",
          "data": {
            "text/plain": [
              "['2020-4',\n",
              " '2020-5',\n",
              " '2020-6',\n",
              " '2020-7',\n",
              " '2020-8',\n",
              " '2020-9',\n",
              " '2020-10',\n",
              " '2020-11',\n",
              " '2020-12',\n",
              " '2021-1',\n",
              " '2021-2',\n",
              " '2021-3']"
            ]
          },
          "metadata": {
            "tags": []
          },
          "execution_count": 24
        }
      ]
    },
    {
      "cell_type": "code",
      "metadata": {
        "colab": {
          "base_uri": "https://localhost:8080/"
        },
        "id": "x-rAiRQHKn6T",
        "outputId": "8f8fbd4b-1276-4956-9f6d-edc1c1709db4"
      },
      "source": [
        "dates_train"
      ],
      "execution_count": 25,
      "outputs": [
        {
          "output_type": "execute_result",
          "data": {
            "text/plain": [
              "['2017-1',\n",
              " '2017-2',\n",
              " '2017-3',\n",
              " '2017-4',\n",
              " '2017-5',\n",
              " '2017-6',\n",
              " '2017-7',\n",
              " '2017-8',\n",
              " '2017-9',\n",
              " '2017-10',\n",
              " '2017-11',\n",
              " '2017-12',\n",
              " '2018-1',\n",
              " '2018-2',\n",
              " '2018-3',\n",
              " '2018-4',\n",
              " '2018-5',\n",
              " '2018-6',\n",
              " '2018-7',\n",
              " '2018-8',\n",
              " '2018-9',\n",
              " '2018-10',\n",
              " '2018-11',\n",
              " '2018-12',\n",
              " '2019-1',\n",
              " '2019-2',\n",
              " '2019-3',\n",
              " '2019-4',\n",
              " '2019-5',\n",
              " '2019-6',\n",
              " '2019-7',\n",
              " '2019-8',\n",
              " '2019-9',\n",
              " '2019-10',\n",
              " '2019-11',\n",
              " '2019-12',\n",
              " '2020-1',\n",
              " '2020-2',\n",
              " '2020-3']"
            ]
          },
          "metadata": {
            "tags": []
          },
          "execution_count": 25
        }
      ]
    },
    {
      "cell_type": "code",
      "metadata": {
        "id": "1LombVnFKp8h"
      },
      "source": [
        "# set prediction interval for each forecast\n",
        "confidence_upper = []\n",
        "confidence_lower = []\n",
        "for i in predictions:\n",
        "  for j in i:\n",
        "    x1 = (j[0]+1.96*(array(predictions).std()))\n",
        "    confidence_upper.append(x1)\n",
        "    y1 = (j[0]-1.96*(array(predictions).std()))\n",
        "    confidence_lower.append(max(y1,0))"
      ],
      "execution_count": 26,
      "outputs": []
    },
    {
      "cell_type": "code",
      "metadata": {
        "colab": {
          "base_uri": "https://localhost:8080/",
          "height": 317
        },
        "id": "_pL0k6mWKr9c",
        "outputId": "e6733142-ed4a-4b02-857a-54bd4d172b3a"
      },
      "source": [
        "# Plot Graph\n",
        "plt.figure(figsize=(20,7))\n",
        "plt.plot(dates_train, train_original, color='orange', label=\"Train\")\n",
        "plt.plot(dates_test, test_original, color='red', label=\"Test\")\n",
        "plt.plot(dates_test, predictions.reshape(-1), color='blue', label=\"Predicted\")\n",
        "plt.legend(loc=\"upper left\")\n",
        "plt.fill_between(dates_test, confidence_upper, confidence_lower, alpha=0.2)\n",
        "plt.xticks(np.arange(len(x_axis_label)), x_axis_label)\n",
        "\n",
        "plt.show()"
      ],
      "execution_count": 27,
      "outputs": [
        {
          "output_type": "display_data",
          "data": {
            "image/png": "[encoded data removed]",
            "text/plain": [
              "<Figure size 1440x504 with 1 Axes>"
            ]
          },
          "metadata": {
            "tags": [],
            "needs_background": "light"
          }
        }
      ]
    },
    {
      "cell_type": "code",
      "metadata": {
        "id": "0usHI8sfKt_u"
      },
      "source": [
        ""
      ],
      "execution_count": 27,
      "outputs": []
    }
  ]
}