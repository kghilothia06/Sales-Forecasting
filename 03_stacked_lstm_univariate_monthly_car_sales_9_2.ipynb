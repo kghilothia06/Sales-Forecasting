{
  "nbformat": 4,
  "nbformat_minor": 0,
  "metadata": {
    "colab": {
      "name": "03_stacked_lstm_univariate_monthly_car_sales.ipynb",
      "provenance": [],
      "toc_visible": true
    },
    "kernelspec": {
      "name": "python3",
      "display_name": "Python 3"
    }
  },
  "cells": [
    {
      "cell_type": "markdown",
      "metadata": {
        "id": "4sIbZMg3wABS"
      },
      "source": [
        "# Stacked LSTM for monthly sales prediction"
      ]
    },
    {
      "cell_type": "markdown",
      "metadata": {
        "id": "dPwGjDmev8-J"
      },
      "source": [
        "Import Libraries"
      ]
    },
    {
      "cell_type": "code",
      "metadata": {
        "id": "voDEd9pxv53D"
      },
      "source": [
        "import pandas as pd\r\n",
        "from numpy import array\r\n",
        "from keras.models import Sequential\r\n",
        "from keras.layers import LSTM\r\n",
        "from keras.layers import Dense"
      ],
      "execution_count": 1,
      "outputs": []
    },
    {
      "cell_type": "markdown",
      "metadata": {
        "id": "yE9r3UfpwLF3"
      },
      "source": [
        "Function to split a univariate sequence"
      ]
    },
    {
      "cell_type": "code",
      "metadata": {
        "id": "YHpn9J6UwGHa"
      },
      "source": [
        "def split_sequence(sequence, n_steps):\r\n",
        "\tX, y = list(), list()\r\n",
        "\tfor i in range(len(sequence)):\r\n",
        "\t\t# find the end of this pattern\r\n",
        "\t\tend_ix = i + n_steps\r\n",
        "\t\t# check if we are beyond the sequence\r\n",
        "\t\tif end_ix > len(sequence)-1:\r\n",
        "\t\t\tbreak\r\n",
        "\t\t# gather input and output parts of the pattern\r\n",
        "\t\tseq_x, seq_y = sequence[i:end_ix], sequence[end_ix]\r\n",
        "\t\tX.append(seq_x)\r\n",
        "\t\ty.append(seq_y)\r\n",
        "\treturn array(X), array(y)\r\n"
      ],
      "execution_count": 2,
      "outputs": []
    },
    {
      "cell_type": "markdown",
      "metadata": {
        "id": "jDrNrZRRwkKT"
      },
      "source": [
        "Read dataset using pandas"
      ]
    },
    {
      "cell_type": "code",
      "metadata": {
        "id": "Kgigh4yUwOFk"
      },
      "source": [
        "df = pd.read_excel('/content/Sales-monthly.xlsx', header=0, index_col=0)"
      ],
      "execution_count": 3,
      "outputs": []
    },
    {
      "cell_type": "markdown",
      "metadata": {
        "id": "lgXs1GEzy6d3"
      },
      "source": [
        "Data Preparation for Model Training"
      ]
    },
    {
      "cell_type": "code",
      "metadata": {
        "id": "bgqv7eNRwvLc"
      },
      "source": [
        "#Convert 'Sales' column to a list\r\n",
        "raw_seq=[]\r\n",
        "\r\n",
        "for i in df['Sales']:\r\n",
        "  raw_seq.append(i)"
      ],
      "execution_count": 4,
      "outputs": []
    },
    {
      "cell_type": "code",
      "metadata": {
        "id": "M70Z5PO1wv17"
      },
      "source": [
        "# choose a number of time steps\r\n",
        "n_steps = 3"
      ],
      "execution_count": 5,
      "outputs": []
    },
    {
      "cell_type": "code",
      "metadata": {
        "id": "i5eW5CXxyw8u"
      },
      "source": [
        "# split into samples\r\n",
        "X, y = split_sequence(raw_seq, n_steps)"
      ],
      "execution_count": 6,
      "outputs": []
    },
    {
      "cell_type": "code",
      "metadata": {
        "id": "E6UbY3Z93aS7"
      },
      "source": [
        "# taking all the data except that of December 2020 as training data\r\n",
        "X_train = X[:len(X)-1]\r\n",
        "y_train = y[:len(y)-1]"
      ],
      "execution_count": 7,
      "outputs": []
    },
    {
      "cell_type": "code",
      "metadata": {
        "id": "AdJHSBKN3aPv"
      },
      "source": [
        "# test sample would be data corresponding to December 2020\r\n",
        "X_test = X[len(X)-1]\r\n",
        "y_test = y[len(y)-1] "
      ],
      "execution_count": 8,
      "outputs": []
    },
    {
      "cell_type": "code",
      "metadata": {
        "id": "4y9eF0_szOkx"
      },
      "source": [
        "# reshape from [samples, timesteps] into [samples, timesteps, features]\r\n",
        "n_features = 1\r\n",
        "X_train = X_train.reshape((X_train.shape[0], X_train.shape[1], n_features))"
      ],
      "execution_count": 9,
      "outputs": []
    },
    {
      "cell_type": "markdown",
      "metadata": {
        "id": "CxKSVJPj1_Wq"
      },
      "source": [
        "Define Model"
      ]
    },
    {
      "cell_type": "code",
      "metadata": {
        "id": "Bg5PQTsL167n"
      },
      "source": [
        "model = Sequential()\r\n",
        "model.add(LSTM(50, activation='relu', return_sequences=True, input_shape=(n_steps, n_features)))\r\n",
        "model.add(LSTM(50, activation='relu'))\r\n",
        "model.add(Dense(1))\r\n",
        "model.compile(optimizer='adam', loss='mse')"
      ],
      "execution_count": 10,
      "outputs": []
    },
    {
      "cell_type": "code",
      "metadata": {
        "colab": {
          "base_uri": "https://localhost:8080/"
        },
        "id": "YZjZgSwN2BFH",
        "outputId": "3dbd2763-0c16-4fe2-c0f6-cdcfe3ef4afd"
      },
      "source": [
        "# fit model\r\n",
        "model.fit(X_train, y_train, epochs=200, verbose=0)"
      ],
      "execution_count": 11,
      "outputs": [
        {
          "output_type": "execute_result",
          "data": {
            "text/plain": [
              "<tensorflow.python.keras.callbacks.History at 0x7f22253c1198>"
            ]
          },
          "metadata": {
            "tags": []
          },
          "execution_count": 11
        }
      ]
    },
    {
      "cell_type": "markdown",
      "metadata": {
        "id": "p3KoRgwn2pMI"
      },
      "source": [
        "Make Prediction"
      ]
    },
    {
      "cell_type": "code",
      "metadata": {
        "id": "SK7GZbhm2-Sv"
      },
      "source": [
        "X_test = X_test.reshape((1, n_steps, n_features))"
      ],
      "execution_count": 12,
      "outputs": []
    },
    {
      "cell_type": "code",
      "metadata": {
        "colab": {
          "base_uri": "https://localhost:8080/"
        },
        "id": "gN_Xawrr6nmS",
        "outputId": "4f715860-b07d-4b20-faa6-424ef44f8788"
      },
      "source": [
        "yhat = model.predict(X_test, verbose=0)\r\n",
        "print('predicted value : ' + str(yhat[0][0]))\r\n",
        "print('actual value : ' + str(y_test))"
      ],
      "execution_count": 13,
      "outputs": [
        {
          "output_type": "stream",
          "text": [
            "predicted value : 366536.44\n",
            "actual value : 513890.482\n"
          ],
          "name": "stdout"
        }
      ]
    },
    {
      "cell_type": "code",
      "metadata": {
        "id": "hiavpgwi6yVV"
      },
      "source": [
        ""
      ],
      "execution_count": 13,
      "outputs": []
    }
  ]
}