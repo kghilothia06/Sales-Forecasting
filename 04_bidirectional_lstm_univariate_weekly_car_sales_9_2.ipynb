{
  "nbformat": 4,
  "nbformat_minor": 0,
  "metadata": {
    "colab": {
      "name": "04_bidirectional_lstm_univariate_weekly_car_sales_9_2.ipynb",
      "provenance": [],
      "authorship_tag": "ABX9TyNtBwdJuKsLeg7K09/QB+I8",
      "include_colab_link": true
    },
    "kernelspec": {
      "name": "python3",
      "display_name": "Python 3"
    }
  },
  "cells": [
    {
      "cell_type": "markdown",
      "metadata": {
        "id": "view-in-github",
        "colab_type": "text"
      },
      "source": [
        "<a href=\"https://colab.research.google.com/github/kghilothia06/Time-Series-Forecasting/blob/main/04_bidirectional_lstm_univariate_weekly_car_sales_9_2.ipynb\" target=\"_parent\"><img src=\"https://colab.research.google.com/assets/colab-badge.svg\" alt=\"Open In Colab\"/></a>"
      ]
    },
    {
      "cell_type": "markdown",
      "metadata": {
        "id": "Uzbig0B3LMuY"
      },
      "source": [
        "# univariate bidirectional lstm example for weekly sales prediction"
      ]
    },
    {
      "cell_type": "markdown",
      "metadata": {
        "id": "VQanwfMGLVOX"
      },
      "source": [
        "Import Libraries"
      ]
    },
    {
      "cell_type": "code",
      "metadata": {
        "id": "KNS83eYQLGML"
      },
      "source": [
        "import pandas as pd\r\n",
        "from numpy import array\r\n",
        "from keras.models import Sequential\r\n",
        "from keras.layers import LSTM\r\n",
        "from keras.layers import Dense\r\n",
        "from keras.layers import Bidirectional\r\n"
      ],
      "execution_count": 1,
      "outputs": []
    },
    {
      "cell_type": "markdown",
      "metadata": {
        "id": "80PpDaMULaKX"
      },
      "source": [
        "Function to split a univariate sequence"
      ]
    },
    {
      "cell_type": "code",
      "metadata": {
        "id": "HA0oTu2TLYA3"
      },
      "source": [
        "def split_sequence(sequence, n_steps):\r\n",
        "\tX, y = list(), list()\r\n",
        "\tfor i in range(len(sequence)):\r\n",
        "\t\t# find the end of this pattern\r\n",
        "\t\tend_ix = i + n_steps\r\n",
        "\t\t# check if we are beyond the sequence\r\n",
        "\t\tif end_ix > len(sequence)-1:\r\n",
        "\t\t\tbreak\r\n",
        "\t\t# gather input and output parts of the pattern\r\n",
        "\t\tseq_x, seq_y = sequence[i:end_ix], sequence[end_ix]\r\n",
        "\t\tX.append(seq_x)\r\n",
        "\t\ty.append(seq_y)\r\n",
        "\treturn array(X), array(y)"
      ],
      "execution_count": 2,
      "outputs": []
    },
    {
      "cell_type": "markdown",
      "metadata": {
        "id": "6ta5zbWGLf40"
      },
      "source": [
        "read dataset in pandas"
      ]
    },
    {
      "cell_type": "code",
      "metadata": {
        "id": "oJAKA3pmLdJ3"
      },
      "source": [
        "df = pd.read_excel('/content/Sales-weekly.xlsx',header=0,index_col=0)"
      ],
      "execution_count": 3,
      "outputs": []
    },
    {
      "cell_type": "markdown",
      "metadata": {
        "id": "i7x_OAL-Lli9"
      },
      "source": [
        "Data Preparation for Model Training"
      ]
    },
    {
      "cell_type": "code",
      "metadata": {
        "id": "pkzdVaBJLjk7"
      },
      "source": [
        "# choose a number of time steps\r\n",
        "n_steps = 3"
      ],
      "execution_count": 4,
      "outputs": []
    },
    {
      "cell_type": "code",
      "metadata": {
        "id": "I9c8NBRSLosg"
      },
      "source": [
        "#Convert 'Sales' column to a list\r\n",
        "raw_seq=[]\r\n",
        "\r\n",
        "for i in df['Sales']:\r\n",
        "  raw_seq.append(i)"
      ],
      "execution_count": 5,
      "outputs": []
    },
    {
      "cell_type": "code",
      "metadata": {
        "id": "brd96lIKLq50"
      },
      "source": [
        "# split into samples\r\n",
        "X, y = split_sequence(raw_seq, n_steps)"
      ],
      "execution_count": 6,
      "outputs": []
    },
    {
      "cell_type": "code",
      "metadata": {
        "id": "fq4l5c0GLtPi"
      },
      "source": [
        "# taking all the data except that of 53rd week of December 2020 as training data\r\n",
        "X_train = X[:len(X)-1]\r\n",
        "y_train = y[:len(y)-1]"
      ],
      "execution_count": 7,
      "outputs": []
    },
    {
      "cell_type": "code",
      "metadata": {
        "id": "lul4LgXPLuaS"
      },
      "source": [
        "# test sample would be data corresponding to 53rd week of December 2020\r\n",
        "X_test = X[len(X)-1]\r\n",
        "y_test = y[len(y)-1] "
      ],
      "execution_count": 8,
      "outputs": []
    },
    {
      "cell_type": "code",
      "metadata": {
        "id": "xazqKDvALv8N"
      },
      "source": [
        "# reshape from [samples, timesteps] into [samples, timesteps, features]\r\n",
        "n_features = 1\r\n",
        "X_train = X_train.reshape((X_train.shape[0], X_train.shape[1], n_features))"
      ],
      "execution_count": 9,
      "outputs": []
    },
    {
      "cell_type": "markdown",
      "metadata": {
        "id": "FfPtGxgLL86C"
      },
      "source": [
        "Define Model"
      ]
    },
    {
      "cell_type": "code",
      "metadata": {
        "id": "C8Cf0sz7LzuP"
      },
      "source": [
        "model = Sequential()\r\n",
        "model.add(Bidirectional(LSTM(50, activation='relu'), input_shape=(n_steps, n_features)))\r\n",
        "model.add(Dense(1))\r\n",
        "model.compile(optimizer='adam', loss='mse')"
      ],
      "execution_count": 10,
      "outputs": []
    },
    {
      "cell_type": "code",
      "metadata": {
        "colab": {
          "base_uri": "https://localhost:8080/"
        },
        "id": "IlVuNRWEL-wH",
        "outputId": "dc8c4362-cca3-45e5-da94-3d91e0dce6e1"
      },
      "source": [
        "# fit model\r\n",
        "model.fit(X_train, y_train, epochs=200, verbose=0)"
      ],
      "execution_count": 11,
      "outputs": [
        {
          "output_type": "execute_result",
          "data": {
            "text/plain": [
              "<tensorflow.python.keras.callbacks.History at 0x7f90091c8160>"
            ]
          },
          "metadata": {
            "tags": []
          },
          "execution_count": 11
        }
      ]
    },
    {
      "cell_type": "markdown",
      "metadata": {
        "id": "sjPK4pcqMCa6"
      },
      "source": [
        "Make Prediction"
      ]
    },
    {
      "cell_type": "code",
      "metadata": {
        "id": "0DpAMRTHMAVL"
      },
      "source": [
        "X_test = X_test.reshape((1, n_steps, n_features))"
      ],
      "execution_count": 12,
      "outputs": []
    },
    {
      "cell_type": "code",
      "metadata": {
        "colab": {
          "base_uri": "https://localhost:8080/"
        },
        "id": "ag588XG1MDju",
        "outputId": "1fe53d10-e207-41f4-d74c-a055e31d964b"
      },
      "source": [
        "yhat = model.predict(X_test, verbose=0)\r\n",
        "print('predicted value : ' + str(yhat[0][0]))\r\n",
        "print('actual value : ' + str(y_test))"
      ],
      "execution_count": 13,
      "outputs": [
        {
          "output_type": "stream",
          "text": [
            "predicted value : 78215.4\n",
            "actual value : 185158.73\n"
          ],
          "name": "stdout"
        }
      ]
    },
    {
      "cell_type": "code",
      "metadata": {
        "id": "KUmHZ7aaMchX"
      },
      "source": [
        ""
      ],
      "execution_count": 13,
      "outputs": []
    }
  ]
}