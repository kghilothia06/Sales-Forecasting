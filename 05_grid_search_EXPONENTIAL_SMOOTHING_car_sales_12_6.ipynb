{
  "nbformat": 4,
  "nbformat_minor": 0,
  "metadata": {
    "kernelspec": {
      "display_name": "Python 3",
      "language": "python",
      "name": "python3"
    },
    "language_info": {
      "codemirror_mode": {
        "name": "ipython",
        "version": 3
      },
      "file_extension": ".py",
      "mimetype": "text/x-python",
      "name": "python",
      "nbconvert_exporter": "python",
      "pygments_lexer": "ipython3",
      "version": "3.7.1"
    },
    "colab": {
      "name": "05_grid_search_EXPONENTIAL_SMOOTHING_car_sales_12_6.ipynb",
      "provenance": [],
      "toc_visible": true,
      "include_colab_link": true
    },
    "accelerator": "GPU"
  },
  "cells": [
    {
      "cell_type": "markdown",
      "metadata": {
        "id": "view-in-github",
        "colab_type": "text"
      },
      "source": [
        "<a href=\"https://colab.research.google.com/github/kghilothia06/Time-Series-Forecasting/blob/main/05_grid_search_EXPONENTIAL_SMOOTHING_car_sales_12_6.ipynb\" target=\"_parent\"><img src=\"https://colab.research.google.com/assets/colab-badge.svg\" alt=\"Open In Colab\"/></a>"
      ]
    },
    {
      "cell_type": "markdown",
      "metadata": {
        "id": "YpXprgkLWMWP"
      },
      "source": [
        "# Grid Search Framework for ETS models for sales prediction"
      ]
    },
    {
      "cell_type": "markdown",
      "metadata": {
        "id": "mFuhsfn8WMWS"
      },
      "source": [
        "Import Libraries"
      ]
    },
    {
      "cell_type": "code",
      "metadata": {
        "colab": {
          "base_uri": "https://localhost:8080/"
        },
        "id": "laZNXjXFWMWT",
        "outputId": "e0e76524-c320-44ed-a16f-f914d706a061"
      },
      "source": [
        "from math import sqrt\n",
        "from multiprocessing import cpu_count\n",
        "from joblib import Parallel\n",
        "from joblib import delayed\n",
        "from warnings import catch_warnings\n",
        "from warnings import filterwarnings\n",
        "from statsmodels.tsa.holtwinters import ExponentialSmoothing\n",
        "from sklearn.metrics import mean_squared_error\n",
        "from pandas import read_excel\n",
        "from numpy import array\n",
        "import pandas as pd\n",
        "import warnings\n",
        "warnings.filterwarnings(\"ignore\")"
      ],
      "execution_count": 1,
      "outputs": [
        {
          "output_type": "stream",
          "text": [
            "/usr/local/lib/python3.7/dist-packages/statsmodels/tools/_testing.py:19: FutureWarning: pandas.util.testing is deprecated. Use the functions in the public API at pandas.testing instead.\n",
            "  import pandas.util.testing as tm\n"
          ],
          "name": "stderr"
        }
      ]
    },
    {
      "cell_type": "markdown",
      "metadata": {
        "id": "O7clvVKKWMWU"
      },
      "source": [
        "one-step Holt Winter’s Exponential Smoothing forecast"
      ]
    },
    {
      "cell_type": "code",
      "metadata": {
        "id": "wS82jtx-WMWe"
      },
      "source": [
        "def exp_smoothing_forecast(history, config):\n",
        "    t,d,s,p,b,r = config\n",
        "    # define model\n",
        "    history = array(history)\n",
        "    model = ExponentialSmoothing(history, trend=t, damped=d, seasonal=s, seasonal_periods=p)\n",
        "    # fit model\n",
        "    model_fit = model.fit(optimized=True, use_boxcox=b, remove_bias=r)\n",
        "    # make one step forecast\n",
        "    yhat = model_fit.predict(len(history), len(history))\n",
        "    return yhat[0]"
      ],
      "execution_count": 2,
      "outputs": []
    },
    {
      "cell_type": "markdown",
      "metadata": {
        "id": "7EwhWo-7WMWg"
      },
      "source": [
        "walk-forward validation for univariate data"
      ]
    },
    {
      "cell_type": "code",
      "metadata": {
        "id": "ffy0nkmCWMWh"
      },
      "source": [
        "def walk_forward_validation(data, n_test, cfg):\n",
        "    predictions = list()\n",
        "    # split dataset\n",
        "    train = data[:-n_test]\n",
        "    test = data[-n_test:]\n",
        "    # seed history with training dataset\n",
        "    history = [x for x in train]\n",
        "    # step over each time-step in the test set\n",
        "    for i in range(len(test)):\n",
        "        # fit model and make forecast for history\n",
        "        yhat = exp_smoothing_forecast(history, cfg)\n",
        "        # store forecast in list of predictions\n",
        "        predictions.append(yhat)\n",
        "        # add actual observation to history for the next loop\n",
        "        history.append(test[i])\n",
        "    # estimate prediction error\n",
        "    error = sqrt(mean_squared_error(test, predictions))\n",
        "    print('RMSE : ' + str(error))\n"
      ],
      "execution_count": 3,
      "outputs": []
    },
    {
      "cell_type": "markdown",
      "metadata": {
        "id": "2qh5QH_67TUx"
      },
      "source": [
        "Load dataset for monthly sales prediction"
      ]
    },
    {
      "cell_type": "code",
      "metadata": {
        "id": "v1NyRnp46fxb"
      },
      "source": [
        "# load dataset\r\n",
        "series = read_excel('/content/Sales-monthly.xlsx', header=0, index_col=0)\r\n",
        "data = series.values\r\n",
        "# data split\r\n",
        "n_test = 12"
      ],
      "execution_count": 4,
      "outputs": []
    },
    {
      "cell_type": "markdown",
      "metadata": {
        "id": "jvsKqtaG6pmP"
      },
      "source": [
        "specify model configs"
      ]
    },
    {
      "cell_type": "code",
      "metadata": {
        "id": "X613DLf06fuH"
      },
      "source": [
        "t = None\r\n",
        "d =False\r\n",
        "s = 'add'\r\n",
        "p = 12\r\n",
        "b = True\r\n",
        "r = False\r\n",
        "cfg = [t,d,s,p,b,r]"
      ],
      "execution_count": 5,
      "outputs": []
    },
    {
      "cell_type": "code",
      "metadata": {
        "colab": {
          "base_uri": "https://localhost:8080/"
        },
        "id": "QOaDzt1Y6frs",
        "outputId": "4e3ad70c-6eae-4bf1-a634-4b6843148f2d"
      },
      "source": [
        "walk_forward_validation(data,n_test,cfg)"
      ],
      "execution_count": 6,
      "outputs": [
        {
          "output_type": "stream",
          "text": [
            "RMSE : 19436.147658159283\n"
          ],
          "name": "stdout"
        }
      ]
    },
    {
      "cell_type": "markdown",
      "metadata": {
        "id": "g04oi41h7pom"
      },
      "source": [
        "Load dataset for quarterly sales prediction"
      ]
    },
    {
      "cell_type": "code",
      "metadata": {
        "id": "JucbSLzY7ugU"
      },
      "source": [
        "# load dataset\r\n",
        "series = read_excel('/content/Sales-quarterly.xlsx', header=0, index_col=0)\r\n",
        "series = pd.DataFrame(series['Sales'])\r\n",
        "data = series.values\r\n",
        "# data split\r\n",
        "n_test = 4"
      ],
      "execution_count": 7,
      "outputs": []
    },
    {
      "cell_type": "markdown",
      "metadata": {
        "id": "E65NZReE761U"
      },
      "source": [
        "specify model configs"
      ]
    },
    {
      "cell_type": "code",
      "metadata": {
        "id": "R-a4DOlz75lD"
      },
      "source": [
        "t = None\r\n",
        "d = False\r\n",
        "s = 'add'\r\n",
        "p = 12\r\n",
        "b = False\r\n",
        "r = True\r\n",
        "cfg = [t,d,s,p,b,r]"
      ],
      "execution_count": 8,
      "outputs": []
    },
    {
      "cell_type": "code",
      "metadata": {
        "colab": {
          "base_uri": "https://localhost:8080/"
        },
        "id": "rnlTS4e08AcT",
        "outputId": "211a933f-f636-46dd-ac33-33d0aaeedaf8"
      },
      "source": [
        "walk_forward_validation(data,n_test,cfg)"
      ],
      "execution_count": 9,
      "outputs": [
        {
          "output_type": "stream",
          "text": [
            "RMSE : 71793.47467841941\n"
          ],
          "name": "stdout"
        }
      ]
    },
    {
      "cell_type": "code",
      "metadata": {
        "id": "cp5eS7DmEoZN"
      },
      "source": [
        ""
      ],
      "execution_count": 9,
      "outputs": []
    }
  ]
}