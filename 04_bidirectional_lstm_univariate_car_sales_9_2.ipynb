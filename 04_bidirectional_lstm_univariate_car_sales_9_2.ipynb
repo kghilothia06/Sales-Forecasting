{
  "nbformat": 4,
  "nbformat_minor": 0,
  "metadata": {
    "colab": {
      "name": "04_bidirectional_lstm_univariate_car_sales_9_2.ipynb",
      "provenance": [],
      "toc_visible": true
    },
    "kernelspec": {
      "name": "python3",
      "display_name": "Python 3"
    }
  },
  "cells": [
    {
      "cell_type": "markdown",
      "metadata": {
        "id": "YmSioXhbHvdy"
      },
      "source": [
        "# univariate bidirectional lstm example for sales prediction"
      ]
    },
    {
      "cell_type": "markdown",
      "metadata": {
        "id": "PQPVbAKgHz5F"
      },
      "source": [
        "Import Libraries"
      ]
    },
    {
      "cell_type": "code",
      "metadata": {
        "id": "15L3AJenBJix"
      },
      "source": [
        "import pandas as pd\r\n",
        "from numpy import array\r\n",
        "from keras.models import Sequential\r\n",
        "from keras.layers import LSTM\r\n",
        "from keras.layers import Dense\r\n",
        "from keras.layers import Bidirectional\r\n"
      ],
      "execution_count": 1,
      "outputs": []
    },
    {
      "cell_type": "markdown",
      "metadata": {
        "id": "HI2I9gHJH8I4"
      },
      "source": [
        "Function to split a univariate sequence"
      ]
    },
    {
      "cell_type": "code",
      "metadata": {
        "id": "QPOWpLqOH5kK"
      },
      "source": [
        "def split_sequence(sequence, n_steps):\r\n",
        "\tX, y = list(), list()\r\n",
        "\tfor i in range(len(sequence)):\r\n",
        "\t\t# find the end of this pattern\r\n",
        "\t\tend_ix = i + n_steps\r\n",
        "\t\t# check if we are beyond the sequence\r\n",
        "\t\tif end_ix > len(sequence)-1:\r\n",
        "\t\t\tbreak\r\n",
        "\t\t# gather input and output parts of the pattern\r\n",
        "\t\tseq_x, seq_y = sequence[i:end_ix], sequence[end_ix]\r\n",
        "\t\tX.append(seq_x)\r\n",
        "\t\ty.append(seq_y)\r\n",
        "\treturn array(X), array(y)"
      ],
      "execution_count": 2,
      "outputs": []
    },
    {
      "cell_type": "markdown",
      "metadata": {
        "id": "K2OQJ6jHpZpb"
      },
      "source": [
        "Functionality for Data Preparation for Model Training"
      ]
    },
    {
      "cell_type": "code",
      "metadata": {
        "id": "rjoCn9xrJImK"
      },
      "source": [
        "def data_prep(df):\r\n",
        "  # choose a number of time steps\r\n",
        "  n_steps = 3\r\n",
        "\r\n",
        "  #Convert 'Sales' column to a list\r\n",
        "  raw_seq=[]\r\n",
        "\r\n",
        "  for i in df['Sales']:\r\n",
        "    raw_seq.append(i)\r\n",
        "  \r\n",
        "  # split into samples\r\n",
        "  X, y = split_sequence(raw_seq, n_steps)\r\n",
        "  \r\n",
        "  # taking all the data except last row\r\n",
        "  X_train = X[:len(X)-1]\r\n",
        "  y_train = y[:len(y)-1]\r\n",
        "  \r\n",
        "  # test sample would be data corresponding to last row\r\n",
        "  X_test = X[len(X)-1]\r\n",
        "  y_test = y[len(y)-1] \r\n",
        "  \r\n",
        "  # reshape from [samples, timesteps] into [samples, timesteps, features]\r\n",
        "  n_features = 1\r\n",
        "  X_train = X_train.reshape((X_train.shape[0], X_train.shape[1], n_features))\r\n",
        "  X_test = X_test.reshape((1, n_steps, n_features))\r\n",
        "\r\n",
        "  print('Data Preparation DONE!')\r\n",
        "  # Build and train the model\r\n",
        "  build_model(X_train,y_train,X_test,y_test,n_steps,n_features) \r\n",
        "\r\n"
      ],
      "execution_count": 3,
      "outputs": []
    },
    {
      "cell_type": "markdown",
      "metadata": {
        "id": "MyOxCpXkskk4"
      },
      "source": [
        "Functionality for Building and Training Model"
      ]
    },
    {
      "cell_type": "code",
      "metadata": {
        "id": "bKD9RsO7IxjU"
      },
      "source": [
        "def build_model(X_train,y_train,X_test,y_test,n_steps,n_features):\r\n",
        "  model = Sequential()\r\n",
        "  model.add(Bidirectional(LSTM(50, activation='relu'), input_shape=(n_steps, n_features)))\r\n",
        "  model.add(Dense(1))\r\n",
        "  model.compile(optimizer='adam', loss='mse')\r\n",
        "\r\n",
        "  print('Model Built!')\r\n",
        "\r\n",
        "  # fit model\r\n",
        "  model.fit(X_train, y_train, epochs=200, verbose=0)\r\n",
        "  print('Model Trained!')\r\n",
        "\r\n",
        "  print('Now Making Predictions!')\r\n",
        "  \r\n",
        "  # make prediction\r\n",
        "  yhat = model.predict(X_test, verbose=0)\r\n",
        "  print('predicted value : ' + str(yhat[0][0]))\r\n",
        "  print('actual value : ' + str(y_test)) "
      ],
      "execution_count": 4,
      "outputs": []
    },
    {
      "cell_type": "markdown",
      "metadata": {
        "id": "hIPgkCt2IFLx"
      },
      "source": [
        "Read dataset using pandas"
      ]
    },
    {
      "cell_type": "markdown",
      "metadata": {
        "id": "O0QIbIomsMmJ"
      },
      "source": [
        "First will be Quarterly Sales Prediction"
      ]
    },
    {
      "cell_type": "code",
      "metadata": {
        "id": "RP8j5QTnH_J8"
      },
      "source": [
        "df1 = pd.read_excel('/content/Sales-quarterly.xlsx',header=0,index_col=0)"
      ],
      "execution_count": 5,
      "outputs": []
    },
    {
      "cell_type": "code",
      "metadata": {
        "colab": {
          "base_uri": "https://localhost:8080/"
        },
        "id": "xmWGFMbhrSHN",
        "outputId": "759935d0-ed39-45c0-8720-975567966384"
      },
      "source": [
        "data_prep(df1)"
      ],
      "execution_count": 6,
      "outputs": [
        {
          "output_type": "stream",
          "text": [
            "Data Preparation DONE!\n",
            "Model Built!\n",
            "Model Trained!\n",
            "Now Making Predictions!\n",
            "predicted value : 300022.3\n",
            "actual value : 611909.638\n"
          ],
          "name": "stdout"
        }
      ]
    },
    {
      "cell_type": "markdown",
      "metadata": {
        "id": "bNBvjJ24sSUF"
      },
      "source": [
        "Second will be monthly sales prediction"
      ]
    },
    {
      "cell_type": "code",
      "metadata": {
        "id": "F5AWWKulrTi9"
      },
      "source": [
        "df2 = pd.read_excel('/content/Sales-monthly.xlsx',header=0,index_col=0)"
      ],
      "execution_count": 7,
      "outputs": []
    },
    {
      "cell_type": "code",
      "metadata": {
        "colab": {
          "base_uri": "https://localhost:8080/"
        },
        "id": "9BTG-pu0sacL",
        "outputId": "3d14e8e3-8789-4af2-98e2-0f246fbba282"
      },
      "source": [
        "data_prep(df2)"
      ],
      "execution_count": 8,
      "outputs": [
        {
          "output_type": "stream",
          "text": [
            "Data Preparation DONE!\n",
            "Model Built!\n",
            "Model Trained!\n",
            "Now Making Predictions!\n",
            "predicted value : 440974.84\n",
            "actual value : 513890.482\n"
          ],
          "name": "stdout"
        }
      ]
    }
  ]
}