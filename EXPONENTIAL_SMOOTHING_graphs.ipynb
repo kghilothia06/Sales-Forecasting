{
  "nbformat": 4,
  "nbformat_minor": 0,
  "metadata": {
    "kernelspec": {
      "display_name": "Python 3",
      "language": "python",
      "name": "python3"
    },
    "language_info": {
      "codemirror_mode": {
        "name": "ipython",
        "version": 3
      },
      "file_extension": ".py",
      "mimetype": "text/x-python",
      "name": "python",
      "nbconvert_exporter": "python",
      "pygments_lexer": "ipython3",
      "version": "3.7.1"
    },
    "colab": {
      "name": "EXPONENTIAL_SMOOTHING_graphs.ipynb",
      "provenance": [],
      "toc_visible": true,
      "include_colab_link": true
    }
  },
  "cells": [
    {
      "cell_type": "markdown",
      "metadata": {
        "id": "view-in-github",
        "colab_type": "text"
      },
      "source": [
        "<a href=\"https://colab.research.google.com/github/kghilothia06/Time-Series-Forecasting/blob/main/EXPONENTIAL_SMOOTHING_graphs.ipynb\" target=\"_parent\"><img src=\"https://colab.research.google.com/assets/colab-badge.svg\" alt=\"Open In Colab\"/></a>"
      ]
    },
    {
      "cell_type": "markdown",
      "metadata": {
        "id": "mFuhsfn8WMWS"
      },
      "source": [
        "Import Libraries"
      ]
    },
    {
      "cell_type": "code",
      "metadata": {
        "id": "laZNXjXFWMWT"
      },
      "source": [
        "from math import sqrt\n",
        "from multiprocessing import cpu_count\n",
        "from joblib import Parallel\n",
        "from joblib import delayed\n",
        "from warnings import catch_warnings\n",
        "from warnings import filterwarnings\n",
        "from statsmodels.tsa.holtwinters import ExponentialSmoothing\n",
        "from sklearn.metrics import mean_squared_error, r2_score\n",
        "from pandas import read_csv\n",
        "from numpy import array\n",
        "import pandas as pd\n",
        "import warnings\n",
        "import matplotlib.pyplot as plt\n",
        "import numpy as np\n",
        "warnings.filterwarnings(\"ignore\")"
      ],
      "execution_count": 27,
      "outputs": []
    },
    {
      "cell_type": "markdown",
      "metadata": {
        "id": "O7clvVKKWMWU"
      },
      "source": [
        "one-step Holt Winter’s Exponential Smoothing forecast"
      ]
    },
    {
      "cell_type": "code",
      "metadata": {
        "id": "wS82jtx-WMWe"
      },
      "source": [
        "def exp_smoothing_forecast(history, config):\n",
        "    t,d,s,p,b,r = config\n",
        "    # define model\n",
        "    history = array(history)\n",
        "    model = ExponentialSmoothing(history, trend=t, damped=d, seasonal=s, seasonal_periods=p)\n",
        "    # fit model\n",
        "    model_fit = model.fit(optimized=True, use_boxcox=b, remove_bias=r)\n",
        "    # make one step forecast\n",
        "    yhat = model_fit.predict(len(history), len(history))\n",
        "    return yhat[0]"
      ],
      "execution_count": 28,
      "outputs": []
    },
    {
      "cell_type": "markdown",
      "metadata": {
        "id": "7EwhWo-7WMWg"
      },
      "source": [
        "walk-forward validation for univariate data"
      ]
    },
    {
      "cell_type": "code",
      "metadata": {
        "id": "ffy0nkmCWMWh"
      },
      "source": [
        "def walk_forward_validation(data, n_test, cfg):\n",
        "    predictions = list()\n",
        "    # split dataset\n",
        "    train = data[:-n_test]\n",
        "    test = data[-n_test:]\n",
        "    # seed history with training dataset\n",
        "    history = [x for x in train]\n",
        "    # step over each time-step in the test set\n",
        "    for i in range(len(test)):\n",
        "        # fit model and make forecast for history\n",
        "        yhat = exp_smoothing_forecast(history, cfg)\n",
        "        # store forecast in list of predictions\n",
        "        predictions.append(yhat)\n",
        "        # add actual observation to history for the next loop\n",
        "        history.append(yhat)\n",
        "    # estimate prediction error\n",
        "    RMSE = int(sqrt(mean_squared_error(test, predictions)))\n",
        "    R2 = r2_score(test,predictions)\n",
        "    print('RMSE : ' + str(RMSE))\n",
        "    print('R square : ' + str(R2))\n",
        "    return train, test, predictions\n"
      ],
      "execution_count": 29,
      "outputs": []
    },
    {
      "cell_type": "markdown",
      "metadata": {
        "id": "2qh5QH_67TUx"
      },
      "source": [
        "Load dataset for monthly sales prediction"
      ]
    },
    {
      "cell_type": "markdown",
      "metadata": {
        "id": "djvwfemDUTl8"
      },
      "source": [
        "Modify '*n_test*' variable in below cell to change the no. of predictions to be made."
      ]
    },
    {
      "cell_type": "code",
      "metadata": {
        "id": "v1NyRnp46fxb"
      },
      "source": [
        "# load dataset\n",
        "series = read_csv('/content/Monthly_Revenue_March_21.csv', header=0, index_col=0)\n",
        "data = series['Revenue'].values\n",
        "# data split\n",
        "n_test = 12"
      ],
      "execution_count": 31,
      "outputs": []
    },
    {
      "cell_type": "markdown",
      "metadata": {
        "id": "jvsKqtaG6pmP"
      },
      "source": [
        "specify model configs"
      ]
    },
    {
      "cell_type": "code",
      "metadata": {
        "id": "X613DLf06fuH"
      },
      "source": [
        "t = None\n",
        "d =False\n",
        "s = 'add'\n",
        "p = 12\n",
        "b = True\n",
        "r = False\n",
        "cfg = [t,d,s,p,b,r]"
      ],
      "execution_count": 32,
      "outputs": []
    },
    {
      "cell_type": "code",
      "metadata": {
        "id": "QOaDzt1Y6frs",
        "colab": {
          "base_uri": "https://localhost:8080/"
        },
        "outputId": "79a6f702-58b4-4aa8-9126-380709ae74ac"
      },
      "source": [
        "train, test, predictions = walk_forward_validation(data,n_test,cfg)"
      ],
      "execution_count": 33,
      "outputs": [
        {
          "output_type": "stream",
          "text": [
            "RMSE : 75028\n",
            "R square : 0.6982740852507976\n"
          ],
          "name": "stdout"
        }
      ]
    },
    {
      "cell_type": "markdown",
      "metadata": {
        "id": "R8ziJ7vVpD-2"
      },
      "source": [
        "## Adding Graph"
      ]
    },
    {
      "cell_type": "markdown",
      "metadata": {
        "id": "vRdbm7vque_y"
      },
      "source": [
        "reset columns"
      ]
    },
    {
      "cell_type": "code",
      "metadata": {
        "id": "ag3GRIdvppH6"
      },
      "source": [
        "series.reset_index(level=0, inplace=True)"
      ],
      "execution_count": 34,
      "outputs": []
    },
    {
      "cell_type": "code",
      "metadata": {
        "id": "Ye5BneXRV1Lw"
      },
      "source": [
        "# convert 'Year' and 'Month' column to string type\n",
        "series = series.astype({\"Year\": str, \"Month\": str})"
      ],
      "execution_count": 35,
      "outputs": []
    },
    {
      "cell_type": "code",
      "metadata": {
        "id": "cDUB7fS2WEVn"
      },
      "source": [
        "# concatenate first two columns\n",
        "series['Month'] = series['Year'] + '-' + series['Month']"
      ],
      "execution_count": 36,
      "outputs": []
    },
    {
      "cell_type": "code",
      "metadata": {
        "id": "4cqH1n9xWLiK"
      },
      "source": [
        "series.drop(['Year'], axis=1, inplace=True)"
      ],
      "execution_count": 37,
      "outputs": []
    },
    {
      "cell_type": "markdown",
      "metadata": {
        "id": "Ff_0Q0V_ujJ5"
      },
      "source": [
        "set x-axis labels"
      ]
    },
    {
      "cell_type": "code",
      "metadata": {
        "colab": {
          "base_uri": "https://localhost:8080/"
        },
        "id": "G3vX6lU1ulm6",
        "outputId": "e8cb48a6-faa8-4b61-87b6-0742e9fda892"
      },
      "source": [
        "x_axis_label = []\n",
        "\n",
        "for i in range(len(series)):\n",
        "  if series.iloc[i,0][-2:] == '-1':\n",
        "    x_axis_label.append(series.iloc[i,0][:-2])\n",
        "  else:\n",
        "    x_axis_label.append(' ')\n",
        "\n",
        "x_axis_label"
      ],
      "execution_count": 38,
      "outputs": [
        {
          "output_type": "execute_result",
          "data": {
            "text/plain": [
              "['2017',\n",
              " ' ',\n",
              " ' ',\n",
              " ' ',\n",
              " ' ',\n",
              " ' ',\n",
              " ' ',\n",
              " ' ',\n",
              " ' ',\n",
              " ' ',\n",
              " ' ',\n",
              " ' ',\n",
              " '2018',\n",
              " ' ',\n",
              " ' ',\n",
              " ' ',\n",
              " ' ',\n",
              " ' ',\n",
              " ' ',\n",
              " ' ',\n",
              " ' ',\n",
              " ' ',\n",
              " ' ',\n",
              " ' ',\n",
              " '2019',\n",
              " ' ',\n",
              " ' ',\n",
              " ' ',\n",
              " ' ',\n",
              " ' ',\n",
              " ' ',\n",
              " ' ',\n",
              " ' ',\n",
              " ' ',\n",
              " ' ',\n",
              " ' ',\n",
              " '2020',\n",
              " ' ',\n",
              " ' ',\n",
              " ' ',\n",
              " ' ',\n",
              " ' ',\n",
              " ' ',\n",
              " ' ',\n",
              " ' ',\n",
              " ' ',\n",
              " ' ',\n",
              " ' ',\n",
              " '2021',\n",
              " ' ',\n",
              " ' ']"
            ]
          },
          "metadata": {
            "tags": []
          },
          "execution_count": 38
        }
      ]
    },
    {
      "cell_type": "markdown",
      "metadata": {
        "id": "X3P6KTY6NoP2"
      },
      "source": [
        "separate dates for test and training data"
      ]
    },
    {
      "cell_type": "code",
      "metadata": {
        "colab": {
          "base_uri": "https://localhost:8080/"
        },
        "id": "2GIys0k7NvDG",
        "outputId": "d20adb61-53dc-4c06-b2e4-8d24fd6c735d"
      },
      "source": [
        "dates_train = []\n",
        "for i in range(len(series)-n_test):\n",
        "  dates_train.append(series['Month'][i])\n",
        "\n",
        "dates_train"
      ],
      "execution_count": 39,
      "outputs": [
        {
          "output_type": "execute_result",
          "data": {
            "text/plain": [
              "['2017-1',\n",
              " '2017-2',\n",
              " '2017-3',\n",
              " '2017-4',\n",
              " '2017-5',\n",
              " '2017-6',\n",
              " '2017-7',\n",
              " '2017-8',\n",
              " '2017-9',\n",
              " '2017-10',\n",
              " '2017-11',\n",
              " '2017-12',\n",
              " '2018-1',\n",
              " '2018-2',\n",
              " '2018-3',\n",
              " '2018-4',\n",
              " '2018-5',\n",
              " '2018-6',\n",
              " '2018-7',\n",
              " '2018-8',\n",
              " '2018-9',\n",
              " '2018-10',\n",
              " '2018-11',\n",
              " '2018-12',\n",
              " '2019-1',\n",
              " '2019-2',\n",
              " '2019-3',\n",
              " '2019-4',\n",
              " '2019-5',\n",
              " '2019-6',\n",
              " '2019-7',\n",
              " '2019-8',\n",
              " '2019-9',\n",
              " '2019-10',\n",
              " '2019-11',\n",
              " '2019-12',\n",
              " '2020-1',\n",
              " '2020-2',\n",
              " '2020-3']"
            ]
          },
          "metadata": {
            "tags": []
          },
          "execution_count": 39
        }
      ]
    },
    {
      "cell_type": "code",
      "metadata": {
        "colab": {
          "base_uri": "https://localhost:8080/"
        },
        "id": "TKvPp14oOXyI",
        "outputId": "d970be1a-251b-42d3-ba31-3d24b8d2e86b"
      },
      "source": [
        "dates_test = []\n",
        "for i in range(len(series)-n_test , len(series)):\n",
        "  dates_test.append(series['Month'][i])\n",
        "\n",
        "dates_test"
      ],
      "execution_count": 40,
      "outputs": [
        {
          "output_type": "execute_result",
          "data": {
            "text/plain": [
              "['2020-4',\n",
              " '2020-5',\n",
              " '2020-6',\n",
              " '2020-7',\n",
              " '2020-8',\n",
              " '2020-9',\n",
              " '2020-10',\n",
              " '2020-11',\n",
              " '2020-12',\n",
              " '2021-1',\n",
              " '2021-2',\n",
              " '2021-3']"
            ]
          },
          "metadata": {
            "tags": []
          },
          "execution_count": 40
        }
      ]
    },
    {
      "cell_type": "markdown",
      "metadata": {
        "id": "A7qkk3-98ram"
      },
      "source": [
        "Set Prediction interval for each forecast"
      ]
    },
    {
      "cell_type": "code",
      "metadata": {
        "id": "iN99D5iA8ve3"
      },
      "source": [
        "confidence_upper = []\n",
        "confidence_lower = []\n",
        "for i in predictions:\n",
        "  confidence_upper.append(i+1.96*(array(predictions).std()))\n",
        "  y = i-1.96*(array(predictions).std())\n",
        "  confidence_lower.append(max(y,0))"
      ],
      "execution_count": 41,
      "outputs": []
    },
    {
      "cell_type": "markdown",
      "metadata": {
        "id": "PhGig3ZTOiF9"
      },
      "source": [
        "Plot graph"
      ]
    },
    {
      "cell_type": "code",
      "metadata": {
        "colab": {
          "base_uri": "https://localhost:8080/",
          "height": 331
        },
        "id": "rjq5gYGtpBoP",
        "outputId": "e1400cf2-c248-4c6c-fdac-3f69f59738b0"
      },
      "source": [
        "plt.figure(figsize=(20,7))\n",
        "plt.plot(dates_train, train, color='orange', label=\"Train\")\n",
        "plt.plot(dates_test, test, color='red', label=\"Test\")\n",
        "plt.plot(dates_test, predictions, color='blue', label=\"Predicted\")\n",
        "plt.legend(loc=\"upper left\")\n",
        "plt.fill_between(dates_test, confidence_upper, confidence_lower, alpha=0.2)\n",
        "plt.xticks(np.arange(len(x_axis_label)), x_axis_label)\n",
        "\n",
        "plt.show()"
      ],
      "execution_count": 42,
      "outputs": [
        {
          "output_type": "display_data",
          "data": {
            "image/png": "[encoded data removed]",
            "text/plain": [
              "<Figure size 1440x504 with 1 Axes>"
            ]
          },
          "metadata": {
            "tags": [],
            "needs_background": "light"
          }
        }
      ]
    },
    {
      "cell_type": "markdown",
      "metadata": {
        "id": "g04oi41h7pom"
      },
      "source": [
        "Load dataset for quarterly sales prediction"
      ]
    },
    {
      "cell_type": "markdown",
      "metadata": {
        "id": "l9RV74j1UsPW"
      },
      "source": [
        "Modify '*n_test*' variable in below cell to change the no. of predictions to be made."
      ]
    },
    {
      "cell_type": "code",
      "metadata": {
        "id": "JucbSLzY7ugU"
      },
      "source": [
        "# load dataset\n",
        "series = read_csv('/content/Quarterly_Revenue_March_21.csv', header=0, index_col=0)\n",
        "data = series['Revenue'].values\n",
        "# data split\n",
        "n_test = 4"
      ],
      "execution_count": 43,
      "outputs": []
    },
    {
      "cell_type": "markdown",
      "metadata": {
        "id": "E65NZReE761U"
      },
      "source": [
        "specify model configs"
      ]
    },
    {
      "cell_type": "code",
      "metadata": {
        "id": "R-a4DOlz75lD"
      },
      "source": [
        "t = None\n",
        "d = False\n",
        "s = 'add'\n",
        "p = 12\n",
        "b = False\n",
        "r = True\n",
        "cfg = [t,d,s,p,b,r]"
      ],
      "execution_count": 44,
      "outputs": []
    },
    {
      "cell_type": "code",
      "metadata": {
        "id": "rnlTS4e08AcT",
        "colab": {
          "base_uri": "https://localhost:8080/"
        },
        "outputId": "008bd0d4-72df-4aa7-ff3d-db3a16559ae7"
      },
      "source": [
        "train, test, predictions = walk_forward_validation(data,n_test,cfg)"
      ],
      "execution_count": 45,
      "outputs": [
        {
          "output_type": "stream",
          "text": [
            "RMSE : 74461\n",
            "R square : 0.8006640677628547\n"
          ],
          "name": "stdout"
        }
      ]
    },
    {
      "cell_type": "markdown",
      "metadata": {
        "id": "Z0SOz43OQjPT"
      },
      "source": [
        "#Adding Graph"
      ]
    },
    {
      "cell_type": "markdown",
      "metadata": {
        "id": "NiWKEPCjQlz-"
      },
      "source": [
        "Reset columns"
      ]
    },
    {
      "cell_type": "code",
      "metadata": {
        "id": "cp5eS7DmEoZN"
      },
      "source": [
        "series.reset_index(level=0, inplace=True)"
      ],
      "execution_count": 46,
      "outputs": []
    },
    {
      "cell_type": "code",
      "metadata": {
        "id": "BwDYz_t4WxlX"
      },
      "source": [
        "# convert 'Year' and 'Month' column to string type\n",
        "series = series.astype({\"Year\": str, \"Quarter\": str})"
      ],
      "execution_count": 47,
      "outputs": []
    },
    {
      "cell_type": "code",
      "metadata": {
        "id": "eFumd0xbWxV3"
      },
      "source": [
        "# concatenate first two columns\n",
        "series['Quarter'] = series['Year'] + '-' + series['Quarter']"
      ],
      "execution_count": 48,
      "outputs": []
    },
    {
      "cell_type": "markdown",
      "metadata": {
        "id": "NH0vjmyKQuMQ"
      },
      "source": [
        "set x axis labels"
      ]
    },
    {
      "cell_type": "code",
      "metadata": {
        "colab": {
          "base_uri": "https://localhost:8080/"
        },
        "id": "M7929cxrQn-m",
        "outputId": "37ac5c0c-79ca-443b-8dd8-a0243d14990d"
      },
      "source": [
        "x_axis_label = []\n",
        "#dictionary to keep track of current year\n",
        "vis = {}\n",
        "vis[2017] = 0\n",
        "vis[2018] = 0\n",
        "vis[2019] = 0\n",
        "vis[2020] = 0\n",
        "vis[2021] = 0\n",
        "for i in range(len(series)):\n",
        "  if vis[int(series.iloc[i,0])] == 0:\n",
        "    vis[int(series.iloc[i,0])] = 1\n",
        "    x_axis_label.append(str(series.iloc[i,0]))\n",
        "  else:\n",
        "    x_axis_label.append(' ')\n",
        "\n",
        "x_axis_label"
      ],
      "execution_count": 49,
      "outputs": [
        {
          "output_type": "execute_result",
          "data": {
            "text/plain": [
              "['2017',\n",
              " ' ',\n",
              " ' ',\n",
              " ' ',\n",
              " '2018',\n",
              " ' ',\n",
              " ' ',\n",
              " ' ',\n",
              " '2019',\n",
              " ' ',\n",
              " ' ',\n",
              " ' ',\n",
              " '2020',\n",
              " ' ',\n",
              " ' ',\n",
              " ' ',\n",
              " '2021']"
            ]
          },
          "metadata": {
            "tags": []
          },
          "execution_count": 49
        }
      ]
    },
    {
      "cell_type": "markdown",
      "metadata": {
        "id": "xpQdEMrqSIFB"
      },
      "source": [
        "separate dates for training and test data"
      ]
    },
    {
      "cell_type": "code",
      "metadata": {
        "colab": {
          "base_uri": "https://localhost:8080/"
        },
        "id": "21HJiAS5Q0jM",
        "outputId": "25dee684-06ce-479f-92f2-ff85b6b08bcf"
      },
      "source": [
        "dates_train = []\n",
        "for i in range(len(series)-n_test):\n",
        "  dates_train.append(str(series['Year'][i]) + ' - ' + str(i%4 + 1))\n",
        "\n",
        "dates_train"
      ],
      "execution_count": 50,
      "outputs": [
        {
          "output_type": "execute_result",
          "data": {
            "text/plain": [
              "['2017 - 1',\n",
              " '2017 - 2',\n",
              " '2017 - 3',\n",
              " '2017 - 4',\n",
              " '2018 - 1',\n",
              " '2018 - 2',\n",
              " '2018 - 3',\n",
              " '2018 - 4',\n",
              " '2019 - 1',\n",
              " '2019 - 2',\n",
              " '2019 - 3',\n",
              " '2019 - 4',\n",
              " '2020 - 1']"
            ]
          },
          "metadata": {
            "tags": []
          },
          "execution_count": 50
        }
      ]
    },
    {
      "cell_type": "code",
      "metadata": {
        "colab": {
          "base_uri": "https://localhost:8080/"
        },
        "id": "OyERAbE7Q2zC",
        "outputId": "8923393b-79d4-4a53-9d78-e388fa6ea2fc"
      },
      "source": [
        "dates_test = []\n",
        "for i in range(len(series)-n_test , len(series)):\n",
        "  dates_test.append(str(series['Year'][i]) + ' - ' + str(i%4 + 1))\n",
        "\n",
        "dates_test"
      ],
      "execution_count": 51,
      "outputs": [
        {
          "output_type": "execute_result",
          "data": {
            "text/plain": [
              "['2020 - 2', '2020 - 3', '2020 - 4', '2021 - 1']"
            ]
          },
          "metadata": {
            "tags": []
          },
          "execution_count": 51
        }
      ]
    },
    {
      "cell_type": "markdown",
      "metadata": {
        "id": "9_EUiWvX_GP-"
      },
      "source": [
        "Set prediction intervals for predictions"
      ]
    },
    {
      "cell_type": "code",
      "metadata": {
        "id": "-k-5m-10_ErM"
      },
      "source": [
        "confidence_upper = []\n",
        "confidence_lower = []\n",
        "for i in predictions:\n",
        "  confidence_upper.append(i+1.96*(array(predictions).std()))\n",
        "  y = i-1.96*(array(predictions).std())\n",
        "  confidence_lower.append(max(y,0))"
      ],
      "execution_count": 52,
      "outputs": []
    },
    {
      "cell_type": "markdown",
      "metadata": {
        "id": "o8iWqz93S5RW"
      },
      "source": [
        "Plot graph"
      ]
    },
    {
      "cell_type": "code",
      "metadata": {
        "colab": {
          "base_uri": "https://localhost:8080/",
          "height": 317
        },
        "id": "6MViDDtkSynG",
        "outputId": "3d8dd83d-a664-44ee-e88e-ecdb5e8343af"
      },
      "source": [
        "plt.figure(figsize=(20,7))\n",
        "plt.plot(dates_train, train, color='orange', label=\"Train\")\n",
        "plt.plot(dates_test, test, color='red', label=\"Test\")\n",
        "plt.plot(dates_test, predictions, color='blue', label=\"Predicted\")\n",
        "plt.legend(loc=\"upper left\")\n",
        "plt.fill_between(dates_test, confidence_upper, confidence_lower, alpha=0.2)\n",
        "plt.xticks(np.arange(len(x_axis_label)), x_axis_label)\n",
        "\n",
        "plt.show()"
      ],
      "execution_count": 53,
      "outputs": [
        {
          "output_type": "display_data",
          "data": {
            "image/png": "[encoded data removed]",
            "text/plain": [
              "<Figure size 1440x504 with 1 Axes>"
            ]
          },
          "metadata": {
            "tags": [],
            "needs_background": "light"
          }
        }
      ]
    },
    {
      "cell_type": "code",
      "metadata": {
        "id": "cN6mjUsrYwjQ"
      },
      "source": [
        ""
      ],
      "execution_count": null,
      "outputs": []
    }
  ]
}