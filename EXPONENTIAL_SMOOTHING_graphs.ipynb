{
  "nbformat": 4,
  "nbformat_minor": 0,
  "metadata": {
    "kernelspec": {
      "display_name": "Python 3",
      "language": "python",
      "name": "python3"
    },
    "language_info": {
      "codemirror_mode": {
        "name": "ipython",
        "version": 3
      },
      "file_extension": ".py",
      "mimetype": "text/x-python",
      "name": "python",
      "nbconvert_exporter": "python",
      "pygments_lexer": "ipython3",
      "version": "3.7.1"
    },
    "colab": {
      "name": "EXPONENTIAL_SMOOTHING_graphs.ipynb",
      "provenance": [],
      "include_colab_link": true
    }
  },
  "cells": [
    {
      "cell_type": "markdown",
      "metadata": {
        "id": "view-in-github",
        "colab_type": "text"
      },
      "source": [
        "<a href=\"https://colab.research.google.com/github/kghilothia06/Time-Series-Forecasting/blob/main/EXPONENTIAL_SMOOTHING_graphs.ipynb\" target=\"_parent\"><img src=\"https://colab.research.google.com/assets/colab-badge.svg\" alt=\"Open In Colab\"/></a>"
      ]
    },
    {
      "cell_type": "markdown",
      "metadata": {
        "id": "YpXprgkLWMWP"
      },
      "source": [
        "# Grid Search Framework for ETS models for sales prediction"
      ]
    },
    {
      "cell_type": "markdown",
      "metadata": {
        "id": "mFuhsfn8WMWS"
      },
      "source": [
        "Import Libraries"
      ]
    },
    {
      "cell_type": "code",
      "metadata": {
        "colab": {
          "base_uri": "https://localhost:8080/"
        },
        "id": "laZNXjXFWMWT",
        "outputId": "1e1b834b-a055-4afa-9fe8-e4f0b0f004fc"
      },
      "source": [
        "from math import sqrt\n",
        "from multiprocessing import cpu_count\n",
        "from joblib import Parallel\n",
        "from joblib import delayed\n",
        "from warnings import catch_warnings\n",
        "from warnings import filterwarnings\n",
        "from statsmodels.tsa.holtwinters import ExponentialSmoothing\n",
        "from sklearn.metrics import mean_squared_error\n",
        "from pandas import read_excel\n",
        "from numpy import array\n",
        "import pandas as pd\n",
        "import warnings\n",
        "import matplotlib.pyplot as plt\n",
        "import numpy as np\n",
        "warnings.filterwarnings(\"ignore\")"
      ],
      "execution_count": 1,
      "outputs": [
        {
          "output_type": "stream",
          "text": [
            "/usr/local/lib/python3.7/dist-packages/statsmodels/tools/_testing.py:19: FutureWarning: pandas.util.testing is deprecated. Use the functions in the public API at pandas.testing instead.\n",
            "  import pandas.util.testing as tm\n"
          ],
          "name": "stderr"
        }
      ]
    },
    {
      "cell_type": "markdown",
      "metadata": {
        "id": "O7clvVKKWMWU"
      },
      "source": [
        "one-step Holt Winter’s Exponential Smoothing forecast"
      ]
    },
    {
      "cell_type": "code",
      "metadata": {
        "id": "wS82jtx-WMWe"
      },
      "source": [
        "def exp_smoothing_forecast(history, config):\n",
        "    t,d,s,p,b,r = config\n",
        "    # define model\n",
        "    history = array(history)\n",
        "    model = ExponentialSmoothing(history, trend=t, damped=d, seasonal=s, seasonal_periods=p)\n",
        "    # fit model\n",
        "    model_fit = model.fit(optimized=True, use_boxcox=b, remove_bias=r)\n",
        "    # make one step forecast\n",
        "    yhat = model_fit.predict(len(history), len(history))\n",
        "    return yhat[0]"
      ],
      "execution_count": 2,
      "outputs": []
    },
    {
      "cell_type": "markdown",
      "metadata": {
        "id": "7EwhWo-7WMWg"
      },
      "source": [
        "walk-forward validation for univariate data"
      ]
    },
    {
      "cell_type": "code",
      "metadata": {
        "id": "ffy0nkmCWMWh"
      },
      "source": [
        "def walk_forward_validation(data, n_test, cfg):\n",
        "    predictions = list()\n",
        "    # split dataset\n",
        "    train = data[:-n_test]\n",
        "    test = data[-n_test:]\n",
        "    # seed history with training dataset\n",
        "    history = [x for x in train]\n",
        "    # step over each time-step in the test set\n",
        "    for i in range(len(test)):\n",
        "        # fit model and make forecast for history\n",
        "        yhat = exp_smoothing_forecast(history, cfg)\n",
        "        # store forecast in list of predictions\n",
        "        predictions.append(yhat)\n",
        "        # add actual observation to history for the next loop\n",
        "        history.append(test[i])\n",
        "    # estimate prediction error\n",
        "    #error = sqrt(mean_squared_error(test, predictions))\n",
        "    #print('RMSE : ' + str(error))\n",
        "    return train, test, predictions\n"
      ],
      "execution_count": 3,
      "outputs": []
    },
    {
      "cell_type": "markdown",
      "metadata": {
        "id": "2qh5QH_67TUx"
      },
      "source": [
        "Load dataset for monthly sales prediction"
      ]
    },
    {
      "cell_type": "code",
      "metadata": {
        "id": "v1NyRnp46fxb"
      },
      "source": [
        "# load dataset\n",
        "series = read_excel('/content/Sales-monthly.xlsx', header=0, index_col=0)\n",
        "data = series.values\n",
        "# data split\n",
        "n_test = 12"
      ],
      "execution_count": 4,
      "outputs": []
    },
    {
      "cell_type": "markdown",
      "metadata": {
        "id": "jvsKqtaG6pmP"
      },
      "source": [
        "specify model configs"
      ]
    },
    {
      "cell_type": "code",
      "metadata": {
        "id": "X613DLf06fuH"
      },
      "source": [
        "t = None\n",
        "d =False\n",
        "s = 'add'\n",
        "p = 12\n",
        "b = True\n",
        "r = False\n",
        "cfg = [t,d,s,p,b,r]"
      ],
      "execution_count": 5,
      "outputs": []
    },
    {
      "cell_type": "code",
      "metadata": {
        "id": "QOaDzt1Y6frs"
      },
      "source": [
        "train, test, predictions = walk_forward_validation(data,n_test,cfg)"
      ],
      "execution_count": 6,
      "outputs": []
    },
    {
      "cell_type": "markdown",
      "metadata": {
        "id": "R8ziJ7vVpD-2"
      },
      "source": [
        "## Adding Graph"
      ]
    },
    {
      "cell_type": "markdown",
      "metadata": {
        "id": "vRdbm7vque_y"
      },
      "source": [
        "reset columns"
      ]
    },
    {
      "cell_type": "code",
      "metadata": {
        "id": "ag3GRIdvppH6"
      },
      "source": [
        "series.reset_index(level=0, inplace=True)"
      ],
      "execution_count": 7,
      "outputs": []
    },
    {
      "cell_type": "markdown",
      "metadata": {
        "id": "Ff_0Q0V_ujJ5"
      },
      "source": [
        "set x-axis labels"
      ]
    },
    {
      "cell_type": "code",
      "metadata": {
        "colab": {
          "base_uri": "https://localhost:8080/"
        },
        "id": "G3vX6lU1ulm6",
        "outputId": "1f12f903-0505-43f0-8d5d-6e74d60201f7"
      },
      "source": [
        "x_axis_label = []\n",
        "\n",
        "for i in range(len(series)):\n",
        "  if series.iloc[i,0][-2:] == '-1':\n",
        "    x_axis_label.append(series.iloc[i,0][:-2])\n",
        "  else:\n",
        "    x_axis_label.append(' ')\n",
        "\n",
        "x_axis_label"
      ],
      "execution_count": 8,
      "outputs": [
        {
          "output_type": "execute_result",
          "data": {
            "text/plain": [
              "['2017',\n",
              " ' ',\n",
              " ' ',\n",
              " ' ',\n",
              " ' ',\n",
              " ' ',\n",
              " ' ',\n",
              " ' ',\n",
              " ' ',\n",
              " ' ',\n",
              " ' ',\n",
              " ' ',\n",
              " '2018',\n",
              " ' ',\n",
              " ' ',\n",
              " ' ',\n",
              " ' ',\n",
              " ' ',\n",
              " ' ',\n",
              " ' ',\n",
              " ' ',\n",
              " ' ',\n",
              " ' ',\n",
              " ' ',\n",
              " '2019',\n",
              " ' ',\n",
              " ' ',\n",
              " ' ',\n",
              " ' ',\n",
              " ' ',\n",
              " ' ',\n",
              " ' ',\n",
              " ' ',\n",
              " ' ',\n",
              " ' ',\n",
              " ' ',\n",
              " '2020',\n",
              " ' ',\n",
              " ' ',\n",
              " ' ',\n",
              " ' ',\n",
              " ' ',\n",
              " ' ',\n",
              " ' ',\n",
              " ' ',\n",
              " ' ',\n",
              " ' ',\n",
              " ' ']"
            ]
          },
          "metadata": {
            "tags": []
          },
          "execution_count": 8
        }
      ]
    },
    {
      "cell_type": "markdown",
      "metadata": {
        "id": "X3P6KTY6NoP2"
      },
      "source": [
        "separate dates for test and training data"
      ]
    },
    {
      "cell_type": "code",
      "metadata": {
        "colab": {
          "base_uri": "https://localhost:8080/"
        },
        "id": "2GIys0k7NvDG",
        "outputId": "998e1948-5282-406a-d0c1-dd3fcbbfb087"
      },
      "source": [
        "dates_train = []\n",
        "for i in range(len(series)-n_test):\n",
        "  dates_train.append(series['Month'][i])\n",
        "\n",
        "dates_train"
      ],
      "execution_count": 9,
      "outputs": [
        {
          "output_type": "execute_result",
          "data": {
            "text/plain": [
              "['2017-1',\n",
              " '2017-2',\n",
              " '2017-3',\n",
              " '2017-4',\n",
              " '2017-5',\n",
              " '2017-6',\n",
              " '2017-7',\n",
              " '2017-8',\n",
              " '2017-9',\n",
              " '2017-10',\n",
              " '2017-11',\n",
              " '2017-12',\n",
              " '2018-1',\n",
              " '2018-2',\n",
              " '2018-3',\n",
              " '2018-4',\n",
              " '2018-5',\n",
              " '2018-6',\n",
              " '2018-7',\n",
              " '2018-8',\n",
              " '2018-9',\n",
              " '2018-10',\n",
              " '2018-11',\n",
              " '2018-12',\n",
              " '2019-1',\n",
              " '2019-2',\n",
              " '2019-3',\n",
              " '2019-4',\n",
              " '2019-5',\n",
              " '2019-6',\n",
              " '2019-7',\n",
              " '2019-8',\n",
              " '2019-9',\n",
              " '2019-10',\n",
              " '2019-11',\n",
              " '2019-12']"
            ]
          },
          "metadata": {
            "tags": []
          },
          "execution_count": 9
        }
      ]
    },
    {
      "cell_type": "code",
      "metadata": {
        "colab": {
          "base_uri": "https://localhost:8080/"
        },
        "id": "TKvPp14oOXyI",
        "outputId": "9d94ee48-bfef-4b26-94cf-ce0d63480b63"
      },
      "source": [
        "dates_test = []\n",
        "for i in range(len(series)-n_test , len(series)):\n",
        "  dates_test.append(series['Month'][i])\n",
        "\n",
        "dates_test"
      ],
      "execution_count": 10,
      "outputs": [
        {
          "output_type": "execute_result",
          "data": {
            "text/plain": [
              "['2020-1',\n",
              " '2020-2',\n",
              " '2020-3',\n",
              " '2020-4',\n",
              " '2020-5',\n",
              " '2020-6',\n",
              " '2020-7',\n",
              " '2020-8',\n",
              " '2020-9',\n",
              " '2020-10',\n",
              " '2020-11',\n",
              " '2020-12']"
            ]
          },
          "metadata": {
            "tags": []
          },
          "execution_count": 10
        }
      ]
    },
    {
      "cell_type": "markdown",
      "metadata": {
        "id": "A7qkk3-98ram"
      },
      "source": [
        "Set Prediction interval for each forecast"
      ]
    },
    {
      "cell_type": "code",
      "metadata": {
        "id": "iN99D5iA8ve3"
      },
      "source": [
        "confidence_upper = []\n",
        "confidence_lower = []\n",
        "for i in predictions:\n",
        "  confidence_upper.append(i+1.28*(array(predictions).std()))\n",
        "  confidence_lower.append(i-1.28*(array(predictions).std()))"
      ],
      "execution_count": 11,
      "outputs": []
    },
    {
      "cell_type": "markdown",
      "metadata": {
        "id": "PhGig3ZTOiF9"
      },
      "source": [
        "Plot graph"
      ]
    },
    {
      "cell_type": "code",
      "metadata": {
        "colab": {
          "base_uri": "https://localhost:8080/",
          "height": 315
        },
        "id": "rjq5gYGtpBoP",
        "outputId": "1fc5c62a-965b-499f-bb74-7d79ac57158d"
      },
      "source": [
        "plt.figure(figsize=(20,7))\n",
        "plt.plot(dates_train, train, color='yellow', label=\"Train\")\n",
        "plt.plot(dates_test, test, color='red', label=\"Test\")\n",
        "plt.plot(dates_test, predictions, color='blue', label=\"Predicted\")\n",
        "plt.legend(loc=\"upper left\")\n",
        "plt.fill_between(dates_test, confidence_upper, confidence_lower, alpha=0.2)\n",
        "plt.xticks(np.arange(len(x_axis_label)), x_axis_label)\n",
        "\n",
        "plt.show()"
      ],
      "execution_count": 12,
      "outputs": [
        {
          "output_type": "display_data",
          "data": {
            "image/png": "[encoded data removed]",
            "text/plain": [
              "<Figure size 1440x504 with 1 Axes>"
            ]
          },
          "metadata": {
            "tags": [],
            "needs_background": "light"
          }
        }
      ]
    },
    {
      "cell_type": "markdown",
      "metadata": {
        "id": "g04oi41h7pom"
      },
      "source": [
        "Load dataset for quarterly sales prediction"
      ]
    },
    {
      "cell_type": "code",
      "metadata": {
        "id": "JucbSLzY7ugU"
      },
      "source": [
        "# load dataset\n",
        "series = read_excel('/content/Sales-quarterly.xlsx', header=0, index_col=0)\n",
        "series = pd.DataFrame(series['Sales'])\n",
        "data = series.values\n",
        "# data split\n",
        "n_test = 4"
      ],
      "execution_count": 13,
      "outputs": []
    },
    {
      "cell_type": "markdown",
      "metadata": {
        "id": "E65NZReE761U"
      },
      "source": [
        "specify model configs"
      ]
    },
    {
      "cell_type": "code",
      "metadata": {
        "id": "R-a4DOlz75lD"
      },
      "source": [
        "t = None\n",
        "d = False\n",
        "s = 'add'\n",
        "p = 12\n",
        "b = False\n",
        "r = True\n",
        "cfg = [t,d,s,p,b,r]"
      ],
      "execution_count": 14,
      "outputs": []
    },
    {
      "cell_type": "code",
      "metadata": {
        "id": "rnlTS4e08AcT"
      },
      "source": [
        "train, test, predictions = walk_forward_validation(data,n_test,cfg)"
      ],
      "execution_count": 15,
      "outputs": []
    },
    {
      "cell_type": "markdown",
      "metadata": {
        "id": "Z0SOz43OQjPT"
      },
      "source": [
        "#Adding Graph"
      ]
    },
    {
      "cell_type": "markdown",
      "metadata": {
        "id": "NiWKEPCjQlz-"
      },
      "source": [
        "Reset columns"
      ]
    },
    {
      "cell_type": "code",
      "metadata": {
        "id": "cp5eS7DmEoZN"
      },
      "source": [
        "series.reset_index(level=0, inplace=True)"
      ],
      "execution_count": 16,
      "outputs": []
    },
    {
      "cell_type": "markdown",
      "metadata": {
        "id": "NH0vjmyKQuMQ"
      },
      "source": [
        "set x axis labels"
      ]
    },
    {
      "cell_type": "code",
      "metadata": {
        "colab": {
          "base_uri": "https://localhost:8080/"
        },
        "id": "M7929cxrQn-m",
        "outputId": "a57cd74c-470b-4291-bcd3-74e4f235f6f2"
      },
      "source": [
        "x_axis_label = []\n",
        "#dictionary to keep track of current year\n",
        "vis = {}\n",
        "vis[2017] = 0\n",
        "vis[2018] = 0\n",
        "vis[2019] = 0\n",
        "vis[2020] = 0\n",
        "for i in range(len(series)):\n",
        "  if vis[int(series.iloc[i,0])] == 0:\n",
        "    vis[int(series.iloc[i,0])] = 1\n",
        "    x_axis_label.append(str(series.iloc[i,0]))\n",
        "  else:\n",
        "    x_axis_label.append(' ')\n",
        "\n",
        "x_axis_label"
      ],
      "execution_count": 17,
      "outputs": [
        {
          "output_type": "execute_result",
          "data": {
            "text/plain": [
              "['2017',\n",
              " ' ',\n",
              " ' ',\n",
              " ' ',\n",
              " '2018',\n",
              " ' ',\n",
              " ' ',\n",
              " ' ',\n",
              " '2019',\n",
              " ' ',\n",
              " ' ',\n",
              " ' ',\n",
              " '2020',\n",
              " ' ',\n",
              " ' ',\n",
              " ' ']"
            ]
          },
          "metadata": {
            "tags": []
          },
          "execution_count": 17
        }
      ]
    },
    {
      "cell_type": "markdown",
      "metadata": {
        "id": "xpQdEMrqSIFB"
      },
      "source": [
        "separate dates for training and test data"
      ]
    },
    {
      "cell_type": "code",
      "metadata": {
        "colab": {
          "base_uri": "https://localhost:8080/"
        },
        "id": "21HJiAS5Q0jM",
        "outputId": "637777a8-bb77-4f24-c923-cbb0f2173633"
      },
      "source": [
        "dates_train = []\n",
        "for i in range(len(series)-n_test):\n",
        "  dates_train.append(str(series['OPP_CLOSING_YEAR'][i]) + ' - ' + str(i%4))\n",
        "\n",
        "dates_train"
      ],
      "execution_count": 18,
      "outputs": [
        {
          "output_type": "execute_result",
          "data": {
            "text/plain": [
              "['2017 - 0',\n",
              " '2017 - 1',\n",
              " '2017 - 2',\n",
              " '2017 - 3',\n",
              " '2018 - 0',\n",
              " '2018 - 1',\n",
              " '2018 - 2',\n",
              " '2018 - 3',\n",
              " '2019 - 0',\n",
              " '2019 - 1',\n",
              " '2019 - 2',\n",
              " '2019 - 3']"
            ]
          },
          "metadata": {
            "tags": []
          },
          "execution_count": 18
        }
      ]
    },
    {
      "cell_type": "code",
      "metadata": {
        "colab": {
          "base_uri": "https://localhost:8080/"
        },
        "id": "OyERAbE7Q2zC",
        "outputId": "37c50bdb-5c7a-4453-a27a-651a1f43e00f"
      },
      "source": [
        "dates_test = []\n",
        "for i in range(len(series)-n_test , len(series)):\n",
        "  dates_test.append(str(series['OPP_CLOSING_YEAR'][i]) + ' - ' + str(i%4))\n",
        "\n",
        "dates_test"
      ],
      "execution_count": 19,
      "outputs": [
        {
          "output_type": "execute_result",
          "data": {
            "text/plain": [
              "['2020 - 0', '2020 - 1', '2020 - 2', '2020 - 3']"
            ]
          },
          "metadata": {
            "tags": []
          },
          "execution_count": 19
        }
      ]
    },
    {
      "cell_type": "markdown",
      "metadata": {
        "id": "9_EUiWvX_GP-"
      },
      "source": [
        "Set prediction intervals for predictions"
      ]
    },
    {
      "cell_type": "code",
      "metadata": {
        "id": "-k-5m-10_ErM"
      },
      "source": [
        "confidence_upper = []\n",
        "confidence_lower = []\n",
        "for i in predictions:\n",
        "  confidence_upper.append(i+1.28*(array(predictions).std()))\n",
        "  confidence_lower.append(i-1.28*(array(predictions).std()))"
      ],
      "execution_count": 20,
      "outputs": []
    },
    {
      "cell_type": "markdown",
      "metadata": {
        "id": "o8iWqz93S5RW"
      },
      "source": [
        "Plot graph"
      ]
    },
    {
      "cell_type": "code",
      "metadata": {
        "colab": {
          "base_uri": "https://localhost:8080/",
          "height": 317
        },
        "id": "6MViDDtkSynG",
        "outputId": "fed7e336-bc3e-45c0-f4a8-bc28c4044b2d"
      },
      "source": [
        "plt.figure(figsize=(20,7))\n",
        "plt.plot(dates_train, train, color='yellow', label=\"Train\")\n",
        "plt.plot(dates_test, test, color='red', label=\"Test\")\n",
        "plt.plot(dates_test, predictions, color='blue', label=\"Predicted\")\n",
        "plt.legend(loc=\"upper left\")\n",
        "plt.fill_between(dates_test, confidence_upper, confidence_lower, alpha=0.2)\n",
        "plt.xticks(np.arange(len(x_axis_label)), x_axis_label)\n",
        "\n",
        "plt.show()"
      ],
      "execution_count": 21,
      "outputs": [
        {
          "output_type": "display_data",
          "data": {
            "image/png": "[encoded data removed]",
            "text/plain": [
              "<Figure size 1440x504 with 1 Axes>"
            ]
          },
          "metadata": {
            "tags": [],
            "needs_background": "light"
          }
        }
      ]
    },
    {
      "cell_type": "code",
      "metadata": {
        "id": "ceYQJEkzrJXD"
      },
      "source": [
        ""
      ],
      "execution_count": 21,
      "outputs": []
    }
  ]
}