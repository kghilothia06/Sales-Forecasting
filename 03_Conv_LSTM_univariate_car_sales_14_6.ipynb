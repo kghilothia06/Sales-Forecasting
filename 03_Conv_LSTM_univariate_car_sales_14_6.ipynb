{
  "nbformat": 4,
  "nbformat_minor": 0,
  "metadata": {
    "colab": {
      "name": "03_Conv_LSTM_univariate_car_sales_14_6.ipynb",
      "provenance": [],
      "authorship_tag": "ABX9TyOh/t2+j28R1DYHJ5zvdOzc",
      "include_colab_link": true
    },
    "kernelspec": {
      "name": "python3",
      "display_name": "Python 3"
    }
  },
  "cells": [
    {
      "cell_type": "markdown",
      "metadata": {
        "id": "view-in-github",
        "colab_type": "text"
      },
      "source": [
        "<a href=\"https://colab.research.google.com/github/kghilothia06/Time-Series-Forecasting/blob/main/03_Conv_LSTM_univariate_car_sales_14_6.ipynb\" target=\"_parent\"><img src=\"https://colab.research.google.com/assets/colab-badge.svg\" alt=\"Open In Colab\"/></a>"
      ]
    },
    {
      "cell_type": "markdown",
      "metadata": {
        "id": "7EnIpaKlnAe5"
      },
      "source": [
        "# evaluate convlstm for monthly and weekly sales dataset\r\n"
      ]
    },
    {
      "cell_type": "code",
      "metadata": {
        "id": "4kYh7IuNmt5T"
      },
      "source": [
        "#Import Libraries\r\n",
        "from math import sqrt\r\n",
        "from numpy import array\r\n",
        "from numpy import mean\r\n",
        "from numpy import std\r\n",
        "from pandas import DataFrame\r\n",
        "from pandas import concat\r\n",
        "from pandas import read_excel\r\n",
        "from sklearn.metrics import mean_squared_error\r\n",
        "from keras.models import Sequential\r\n",
        "from keras.layers import Dense\r\n",
        "from keras.layers import Flatten\r\n",
        "from keras.layers import ConvLSTM2D\r\n",
        "from matplotlib import pyplot\r\n"
      ],
      "execution_count": 1,
      "outputs": []
    },
    {
      "cell_type": "code",
      "metadata": {
        "id": "ZOM_JWRSm9xO"
      },
      "source": [
        "# split a univariate dataset into train/test sets\r\n",
        "def train_test_split(data, n_test):\r\n",
        "  return data[:-n_test], data[-n_test:]"
      ],
      "execution_count": 2,
      "outputs": []
    },
    {
      "cell_type": "code",
      "metadata": {
        "id": "yDoPohLwnG4A"
      },
      "source": [
        "# transform list into supervised learning format\r\n",
        "def series_to_supervised(data, n_in, n_out=1):\r\n",
        "  df = DataFrame(data)\r\n",
        "  cols = list()\r\n",
        "  # input sequence (t-n, ... t-1)\r\n",
        "  for i in range(n_in, 0, -1):\r\n",
        "    cols.append(df.shift(i))\r\n",
        "  # forecast sequence (t, t+1, ... t+n)\r\n",
        "  for i in range(0, n_out):\r\n",
        "    cols.append(df.shift(-i))\r\n",
        "  # put it all together\r\n",
        "  agg = concat(cols, axis=1)\r\n",
        "  # drop rows with NaN values\r\n",
        "  agg.dropna(inplace=True)\r\n",
        "  return agg.values\r\n"
      ],
      "execution_count": 3,
      "outputs": []
    },
    {
      "cell_type": "code",
      "metadata": {
        "id": "7OUhq2q5nMU7"
      },
      "source": [
        "# root mean squared error or rmse\r\n",
        "def measure_rmse(actual, predicted):\r\n",
        "  return sqrt(mean_squared_error(actual, predicted))\r\n"
      ],
      "execution_count": 4,
      "outputs": []
    },
    {
      "cell_type": "code",
      "metadata": {
        "id": "uHHdPpBxnPXE"
      },
      "source": [
        "# difference dataset\r\n",
        "def difference(data, interval):\r\n",
        "  return [data[i] - data[i - interval] for i in range(interval, len(data))]\r\n"
      ],
      "execution_count": 5,
      "outputs": []
    },
    {
      "cell_type": "code",
      "metadata": {
        "id": "JroB2Q5vnSyf"
      },
      "source": [
        "# fit a model\r\n",
        "def model_fit(train, config):\r\n",
        "  # unpack config\r\n",
        "  n_seq, n_steps, n_filters, n_kernel, n_nodes, n_epochs, n_batch = config\r\n",
        "  n_input = n_seq * n_steps\r\n",
        "  # prepare data\r\n",
        "  data = series_to_supervised(train, n_input)\r\n",
        "  train_x, train_y = data[:, :-1], data[:, -1]\r\n",
        "  train_x = train_x.reshape((train_x.shape[0], n_seq, 1, n_steps, 1))\r\n",
        "  # define model\r\n",
        "  model = Sequential()\r\n",
        "  model.add(ConvLSTM2D(filters=n_filters, kernel_size=(1,n_kernel), activation='relu',\r\n",
        "  input_shape=(n_seq, 1, n_steps, 1)))\r\n",
        "  model.add(Flatten())\r\n",
        "  model.add(Dense(n_nodes, activation='relu'))\r\n",
        "  model.add(Dense(1))\r\n",
        "  model.compile(loss='mse', optimizer='adam')\r\n",
        "  # fit\r\n",
        "  model.fit(train_x, train_y, epochs=n_epochs, batch_size=n_batch, verbose=0)\r\n",
        "  return model"
      ],
      "execution_count": 6,
      "outputs": []
    },
    {
      "cell_type": "code",
      "metadata": {
        "id": "T0PdlxoWn9TY"
      },
      "source": [
        "# forecast with a pre-fit model\r\n",
        "def model_predict(model, history, config):\r\n",
        "  # unpack config\r\n",
        "  n_seq, n_steps, _, _, _, _, _ = config\r\n",
        "  n_input = n_seq * n_steps\r\n",
        "  # prepare data\r\n",
        "  x_input = array(history[-n_input:]).reshape((1, n_seq, 1, n_steps, 1))\r\n",
        "  # forecast\r\n",
        "  yhat = model.predict(x_input, verbose=0)\r\n",
        "  return yhat[0]\r\n"
      ],
      "execution_count": 7,
      "outputs": []
    },
    {
      "cell_type": "code",
      "metadata": {
        "id": "hjjVFw4ioATS"
      },
      "source": [
        "# walk-forward validation for univariate data\r\n",
        "def walk_forward_validation(data, n_test, cfg):\r\n",
        "  predictions = list()\r\n",
        "  # split dataset\r\n",
        "  train, test = train_test_split(data, n_test)\r\n",
        "  # fit model\r\n",
        "  model = model_fit(train, cfg)\r\n",
        "  # seed history with training dataset\r\n",
        "  history = [x for x in train]\r\n",
        "  # step over each time-step in the test set\r\n",
        "  for i in range(len(test)):\r\n",
        "    # fit model and make forecast for history\r\n",
        "    yhat = model_predict(model, history, cfg)\r\n",
        "    # store forecast in list of predictions\r\n",
        "    predictions.append(yhat)\r\n",
        "    # add actual observation to history for the next loop\r\n",
        "    history.append(test[i])\r\n",
        "  # estimate prediction error\r\n",
        "  error = measure_rmse(test, predictions)\r\n",
        "  print(' > %.3f' % error)\r\n",
        "  return error"
      ],
      "execution_count": 8,
      "outputs": []
    },
    {
      "cell_type": "code",
      "metadata": {
        "id": "JZ4vnqsToDaf"
      },
      "source": [
        "# repeat evaluation of a config\r\n",
        "def repeat_evaluate(data, config, n_test, n_repeats=30):\r\n",
        "  # fit and evaluate the model n times\r\n",
        "  scores = [walk_forward_validation(data, n_test, config) for _ in range(n_repeats)]\r\n",
        "  return scores\r\n"
      ],
      "execution_count": 9,
      "outputs": []
    },
    {
      "cell_type": "code",
      "metadata": {
        "id": "qro2jt4xoLDO"
      },
      "source": [
        "# summarize model performance\r\n",
        "def summarize_scores(name, scores):\r\n",
        "  # print a summary\r\n",
        "  scores_m, score_std = mean(scores), std(scores)\r\n",
        "  print('%s: %.3f RMSE (+/- %.3f)' % (name, scores_m, score_std))\r\n",
        "  # box and whisker plot\r\n",
        "  pyplot.boxplot(scores)\r\n",
        "  pyplot.show()\r\n"
      ],
      "execution_count": 10,
      "outputs": []
    },
    {
      "cell_type": "markdown",
      "metadata": {
        "id": "KtGC5QzYoRUT"
      },
      "source": [
        "Load quarterly and monthly datasets"
      ]
    },
    {
      "cell_type": "code",
      "metadata": {
        "colab": {
          "base_uri": "https://localhost:8080/",
          "height": 803
        },
        "id": "N-0MbFCdoOez",
        "outputId": "b708c118-6ed7-428c-f566-8dea9ef82b7e"
      },
      "source": [
        "series = read_excel('/content/Sales-quarterly.xlsx', header=0, index_col=0)\r\n",
        "series = DataFrame(series['Sales'])\r\n",
        "data = series.values\r\n",
        "# data split\r\n",
        "n_test = 4\r\n",
        "# define config\r\n",
        "# n seq: The number of subsequences within a sample.\r\n",
        "# n steps: The number of time steps within each subsequence.\r\n",
        "# n filters: The number of parallel filters.\r\n",
        "# n kernel: The number of time steps considered in each read of the input sequence.\r\n",
        "# n nodes: The number of LSTM units to use in the hidden layer.\r\n",
        "# n epochs: The number of times to expose the model to the whole training dataset.\r\n",
        "# n batch: The number of samples within an epoch after which the weights are updated.\r\n",
        "config = [1, 4, 64, 1, 16, 20, 12]\r\n",
        "# grid search\r\n",
        "scores = repeat_evaluate(data, config, n_test)\r\n",
        "# summarize scores\r\n",
        "summarize_scores('convlstm', scores)\r\n"
      ],
      "execution_count": 11,
      "outputs": [
        {
          "output_type": "stream",
          "text": [
            " > 332553.660\n",
            " > 296133.758\n",
            " > 266876.179\n",
            " > 333175.638\n",
            " > 259930.662\n",
            " > 285596.133\n",
            " > 284922.945\n",
            " > 294566.621\n",
            " > 301251.210\n",
            " > 331370.914\n",
            " > 244362.718\n",
            " > 308839.608\n",
            " > 347152.070\n",
            " > 282349.018\n",
            " > 333872.968\n",
            " > 328184.457\n",
            " > 304859.735\n",
            " > 313476.729\n",
            " > 320670.391\n",
            " > 265741.619\n",
            " > 299789.923\n",
            " > 295794.759\n",
            " > 331418.873\n",
            " > 308685.306\n",
            " > 317261.808\n",
            " > 301226.138\n",
            " > 305825.764\n",
            " > 311276.480\n",
            " > 320941.421\n",
            " > 303351.407\n",
            "convlstm: 304381.964 RMSE (+/- 23943.734)\n"
          ],
          "name": "stdout"
        },
        {
          "output_type": "display_data",
          "data": {
            "image/png": "[encoded data removed]",
            "text/plain": [
              "<Figure size 432x288 with 1 Axes>"
            ]
          },
          "metadata": {
            "tags": [],
            "needs_background": "light"
          }
        }
      ]
    },
    {
      "cell_type": "code",
      "metadata": {
        "colab": {
          "base_uri": "https://localhost:8080/",
          "height": 803
        },
        "id": "vI8iZ0nwpIdL",
        "outputId": "6e7bec32-95dd-4a50-f67a-121fbf92dfb0"
      },
      "source": [
        "series = read_excel('/content/Sales-monthly.xlsx', header=0, index_col=0)\r\n",
        "series = DataFrame(series['Sales'])\r\n",
        "data = series.values\r\n",
        "# data split\r\n",
        "n_test = 12\r\n",
        "# define config\r\n",
        "# n seq: The number of subsequences within a sample.\r\n",
        "# n steps: The number of time steps within each subsequence.\r\n",
        "# n filters: The number of parallel filters.\r\n",
        "# n kernel: The number of time steps considered in each read of the input sequence.\r\n",
        "# n nodes: The number of LSTM units to use in the hidden layer.\r\n",
        "# n epochs: The number of times to expose the model to the whole training dataset.\r\n",
        "# n batch: The number of samples within an epoch after which the weights are updated.\r\n",
        "config = [3, 4, 64, 3, 16, 20, 12]\r\n",
        "# grid search\r\n",
        "scores = repeat_evaluate(data, config, n_test)\r\n",
        "# summarize scores\r\n",
        "summarize_scores('convlstm', scores)\r\n"
      ],
      "execution_count": 12,
      "outputs": [
        {
          "output_type": "stream",
          "text": [
            " > 112511.471\n",
            " > 154898.253\n",
            " > 157885.213\n",
            " > 155453.056\n",
            " > 121816.649\n",
            " > 126424.393\n",
            " > 146886.831\n",
            " > 159796.386\n",
            " > 146879.843\n",
            " > 150471.609\n",
            " > 127883.805\n",
            " > 129680.211\n",
            " > 131458.633\n",
            " > 136505.584\n",
            " > 135680.318\n",
            " > 138304.140\n",
            " > 107887.945\n",
            " > 139544.832\n",
            " > 148391.275\n",
            " > 122283.049\n",
            " > 139479.637\n",
            " > 143487.455\n",
            " > 134579.768\n",
            " > 146858.904\n",
            " > 135125.372\n",
            " > 129995.513\n",
            " > 144522.407\n",
            " > 145805.218\n",
            " > 129011.159\n",
            " > 133237.803\n",
            "convlstm: 137758.224 RMSE (+/- 12524.338)\n"
          ],
          "name": "stdout"
        },
        {
          "output_type": "display_data",
          "data": {
            "image/png": "[encoded data removed]",
            "text/plain": [
              "<Figure size 432x288 with 1 Axes>"
            ]
          },
          "metadata": {
            "tags": [],
            "needs_background": "light"
          }
        }
      ]
    },
    {
      "cell_type": "code",
      "metadata": {
        "id": "lv2qae8Spoc9"
      },
      "source": [
        ""
      ],
      "execution_count": 12,
      "outputs": []
    }
  ]
}