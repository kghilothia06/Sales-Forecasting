{
  "nbformat": 4,
  "nbformat_minor": 0,
  "metadata": {
    "colab": {
      "name": "03_stacked_lstm_univariate_weekly_car_sales_9_2.ipynb",
      "provenance": [],
      "authorship_tag": "ABX9TyNCrlyfIQnEaWE7u90Ro7uv",
      "include_colab_link": true
    },
    "kernelspec": {
      "name": "python3",
      "display_name": "Python 3"
    }
  },
  "cells": [
    {
      "cell_type": "markdown",
      "metadata": {
        "id": "view-in-github",
        "colab_type": "text"
      },
      "source": [
        "<a href=\"https://colab.research.google.com/github/kghilothia06/Time-Series-Forecasting/blob/main/03_stacked_lstm_univariate_weekly_car_sales_9_2.ipynb\" target=\"_parent\"><img src=\"https://colab.research.google.com/assets/colab-badge.svg\" alt=\"Open In Colab\"/></a>"
      ]
    },
    {
      "cell_type": "markdown",
      "metadata": {
        "id": "L7HKcFu_-ABD"
      },
      "source": [
        "# Stacked LSTM for weekly sales prediction"
      ]
    },
    {
      "cell_type": "markdown",
      "metadata": {
        "id": "AiwP05kU-HWL"
      },
      "source": [
        "Import Libraries"
      ]
    },
    {
      "cell_type": "code",
      "metadata": {
        "id": "goln7jUz9fK8"
      },
      "source": [
        "import pandas as pd\r\n",
        "from numpy import array\r\n",
        "from keras.models import Sequential\r\n",
        "from keras.layers import LSTM\r\n",
        "from keras.layers import Dense"
      ],
      "execution_count": 1,
      "outputs": []
    },
    {
      "cell_type": "markdown",
      "metadata": {
        "id": "jOBa5T-5-Ncy"
      },
      "source": [
        "Function to split a univariate sequence"
      ]
    },
    {
      "cell_type": "code",
      "metadata": {
        "id": "0v-fokzn-JBk"
      },
      "source": [
        "def split_sequence(sequence, n_steps):\r\n",
        "\tX, y = list(), list()\r\n",
        "\tfor i in range(len(sequence)):\r\n",
        "\t\t# find the end of this pattern\r\n",
        "\t\tend_ix = i + n_steps\r\n",
        "\t\t# check if we are beyond the sequence\r\n",
        "\t\tif end_ix > len(sequence)-1:\r\n",
        "\t\t\tbreak\r\n",
        "\t\t# gather input and output parts of the pattern\r\n",
        "\t\tseq_x, seq_y = sequence[i:end_ix], sequence[end_ix]\r\n",
        "\t\tX.append(seq_x)\r\n",
        "\t\ty.append(seq_y)\r\n",
        "\treturn array(X), array(y)\r\n"
      ],
      "execution_count": 2,
      "outputs": []
    },
    {
      "cell_type": "markdown",
      "metadata": {
        "id": "DSWtZlRS-RHW"
      },
      "source": [
        "Read dataset using pandas"
      ]
    },
    {
      "cell_type": "code",
      "metadata": {
        "id": "qdGmyPrn-N6p"
      },
      "source": [
        "df = pd.read_excel('/content/Sales-weekly.xlsx', header=0, index_col=0)"
      ],
      "execution_count": 3,
      "outputs": []
    },
    {
      "cell_type": "markdown",
      "metadata": {
        "id": "DHPebah4-lMY"
      },
      "source": [
        "Data Preparation for Model Training\r\n"
      ]
    },
    {
      "cell_type": "code",
      "metadata": {
        "id": "CJau51XS-Utr"
      },
      "source": [
        "#Convert 'Sales' column to a list\r\n",
        "raw_seq=[]\r\n",
        "\r\n",
        "for i in df['Sales']:\r\n",
        "  raw_seq.append(i)"
      ],
      "execution_count": 6,
      "outputs": []
    },
    {
      "cell_type": "code",
      "metadata": {
        "id": "9jyKacM4-U_S"
      },
      "source": [
        "# choose a number of time steps\r\n",
        "n_steps = 3"
      ],
      "execution_count": 8,
      "outputs": []
    },
    {
      "cell_type": "code",
      "metadata": {
        "id": "a31pAnou-pUf"
      },
      "source": [
        "# split into samples\r\n",
        "X, y = split_sequence(raw_seq, n_steps)"
      ],
      "execution_count": 9,
      "outputs": []
    },
    {
      "cell_type": "code",
      "metadata": {
        "id": "zARSrWsR-xX0"
      },
      "source": [
        "# taking all the data except that of 53rd week of December 2020 as training data\r\n",
        "X_train = X[:len(X)-1]\r\n",
        "y_train = y[:len(y)-1]"
      ],
      "execution_count": 10,
      "outputs": []
    },
    {
      "cell_type": "code",
      "metadata": {
        "id": "47Yh4e7e-zfB"
      },
      "source": [
        "# test sample would be data corresponding to 53rd week of December 2020\r\n",
        "X_test = X[len(X)-1]\r\n",
        "y_test = y[len(y)-1] "
      ],
      "execution_count": 11,
      "outputs": []
    },
    {
      "cell_type": "code",
      "metadata": {
        "id": "oxtrJxyn-396"
      },
      "source": [
        "# reshape from [samples, timesteps] into [samples, timesteps, features]\r\n",
        "n_features = 1\r\n",
        "X_train = X_train.reshape((X_train.shape[0], X_train.shape[1], n_features))"
      ],
      "execution_count": 12,
      "outputs": []
    },
    {
      "cell_type": "markdown",
      "metadata": {
        "id": "fA7lFxDH_Des"
      },
      "source": [
        "Define Model"
      ]
    },
    {
      "cell_type": "code",
      "metadata": {
        "id": "YQlz_SPO-78h"
      },
      "source": [
        "model = Sequential()\r\n",
        "model.add(LSTM(50, activation='relu', return_sequences=True, input_shape=(n_steps, n_features)))\r\n",
        "model.add(LSTM(50, activation='relu'))\r\n",
        "model.add(Dense(1))\r\n",
        "model.compile(optimizer='adam', loss='mse')"
      ],
      "execution_count": 13,
      "outputs": []
    },
    {
      "cell_type": "code",
      "metadata": {
        "colab": {
          "base_uri": "https://localhost:8080/"
        },
        "id": "2LNAJNzy_LXQ",
        "outputId": "09fa5503-3d33-4c72-a917-a70cd6862f52"
      },
      "source": [
        "# fit model\r\n",
        "model.fit(X_train, y_train, epochs=200, verbose=0)"
      ],
      "execution_count": 14,
      "outputs": [
        {
          "output_type": "execute_result",
          "data": {
            "text/plain": [
              "<tensorflow.python.keras.callbacks.History at 0x7f4054fc6b38>"
            ]
          },
          "metadata": {
            "tags": []
          },
          "execution_count": 14
        }
      ]
    },
    {
      "cell_type": "markdown",
      "metadata": {
        "id": "McuGrXlx_P77"
      },
      "source": [
        "Make Prediction"
      ]
    },
    {
      "cell_type": "code",
      "metadata": {
        "id": "aktfSGGG_NRq"
      },
      "source": [
        "X_test = X_test.reshape((1, n_steps, n_features))"
      ],
      "execution_count": 15,
      "outputs": []
    },
    {
      "cell_type": "code",
      "metadata": {
        "colab": {
          "base_uri": "https://localhost:8080/"
        },
        "id": "FYqXWp7x_RaC",
        "outputId": "1070ddf3-9b19-4b7f-90a7-298c8a2665ad"
      },
      "source": [
        "yhat = model.predict(X_test, verbose=0)\r\n",
        "print('predicted value : ' + str(yhat[0][0]))\r\n",
        "print('actual value : ' + str(y_test))"
      ],
      "execution_count": 16,
      "outputs": [
        {
          "output_type": "stream",
          "text": [
            "predicted value : 90233.28\n",
            "actual value : 185158.73\n"
          ],
          "name": "stdout"
        }
      ]
    },
    {
      "cell_type": "code",
      "metadata": {
        "id": "wDEI1_ay_TDT"
      },
      "source": [
        ""
      ],
      "execution_count": null,
      "outputs": []
    }
  ]
}