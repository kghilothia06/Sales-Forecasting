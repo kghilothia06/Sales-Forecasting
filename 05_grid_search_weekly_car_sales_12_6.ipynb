{
  "nbformat": 4,
  "nbformat_minor": 0,
  "metadata": {
    "kernelspec": {
      "display_name": "Python 3",
      "language": "python",
      "name": "python3"
    },
    "language_info": {
      "codemirror_mode": {
        "name": "ipython",
        "version": 3
      },
      "file_extension": ".py",
      "mimetype": "text/x-python",
      "name": "python",
      "nbconvert_exporter": "python",
      "pygments_lexer": "ipython3",
      "version": "3.7.1"
    },
    "colab": {
      "name": "05_grid_search_weekly_car_sales_12_6.ipynb",
      "provenance": [],
      "toc_visible": true
    },
    "accelerator": "GPU"
  },
  "cells": [
    {
      "cell_type": "markdown",
      "metadata": {
        "id": "YpXprgkLWMWP"
      },
      "source": [
        "# Grid Search Framework for ETS models for sales prediction"
      ]
    },
    {
      "cell_type": "markdown",
      "metadata": {
        "id": "mFuhsfn8WMWS"
      },
      "source": [
        "Import Libraries"
      ]
    },
    {
      "cell_type": "code",
      "metadata": {
        "colab": {
          "base_uri": "https://localhost:8080/"
        },
        "id": "laZNXjXFWMWT",
        "outputId": "f865a31a-7d87-4100-b1d1-028d4a2f83e9"
      },
      "source": [
        "from math import sqrt\n",
        "from multiprocessing import cpu_count\n",
        "from joblib import Parallel\n",
        "from joblib import delayed\n",
        "from warnings import catch_warnings\n",
        "from warnings import filterwarnings\n",
        "from statsmodels.tsa.holtwinters import ExponentialSmoothing\n",
        "from sklearn.metrics import mean_squared_error\n",
        "from pandas import read_excel\n",
        "from numpy import array"
      ],
      "execution_count": 5,
      "outputs": [
        {
          "output_type": "stream",
          "text": [
            "/usr/local/lib/python3.6/dist-packages/statsmodels/tools/_testing.py:19: FutureWarning: pandas.util.testing is deprecated. Use the functions in the public API at pandas.testing instead.\n",
            "  import pandas.util.testing as tm\n"
          ],
          "name": "stderr"
        }
      ]
    },
    {
      "cell_type": "markdown",
      "metadata": {
        "id": "O7clvVKKWMWU"
      },
      "source": [
        "one-step Holt Winter’s Exponential Smoothing forecast"
      ]
    },
    {
      "cell_type": "code",
      "metadata": {
        "id": "wS82jtx-WMWe"
      },
      "source": [
        "def exp_smoothing_forecast(history, config):\n",
        "    t,d,s,p,b,r = config\n",
        "    # define model\n",
        "    history = array(history)\n",
        "    model = ExponentialSmoothing(history, trend=t, damped=d, seasonal=s, seasonal_periods=p)\n",
        "    # fit model\n",
        "    model_fit = model.fit(optimized=True, use_boxcox=b, remove_bias=r)\n",
        "    # make one step forecast\n",
        "    yhat = model_fit.predict(len(history), len(history))\n",
        "    return yhat[0]"
      ],
      "execution_count": 6,
      "outputs": []
    },
    {
      "cell_type": "markdown",
      "metadata": {
        "id": "5ebdn80iWMWf"
      },
      "source": [
        "root mean squared error or rmse"
      ]
    },
    {
      "cell_type": "code",
      "metadata": {
        "id": "eqedTTt3WMWf"
      },
      "source": [
        "def measure_rmse(actual, predicted):\n",
        "    return sqrt(mean_squared_error(actual, predicted))"
      ],
      "execution_count": 7,
      "outputs": []
    },
    {
      "cell_type": "markdown",
      "metadata": {
        "id": "BCtKWENeWMWf"
      },
      "source": [
        "split a univariate dataset into train/test sets"
      ]
    },
    {
      "cell_type": "code",
      "metadata": {
        "id": "mgUl1tKyWMWg"
      },
      "source": [
        "def train_test_split(data, n_test):\n",
        "    return data[:-n_test], data[-n_test:]"
      ],
      "execution_count": 8,
      "outputs": []
    },
    {
      "cell_type": "markdown",
      "metadata": {
        "id": "7EwhWo-7WMWg"
      },
      "source": [
        "walk-forward validation for univariate data"
      ]
    },
    {
      "cell_type": "code",
      "metadata": {
        "id": "ffy0nkmCWMWh"
      },
      "source": [
        "def walk_forward_validation(data, n_test, cfg):\n",
        "    predictions = list()\n",
        "    # split dataset\n",
        "    train, test = train_test_split(data, n_test)\n",
        "    # seed history with training dataset\n",
        "    history = [x for x in train]\n",
        "    # step over each time-step in the test set\n",
        "    for i in range(len(test)):\n",
        "        # fit model and make forecast for history\n",
        "        yhat = exp_smoothing_forecast(history, cfg)\n",
        "        # store forecast in list of predictions\n",
        "        predictions.append(yhat)\n",
        "        # add actual observation to history for the next loop\n",
        "        history.append(test[i])\n",
        "    # estimate prediction error\n",
        "    error = measure_rmse(test, predictions)\n",
        "    return error\n"
      ],
      "execution_count": 9,
      "outputs": []
    },
    {
      "cell_type": "markdown",
      "metadata": {
        "id": "j7Fo5VEYWMWh"
      },
      "source": [
        "score a model, return None on failure"
      ]
    },
    {
      "cell_type": "code",
      "metadata": {
        "id": "RiiVxwkSWMWh"
      },
      "source": [
        "def score_model(data, n_test, cfg, debug=False):\n",
        "    result = None\n",
        "    # convert config to a key\n",
        "    key = str(cfg)\n",
        "    # show all warnings and fail on exception if debugging\n",
        "    if debug:\n",
        "        result = walk_forward_validation(data, n_test, cfg)\n",
        "    else:\n",
        "        # one failure during model validation suggests an unstable config\n",
        "        try:\n",
        "            # never show warnings when grid searching, too noisy\n",
        "            with catch_warnings():\n",
        "                filterwarnings(\"ignore\")\n",
        "                result = walk_forward_validation(data, n_test, cfg)\n",
        "        except:\n",
        "            error = None\n",
        "    # check for an interesting result\n",
        "    if result is not None:\n",
        "        print(' > Model[%s] %.3f' % (key, result))\n",
        "    return (key, result)"
      ],
      "execution_count": 10,
      "outputs": []
    },
    {
      "cell_type": "markdown",
      "metadata": {
        "id": "KqsUt2tKWMWi"
      },
      "source": [
        "grid search configs"
      ]
    },
    {
      "cell_type": "code",
      "metadata": {
        "id": "EY932hiHWMWi"
      },
      "source": [
        "def grid_search(data, cfg_list, n_test, parallel=True):\n",
        "    scores = None\n",
        "    if parallel:\n",
        "        # execute configs in parallel\n",
        "        executor = Parallel(n_jobs=cpu_count(), backend='multiprocessing')\n",
        "        tasks = (delayed(score_model)(data, n_test, cfg) for cfg in cfg_list)\n",
        "        scores = executor(tasks)\n",
        "    else:\n",
        "        scores = [score_model(data, n_test, cfg) for cfg in cfg_list]\n",
        "    # remove empty results\n",
        "    scores = [r for r in scores if r[1] != None]\n",
        "    # sort configs by error, asc\n",
        "    scores.sort(key=lambda tup: tup[1])\n",
        "    return scores\n"
      ],
      "execution_count": 11,
      "outputs": []
    },
    {
      "cell_type": "markdown",
      "metadata": {
        "id": "GO8zwMEvWMWj"
      },
      "source": [
        "create a set of exponential smoothing configs to try"
      ]
    },
    {
      "cell_type": "code",
      "metadata": {
        "id": "K3n6FWh-WMWj"
      },
      "source": [
        "def exp_smoothing_configs(seasonal=[None]):\n",
        "    models = list()\n",
        "    # define config lists\n",
        "    t_params = ['add', 'mul', None]\n",
        "    d_params = [True, False]\n",
        "    s_params = ['add', 'mul', None]\n",
        "    p_params = seasonal\n",
        "    b_params = [True, False]\n",
        "    r_params = [True, False]\n",
        "    # create config instances\n",
        "    for t in t_params:\n",
        "        for d in d_params:\n",
        "            for s in s_params:\n",
        "                for p in p_params:\n",
        "                    for b in b_params:\n",
        "                        for r in r_params:\n",
        "                            cfg = [t,d,s,p,b,r]\n",
        "                            models.append(cfg)\n",
        "    return models\n"
      ],
      "execution_count": 12,
      "outputs": []
    },
    {
      "cell_type": "code",
      "metadata": {
        "colab": {
          "base_uri": "https://localhost:8080/"
        },
        "id": "oUPCRFhmWMWj",
        "outputId": "d5758912-b306-4412-8116-d2750f05e263"
      },
      "source": [
        "if __name__ == '__main__':\n",
        "    # load dataset\n",
        "    series = read_excel('/content/Sales-weekly.xlsx', header=0, index_col=0)\n",
        "    data = series.values\n",
        "    # data split\n",
        "    n_test = 45\n",
        "    # model configs\n",
        "    cfg_list = exp_smoothing_configs(seasonal=[0,6,12])\n",
        "    # grid search\n",
        "    scores = grid_search(data[:,0], cfg_list, n_test)\n",
        "    print('done')\n",
        "    # list top 3 configs\n",
        "    for cfg, error in scores[:3]:\n",
        "        print(cfg, error)"
      ],
      "execution_count": 13,
      "outputs": [
        {
          "output_type": "stream",
          "text": [
            " > Model[['add', True, 'add', 6, True, True]] 43994.903\n",
            " > Model[['add', True, 'add', 6, True, False]] 47518.306\n",
            " > Model[['add', True, 'mul', 6, True, False]] 47490.515\n",
            " > Model[['add', True, 'mul', 6, True, True]] 44008.216\n",
            " > Model[['add', True, None, 0, True, True]] 43903.285\n",
            " > Model[['add', True, None, 0, True, False]] 47721.982\n",
            " > Model[['add', True, None, 0, False, True]] 43894.620\n",
            " > Model[['add', True, None, 0, False, False]] 43893.837\n",
            " > Model[['add', True, None, 6, True, True]] 43903.285\n",
            " > Model[['add', True, None, 6, True, False]] 47721.982\n",
            " > Model[['add', True, None, 6, False, False]] 43893.837\n",
            " > Model[['add', True, None, 6, False, True]] 43894.620\n",
            " > Model[['add', True, None, 12, True, True]] 43903.285\n",
            " > Model[['add', True, None, 12, True, False]] 47721.982\n",
            " > Model[['add', True, None, 12, False, True]] 43894.620\n",
            " > Model[['add', True, None, 12, False, False]] 43893.837\n",
            " > Model[['add', False, 'add', 6, True, True]] 42806.811\n",
            " > Model[['add', False, 'add', 6, True, False]] 45908.433\n",
            " > Model[['add', False, 'add', 6, False, False]] 45094.948\n",
            " > Model[['add', False, 'add', 6, False, True]] 45171.761\n",
            " > Model[['add', False, 'add', 12, True, True]] 45824.589\n",
            " > Model[['add', False, 'add', 12, True, False]] 48433.343\n",
            " > Model[['add', False, 'add', 12, False, True]] 45706.327\n",
            " > Model[['add', False, 'add', 12, False, False]] 45605.812\n",
            " > Model[['add', False, 'mul', 6, True, True]] 42818.859\n",
            " > Model[['add', False, 'mul', 6, True, False]] 46111.301\n",
            " > Model[['add', False, 'mul', 6, False, True]] 49213.485\n",
            " > Model[['add', False, 'mul', 6, False, False]] 48609.562\n",
            " > Model[['add', False, 'mul', 12, True, True]] 45927.421\n",
            " > Model[['add', False, 'mul', 12, True, False]] 48223.381\n",
            " > Model[['add', False, 'mul', 12, False, True]] 54835.715\n",
            " > Model[['add', False, 'mul', 12, False, False]] 52228.011\n",
            " > Model[['add', False, None, 0, True, True]] 43305.255\n",
            " > Model[['add', False, None, 0, True, False]] 46047.777\n",
            " > Model[['add', False, None, 0, False, True]] 45145.490\n",
            " > Model[['add', False, None, 0, False, False]] 44832.240\n",
            " > Model[['add', False, None, 6, True, True]] 43305.255\n",
            " > Model[['add', False, None, 6, True, False]] 46047.777\n",
            " > Model[['add', False, None, 6, False, True]] 45145.490\n",
            " > Model[['add', False, None, 6, False, False]] 44832.240\n",
            " > Model[['add', False, None, 12, True, True]] 43305.255\n",
            " > Model[['add', False, None, 12, True, False]] 46047.777\n",
            " > Model[['add', False, None, 12, False, True]] 45145.490\n",
            " > Model[['add', False, None, 12, False, False]] 44832.240\n",
            " > Model[['mul', True, 'add', 6, False, True]] 52451.433\n",
            " > Model[['mul', True, 'add', 6, False, False]] 52505.607\n",
            " > Model[['mul', True, 'add', 12, True, True]] 45872.126\n",
            " > Model[['mul', True, 'add', 12, True, False]] 48430.168\n",
            " > Model[['mul', True, 'add', 12, False, True]] 63283.646\n",
            " > Model[['mul', True, 'add', 12, False, False]] 63228.426\n",
            " > Model[['mul', True, 'mul', 6, True, True]] 14777122327.553\n",
            " > Model[['mul', True, 'mul', 6, True, False]] 47487.578\n",
            " > Model[['mul', True, 'mul', 6, False, True]] 46807.779\n",
            " > Model[['mul', True, 'mul', 6, False, False]] 46418.217\n",
            " > Model[['mul', True, 'mul', 12, True, True]] 45789.408\n",
            " > Model[['mul', True, 'mul', 12, True, False]] 48279.607\n",
            " > Model[['mul', True, 'mul', 12, False, True]] 49161.266\n",
            " > Model[['mul', True, 'mul', 12, False, False]] 47543.764\n",
            " > Model[['mul', True, None, 0, False, True]] 43686.458\n",
            " > Model[['mul', True, None, 0, False, False]] 44675.815\n",
            " > Model[['mul', True, None, 6, False, True]] 43686.458\n",
            " > Model[['mul', True, None, 6, False, False]] 44675.815\n",
            " > Model[['mul', True, None, 12, False, True]] 43686.458\n",
            " > Model[['mul', True, None, 12, False, False]] 44675.815\n",
            " > Model[['mul', False, 'add', 12, True, True]] 45872.126\n",
            " > Model[['mul', False, 'add', 12, True, False]] 48430.168\n",
            " > Model[['mul', False, 'mul', 12, True, True]] 45981.267\n",
            " > Model[['mul', False, 'mul', 12, True, False]] 48219.899\n",
            " > Model[['mul', False, 'mul', 12, False, True]] 352998.298\n",
            " > Model[['mul', False, 'mul', 12, False, False]] 319969.014\n",
            " > Model[['mul', False, None, 0, True, True]] 43448.598\n",
            " > Model[['mul', False, None, 0, True, False]] 46163.781\n",
            " > Model[['mul', False, None, 0, False, True]] 37527.585\n",
            " > Model[['mul', False, None, 0, False, False]] 39898.758\n",
            " > Model[['mul', False, None, 6, True, True]] 43448.598\n",
            " > Model[['mul', False, None, 6, True, False]] 46163.781\n",
            " > Model[['mul', False, None, 6, False, True]] 37527.585\n",
            " > Model[['mul', False, None, 6, False, False]] 39898.758\n",
            " > Model[['mul', False, None, 12, True, True]] 43448.598\n",
            " > Model[['mul', False, None, 12, True, False]] 46163.781\n",
            " > Model[['mul', False, None, 12, False, True]] 37527.585\n",
            " > Model[['mul', False, None, 12, False, False]] 39898.758\n",
            " > Model[[None, False, 'add', 6, True, True]] 43156.195\n",
            " > Model[[None, False, 'mul', 6, True, True]] 43126.900\n",
            " > Model[[None, False, 'add', 6, True, False]] 46864.815\n",
            " > Model[[None, False, 'mul', 6, True, False]] 46834.303\n",
            " > Model[[None, False, 'add', 6, False, True]] 44348.588\n",
            " > Model[[None, False, 'add', 6, False, False]] 44123.962\n",
            " > Model[[None, False, 'mul', 6, False, True]] 44543.857\n",
            " > Model[[None, False, 'add', 12, True, True]] 43374.850\n",
            " > Model[[None, False, 'mul', 6, False, False]] 44365.076\n",
            " > Model[[None, False, 'add', 12, True, False]] 47015.383\n",
            " > Model[[None, False, 'mul', 12, True, True]] 43248.000\n",
            " > Model[[None, False, 'add', 12, False, True]] 45878.817\n",
            " > Model[[None, False, 'mul', 12, True, False]] 46905.632\n",
            " > Model[[None, False, 'add', 12, False, False]] 45329.048\n",
            " > Model[[None, False, None, 6, True, True]] 43399.178\n",
            " > Model[[None, False, None, 6, True, False]] 47009.680\n",
            " > Model[[None, False, None, 6, False, True]] 43998.415\n",
            " > Model[[None, False, 'mul', 12, False, True]] 48566.710\n",
            " > Model[[None, False, None, 6, False, False]] 43999.690\n",
            " > Model[[None, False, None, 12, True, True]] 43399.178\n",
            " > Model[[None, False, None, 12, True, False]] 47009.680\n",
            " > Model[[None, False, None, 12, False, True]] 43998.415\n",
            " > Model[[None, False, 'mul', 12, False, False]] 48129.968\n",
            " > Model[[None, False, None, 12, False, False]] 43999.690\n",
            " > Model[[None, False, None, 0, True, True]] 43399.178\n",
            " > Model[[None, False, None, 0, True, False]] 47009.680\n",
            " > Model[[None, False, None, 0, False, True]] 43998.415\n",
            " > Model[[None, False, None, 0, False, False]] 43999.690\n",
            "done\n",
            "['mul', False, None, 0, False, True] 37527.585274247154\n",
            "['mul', False, None, 6, False, True] 37527.585274247154\n",
            "['mul', False, None, 12, False, True] 37527.585274247154\n"
          ],
          "name": "stdout"
        }
      ]
    },
    {
      "cell_type": "code",
      "metadata": {
        "id": "LRWR2noapL4h"
      },
      "source": [
        ""
      ],
      "execution_count": 13,
      "outputs": []
    }
  ]
}